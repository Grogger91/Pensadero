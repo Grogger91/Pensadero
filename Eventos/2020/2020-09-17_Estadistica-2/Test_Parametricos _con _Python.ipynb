{
 "cells": [
  {
   "cell_type": "markdown",
   "metadata": {},
   "source": [
    "# TEST PARAMÉTRICOS CON PYTHON"
   ]
  },
  {
   "cell_type": "markdown",
   "metadata": {},
   "source": [
    "Importando librerías necesarias"
   ]
  },
  {
   "cell_type": "code",
   "execution_count": 1,
   "metadata": {},
   "outputs": [],
   "source": [
    "# librerías de apoyo\n",
    "import pandas as pd\n",
    "import numpy as np\n",
    "import math\n",
    "from sklearn.datasets import load_boston\n",
    "# librerías especializadas\n",
    "from scipy import stats\n",
    "import statsmodels.api as sm\n",
    "#librerías de visualización\n",
    "import matplotlib.pyplot as plt\n",
    "%matplotlib inline\n",
    "import seaborn as sns\n",
    "import warnings"
   ]
  },
  {
   "cell_type": "code",
   "execution_count": 2,
   "metadata": {},
   "outputs": [],
   "source": [
    "warnings.filterwarnings(\"ignore\")\n",
    "pd.set_option('max_columns', 50)\n",
    "pd.set_option('max_rows', 300)"
   ]
  },
  {
   "cell_type": "markdown",
   "metadata": {},
   "source": [
    "Carga de datos"
   ]
  },
  {
   "cell_type": "code",
   "execution_count": 3,
   "metadata": {},
   "outputs": [
    {
     "name": "stdout",
     "output_type": "stream",
     "text": [
      ".. _boston_dataset:\n",
      "\n",
      "Boston house prices dataset\n",
      "---------------------------\n",
      "\n",
      "**Data Set Characteristics:**  \n",
      "\n",
      "    :Number of Instances: 506 \n",
      "\n",
      "    :Number of Attributes: 13 numeric/categorical predictive. Median Value (attribute 14) is usually the target.\n",
      "\n",
      "    :Attribute Information (in order):\n",
      "        - CRIM     per capita crime rate by town\n",
      "        - ZN       proportion of residential land zoned for lots over 25,000 sq.ft.\n",
      "        - INDUS    proportion of non-retail business acres per town\n",
      "        - CHAS     Charles River dummy variable (= 1 if tract bounds river; 0 otherwise)\n",
      "        - NOX      nitric oxides concentration (parts per 10 million)\n",
      "        - RM       average number of rooms per dwelling\n",
      "        - AGE      proportion of owner-occupied units built prior to 1940\n",
      "        - DIS      weighted distances to five Boston employment centres\n",
      "        - RAD      index of accessibility to radial highways\n",
      "        - TAX      full-value property-tax rate per $10,000\n",
      "        - PTRATIO  pupil-teacher ratio by town\n",
      "        - B        1000(Bk - 0.63)^2 where Bk is the proportion of blacks by town\n",
      "        - LSTAT    % lower status of the population\n",
      "        - MEDV     Median value of owner-occupied homes in $1000's\n",
      "\n",
      "    :Missing Attribute Values: None\n",
      "\n",
      "    :Creator: Harrison, D. and Rubinfeld, D.L.\n",
      "\n",
      "This is a copy of UCI ML housing dataset.\n",
      "https://archive.ics.uci.edu/ml/machine-learning-databases/housing/\n",
      "\n",
      "\n",
      "This dataset was taken from the StatLib library which is maintained at Carnegie Mellon University.\n",
      "\n",
      "The Boston house-price data of Harrison, D. and Rubinfeld, D.L. 'Hedonic\n",
      "prices and the demand for clean air', J. Environ. Economics & Management,\n",
      "vol.5, 81-102, 1978.   Used in Belsley, Kuh & Welsch, 'Regression diagnostics\n",
      "...', Wiley, 1980.   N.B. Various transformations are used in the table on\n",
      "pages 244-261 of the latter.\n",
      "\n",
      "The Boston house-price data has been used in many machine learning papers that address regression\n",
      "problems.   \n",
      "     \n",
      ".. topic:: References\n",
      "\n",
      "   - Belsley, Kuh & Welsch, 'Regression diagnostics: Identifying Influential Data and Sources of Collinearity', Wiley, 1980. 244-261.\n",
      "   - Quinlan,R. (1993). Combining Instance-Based and Model-Based Learning. In Proceedings on the Tenth International Conference of Machine Learning, 236-243, University of Massachusetts, Amherst. Morgan Kaufmann.\n",
      "\n"
     ]
    }
   ],
   "source": [
    "boston = load_boston()\n",
    "print(boston.DESCR)"
   ]
  },
  {
   "cell_type": "code",
   "execution_count": 4,
   "metadata": {},
   "outputs": [
    {
     "data": {
      "text/html": [
       "<div>\n",
       "<style scoped>\n",
       "    .dataframe tbody tr th:only-of-type {\n",
       "        vertical-align: middle;\n",
       "    }\n",
       "\n",
       "    .dataframe tbody tr th {\n",
       "        vertical-align: top;\n",
       "    }\n",
       "\n",
       "    .dataframe thead th {\n",
       "        text-align: right;\n",
       "    }\n",
       "</style>\n",
       "<table border=\"1\" class=\"dataframe\">\n",
       "  <thead>\n",
       "    <tr style=\"text-align: right;\">\n",
       "      <th></th>\n",
       "      <th>CRIM</th>\n",
       "      <th>ZN</th>\n",
       "      <th>INDUS</th>\n",
       "      <th>CHAS</th>\n",
       "      <th>NOX</th>\n",
       "      <th>RM</th>\n",
       "      <th>AGE</th>\n",
       "      <th>DIS</th>\n",
       "      <th>RAD</th>\n",
       "      <th>TAX</th>\n",
       "      <th>PTRATIO</th>\n",
       "      <th>B</th>\n",
       "      <th>LSTAT</th>\n",
       "      <th>MEDV</th>\n",
       "    </tr>\n",
       "  </thead>\n",
       "  <tbody>\n",
       "    <tr>\n",
       "      <th>0</th>\n",
       "      <td>0.00632</td>\n",
       "      <td>18.0</td>\n",
       "      <td>2.31</td>\n",
       "      <td>0.0</td>\n",
       "      <td>0.538</td>\n",
       "      <td>6.575</td>\n",
       "      <td>65.2</td>\n",
       "      <td>4.0900</td>\n",
       "      <td>1.0</td>\n",
       "      <td>296.0</td>\n",
       "      <td>15.3</td>\n",
       "      <td>396.90</td>\n",
       "      <td>4.98</td>\n",
       "      <td>24.0</td>\n",
       "    </tr>\n",
       "    <tr>\n",
       "      <th>1</th>\n",
       "      <td>0.02731</td>\n",
       "      <td>0.0</td>\n",
       "      <td>7.07</td>\n",
       "      <td>0.0</td>\n",
       "      <td>0.469</td>\n",
       "      <td>6.421</td>\n",
       "      <td>78.9</td>\n",
       "      <td>4.9671</td>\n",
       "      <td>2.0</td>\n",
       "      <td>242.0</td>\n",
       "      <td>17.8</td>\n",
       "      <td>396.90</td>\n",
       "      <td>9.14</td>\n",
       "      <td>21.6</td>\n",
       "    </tr>\n",
       "    <tr>\n",
       "      <th>2</th>\n",
       "      <td>0.02729</td>\n",
       "      <td>0.0</td>\n",
       "      <td>7.07</td>\n",
       "      <td>0.0</td>\n",
       "      <td>0.469</td>\n",
       "      <td>7.185</td>\n",
       "      <td>61.1</td>\n",
       "      <td>4.9671</td>\n",
       "      <td>2.0</td>\n",
       "      <td>242.0</td>\n",
       "      <td>17.8</td>\n",
       "      <td>392.83</td>\n",
       "      <td>4.03</td>\n",
       "      <td>34.7</td>\n",
       "    </tr>\n",
       "    <tr>\n",
       "      <th>3</th>\n",
       "      <td>0.03237</td>\n",
       "      <td>0.0</td>\n",
       "      <td>2.18</td>\n",
       "      <td>0.0</td>\n",
       "      <td>0.458</td>\n",
       "      <td>6.998</td>\n",
       "      <td>45.8</td>\n",
       "      <td>6.0622</td>\n",
       "      <td>3.0</td>\n",
       "      <td>222.0</td>\n",
       "      <td>18.7</td>\n",
       "      <td>394.63</td>\n",
       "      <td>2.94</td>\n",
       "      <td>33.4</td>\n",
       "    </tr>\n",
       "    <tr>\n",
       "      <th>4</th>\n",
       "      <td>0.06905</td>\n",
       "      <td>0.0</td>\n",
       "      <td>2.18</td>\n",
       "      <td>0.0</td>\n",
       "      <td>0.458</td>\n",
       "      <td>7.147</td>\n",
       "      <td>54.2</td>\n",
       "      <td>6.0622</td>\n",
       "      <td>3.0</td>\n",
       "      <td>222.0</td>\n",
       "      <td>18.7</td>\n",
       "      <td>396.90</td>\n",
       "      <td>5.33</td>\n",
       "      <td>36.2</td>\n",
       "    </tr>\n",
       "  </tbody>\n",
       "</table>\n",
       "</div>"
      ],
      "text/plain": [
       "      CRIM    ZN  INDUS  CHAS    NOX     RM   AGE     DIS  RAD    TAX  \\\n",
       "0  0.00632  18.0   2.31   0.0  0.538  6.575  65.2  4.0900  1.0  296.0   \n",
       "1  0.02731   0.0   7.07   0.0  0.469  6.421  78.9  4.9671  2.0  242.0   \n",
       "2  0.02729   0.0   7.07   0.0  0.469  7.185  61.1  4.9671  2.0  242.0   \n",
       "3  0.03237   0.0   2.18   0.0  0.458  6.998  45.8  6.0622  3.0  222.0   \n",
       "4  0.06905   0.0   2.18   0.0  0.458  7.147  54.2  6.0622  3.0  222.0   \n",
       "\n",
       "   PTRATIO       B  LSTAT  MEDV  \n",
       "0     15.3  396.90   4.98  24.0  \n",
       "1     17.8  396.90   9.14  21.6  \n",
       "2     17.8  392.83   4.03  34.7  \n",
       "3     18.7  394.63   2.94  33.4  \n",
       "4     18.7  396.90   5.33  36.2  "
      ]
     },
     "execution_count": 4,
     "metadata": {},
     "output_type": "execute_result"
    }
   ],
   "source": [
    "# Obtención del Dataframe\n",
    "df_boston = pd.DataFrame(data=np.c_[boston['data'], boston['target']], columns=list(boston['feature_names']) + ['MEDV'])\n",
    "df_boston.head()"
   ]
  },
  {
   "cell_type": "markdown",
   "metadata": {},
   "source": [
    "- ***CRIM:     tasa de criminalidad per cápita por ciudad (cuantitativa continua)***\n",
    "- ZN:       proporción de terreno residencial dividido en zonas para lotes de más de 25,000 pies cuadrados (cuantitativa continua)\n",
    "- INDUS:    proporción de acres comerciales no minoristas por ciudad (cuantitativa continua)\n",
    "- ***CHAS:     Cercanía al Charles River (1 si el tramo limita con el río; 0 en caso contrario) (categórica nominal)***\n",
    "- NOX:      concentración de óxidos nítricos (partes por 10 millones) (cuantitativa continua)\n",
    "- ***RM:       número medio de habitaciones por vivienda (cuantitativa discreta)***\n",
    "- AGE:      proporción de unidades ocupadas por sus propietarios construidas antes de 1940 (cuantitativa continua)\n",
    "- DIS:      distancias ponderadas a cinco centros de empleo de Boston (cuantitativa continua)\n",
    "- RAD:      índice de accesibilidad a carreteras radiales (cuantitativa continua)\n",
    "- TAX:      Tasa de impuesto a la propiedad de valor total por USD 10,000 (cuantitativa continua)\n",
    "- ***PTRATIO:  Proporción alumno-maestro por ciudad (cuantitativa continua)***\n",
    "- B:        1000(Bk - 0.63)^2 donde Bk es la proporción de negros por ciudad (cuantitativa continua)\n",
    "- LSTAT:    porcentaje de la población de estatus bajo (cuantitativa continua)\n",
    "- ***MEDV:     Valor medio de las viviendas ocupadas por sus propietarios en USD 1000 (cuantitativa continua)***"
   ]
  },
  {
   "cell_type": "code",
   "execution_count": 5,
   "metadata": {},
   "outputs": [],
   "source": [
    "df_boston['CHAS'] = (df_boston['CHAS'].astype('int')).astype('object')\n",
    "df_boston['RM'] = (df_boston['RM'].astype('int32'))"
   ]
  },
  {
   "cell_type": "code",
   "execution_count": 6,
   "metadata": {},
   "outputs": [
    {
     "name": "stdout",
     "output_type": "stream",
     "text": [
      "<class 'pandas.core.frame.DataFrame'>\n",
      "RangeIndex: 506 entries, 0 to 505\n",
      "Data columns (total 14 columns):\n",
      " #   Column   Non-Null Count  Dtype  \n",
      "---  ------   --------------  -----  \n",
      " 0   CRIM     506 non-null    float64\n",
      " 1   ZN       506 non-null    float64\n",
      " 2   INDUS    506 non-null    float64\n",
      " 3   CHAS     506 non-null    object \n",
      " 4   NOX      506 non-null    float64\n",
      " 5   RM       506 non-null    int32  \n",
      " 6   AGE      506 non-null    float64\n",
      " 7   DIS      506 non-null    float64\n",
      " 8   RAD      506 non-null    float64\n",
      " 9   TAX      506 non-null    float64\n",
      " 10  PTRATIO  506 non-null    float64\n",
      " 11  B        506 non-null    float64\n",
      " 12  LSTAT    506 non-null    float64\n",
      " 13  MEDV     506 non-null    float64\n",
      "dtypes: float64(12), int32(1), object(1)\n",
      "memory usage: 53.5+ KB\n"
     ]
    }
   ],
   "source": [
    "df_boston.info()"
   ]
  },
  {
   "cell_type": "code",
   "execution_count": 7,
   "metadata": {},
   "outputs": [
    {
     "data": {
      "text/html": [
       "<div>\n",
       "<style scoped>\n",
       "    .dataframe tbody tr th:only-of-type {\n",
       "        vertical-align: middle;\n",
       "    }\n",
       "\n",
       "    .dataframe tbody tr th {\n",
       "        vertical-align: top;\n",
       "    }\n",
       "\n",
       "    .dataframe thead th {\n",
       "        text-align: right;\n",
       "    }\n",
       "</style>\n",
       "<table border=\"1\" class=\"dataframe\">\n",
       "  <thead>\n",
       "    <tr style=\"text-align: right;\">\n",
       "      <th></th>\n",
       "      <th>CRIM</th>\n",
       "      <th>ZN</th>\n",
       "      <th>INDUS</th>\n",
       "      <th>NOX</th>\n",
       "      <th>RM</th>\n",
       "      <th>AGE</th>\n",
       "      <th>DIS</th>\n",
       "      <th>RAD</th>\n",
       "      <th>TAX</th>\n",
       "      <th>PTRATIO</th>\n",
       "      <th>B</th>\n",
       "      <th>LSTAT</th>\n",
       "      <th>MEDV</th>\n",
       "    </tr>\n",
       "  </thead>\n",
       "  <tbody>\n",
       "    <tr>\n",
       "      <th>count</th>\n",
       "      <td>506.000000</td>\n",
       "      <td>506.000000</td>\n",
       "      <td>506.000000</td>\n",
       "      <td>506.000000</td>\n",
       "      <td>506.000000</td>\n",
       "      <td>506.000000</td>\n",
       "      <td>506.000000</td>\n",
       "      <td>506.000000</td>\n",
       "      <td>506.000000</td>\n",
       "      <td>506.000000</td>\n",
       "      <td>506.000000</td>\n",
       "      <td>506.000000</td>\n",
       "      <td>506.000000</td>\n",
       "    </tr>\n",
       "    <tr>\n",
       "      <th>mean</th>\n",
       "      <td>3.613524</td>\n",
       "      <td>11.363636</td>\n",
       "      <td>11.136779</td>\n",
       "      <td>0.554695</td>\n",
       "      <td>5.776680</td>\n",
       "      <td>68.574901</td>\n",
       "      <td>3.795043</td>\n",
       "      <td>9.549407</td>\n",
       "      <td>408.237154</td>\n",
       "      <td>18.455534</td>\n",
       "      <td>356.674032</td>\n",
       "      <td>12.653063</td>\n",
       "      <td>22.532806</td>\n",
       "    </tr>\n",
       "    <tr>\n",
       "      <th>std</th>\n",
       "      <td>8.601545</td>\n",
       "      <td>23.322453</td>\n",
       "      <td>6.860353</td>\n",
       "      <td>0.115878</td>\n",
       "      <td>0.778123</td>\n",
       "      <td>28.148861</td>\n",
       "      <td>2.105710</td>\n",
       "      <td>8.707259</td>\n",
       "      <td>168.537116</td>\n",
       "      <td>2.164946</td>\n",
       "      <td>91.294864</td>\n",
       "      <td>7.141062</td>\n",
       "      <td>9.197104</td>\n",
       "    </tr>\n",
       "    <tr>\n",
       "      <th>min</th>\n",
       "      <td>0.006320</td>\n",
       "      <td>0.000000</td>\n",
       "      <td>0.460000</td>\n",
       "      <td>0.385000</td>\n",
       "      <td>3.000000</td>\n",
       "      <td>2.900000</td>\n",
       "      <td>1.129600</td>\n",
       "      <td>1.000000</td>\n",
       "      <td>187.000000</td>\n",
       "      <td>12.600000</td>\n",
       "      <td>0.320000</td>\n",
       "      <td>1.730000</td>\n",
       "      <td>5.000000</td>\n",
       "    </tr>\n",
       "    <tr>\n",
       "      <th>25%</th>\n",
       "      <td>0.082045</td>\n",
       "      <td>0.000000</td>\n",
       "      <td>5.190000</td>\n",
       "      <td>0.449000</td>\n",
       "      <td>5.000000</td>\n",
       "      <td>45.025000</td>\n",
       "      <td>2.100175</td>\n",
       "      <td>4.000000</td>\n",
       "      <td>279.000000</td>\n",
       "      <td>17.400000</td>\n",
       "      <td>375.377500</td>\n",
       "      <td>6.950000</td>\n",
       "      <td>17.025000</td>\n",
       "    </tr>\n",
       "    <tr>\n",
       "      <th>50%</th>\n",
       "      <td>0.256510</td>\n",
       "      <td>0.000000</td>\n",
       "      <td>9.690000</td>\n",
       "      <td>0.538000</td>\n",
       "      <td>6.000000</td>\n",
       "      <td>77.500000</td>\n",
       "      <td>3.207450</td>\n",
       "      <td>5.000000</td>\n",
       "      <td>330.000000</td>\n",
       "      <td>19.050000</td>\n",
       "      <td>391.440000</td>\n",
       "      <td>11.360000</td>\n",
       "      <td>21.200000</td>\n",
       "    </tr>\n",
       "    <tr>\n",
       "      <th>75%</th>\n",
       "      <td>3.677083</td>\n",
       "      <td>12.500000</td>\n",
       "      <td>18.100000</td>\n",
       "      <td>0.624000</td>\n",
       "      <td>6.000000</td>\n",
       "      <td>94.075000</td>\n",
       "      <td>5.188425</td>\n",
       "      <td>24.000000</td>\n",
       "      <td>666.000000</td>\n",
       "      <td>20.200000</td>\n",
       "      <td>396.225000</td>\n",
       "      <td>16.955000</td>\n",
       "      <td>25.000000</td>\n",
       "    </tr>\n",
       "    <tr>\n",
       "      <th>max</th>\n",
       "      <td>88.976200</td>\n",
       "      <td>100.000000</td>\n",
       "      <td>27.740000</td>\n",
       "      <td>0.871000</td>\n",
       "      <td>8.000000</td>\n",
       "      <td>100.000000</td>\n",
       "      <td>12.126500</td>\n",
       "      <td>24.000000</td>\n",
       "      <td>711.000000</td>\n",
       "      <td>22.000000</td>\n",
       "      <td>396.900000</td>\n",
       "      <td>37.970000</td>\n",
       "      <td>50.000000</td>\n",
       "    </tr>\n",
       "  </tbody>\n",
       "</table>\n",
       "</div>"
      ],
      "text/plain": [
       "             CRIM          ZN       INDUS         NOX          RM         AGE  \\\n",
       "count  506.000000  506.000000  506.000000  506.000000  506.000000  506.000000   \n",
       "mean     3.613524   11.363636   11.136779    0.554695    5.776680   68.574901   \n",
       "std      8.601545   23.322453    6.860353    0.115878    0.778123   28.148861   \n",
       "min      0.006320    0.000000    0.460000    0.385000    3.000000    2.900000   \n",
       "25%      0.082045    0.000000    5.190000    0.449000    5.000000   45.025000   \n",
       "50%      0.256510    0.000000    9.690000    0.538000    6.000000   77.500000   \n",
       "75%      3.677083   12.500000   18.100000    0.624000    6.000000   94.075000   \n",
       "max     88.976200  100.000000   27.740000    0.871000    8.000000  100.000000   \n",
       "\n",
       "              DIS         RAD         TAX     PTRATIO           B       LSTAT  \\\n",
       "count  506.000000  506.000000  506.000000  506.000000  506.000000  506.000000   \n",
       "mean     3.795043    9.549407  408.237154   18.455534  356.674032   12.653063   \n",
       "std      2.105710    8.707259  168.537116    2.164946   91.294864    7.141062   \n",
       "min      1.129600    1.000000  187.000000   12.600000    0.320000    1.730000   \n",
       "25%      2.100175    4.000000  279.000000   17.400000  375.377500    6.950000   \n",
       "50%      3.207450    5.000000  330.000000   19.050000  391.440000   11.360000   \n",
       "75%      5.188425   24.000000  666.000000   20.200000  396.225000   16.955000   \n",
       "max     12.126500   24.000000  711.000000   22.000000  396.900000   37.970000   \n",
       "\n",
       "             MEDV  \n",
       "count  506.000000  \n",
       "mean    22.532806  \n",
       "std      9.197104  \n",
       "min      5.000000  \n",
       "25%     17.025000  \n",
       "50%     21.200000  \n",
       "75%     25.000000  \n",
       "max     50.000000  "
      ]
     },
     "execution_count": 7,
     "metadata": {},
     "output_type": "execute_result"
    }
   ],
   "source": [
    "df_boston.describe()"
   ]
  },
  {
   "cell_type": "code",
   "execution_count": 8,
   "metadata": {},
   "outputs": [
    {
     "data": {
      "image/png": "[encoded data removed]",
      "text/plain": [
       "<Figure size 1440x1008 with 16 Axes>"
      ]
     },
     "metadata": {
      "needs_background": "light"
     },
     "output_type": "display_data"
    }
   ],
   "source": [
    "# plt.figure(figsize=(20,20))\n",
    "df_boston.hist(bins='sturges', figsize=(20, 14))\n",
    "plt.suptitle('Distribución de las variables cuantitativas', fontsize=16)\n",
    "plt.show()"
   ]
  },
  {
   "cell_type": "markdown",
   "metadata": {},
   "source": [
    "## Tests de Normalidad\n",
    "#### W / S o rango estudentizado (q):\n",
    "    • Sencillo, muy bueno para distribuciones simétricas y colas cortas.\n",
    "\n",
    "    • Muy mal cuando hay asimetría.\n",
    "#### Shapiro Wilk:\n",
    "    • Prueba ómnibus bastante potente. No es bueno con muestras pequeñas o datos discretos.\n",
    "\n",
    "    • Buena potencia con colas simétricas, cortas y largas. Bueno con asimetría.\n",
    "#### Jarque-Bera:\n",
    "    • Bueno con simétrico y largo distribuciones de cola.\n",
    "\n",
    "    • Menos potente con asimetría y poca potencia con datos bimodales.\n",
    "#### D'Agostino:\n",
    "    • Bueno con distribuciones simétricas y muy bueno con distribuciones de cola larga.\n",
    "\n",
    "    • Menos potente con asimetría.\n",
    "#### Anderson-Darling:\n",
    "    • Similar en poder a Shapiro-Wilk pero tiene menos poder con asimetría.\n",
    "\n",
    "    • Funciona bien con datos discretos.\n",
    "#### Pruebas de distancia (Kolmogorov-Smirnov, Lillifors, Chi2):\n",
    "    • Todos tienden a tener menor potencia. Los datos tienen que ser muy anormales para rechazar Ho.\n",
    "\n",
    "    • Estas pruebas pueden superar a otras pruebas cuando se utilizan datos discretos o agrupados.\n",
    "___    \n",
    "___\n",
    "### Hipótesis a plantear:\n",
    "    • H0: la distribución de la variabls NO es significativamente diferente a la de una distribución normal.\n",
    "\n",
    "    • H1: la distribución de la variable es significativamente diferente a la de una distribución normal.\n"
   ]
  },
  {
   "cell_type": "markdown",
   "metadata": {},
   "source": [
    "**Gráficos de QQ-PLOT**\n",
    "\n",
    "<img src=\"QQ-PLOT.png\" alt=\"drawing\" style=\"width:800px;\"/>"
   ]
  },
  {
   "cell_type": "code",
   "execution_count": 9,
   "metadata": {},
   "outputs": [
    {
     "data": {
      "image/png": "[encoded data removed]",
      "text/plain": [
       "<Figure size 1152x360 with 2 Axes>"
      ]
     },
     "metadata": {
      "needs_background": "light"
     },
     "output_type": "display_data"
    }
   ],
   "source": [
    "rvs = df_boston['CRIM']\n",
    "plt.figure(figsize=(16,5))\n",
    "ax1=plt.subplot(121, frameon=False)\n",
    "sm.qqplot(rvs, ax=ax1, fit=True, line=\"45\")\n",
    "ax1.set_title('QQ - PLOT')\n",
    "ax2=plt.subplot(122, frameon=False)\n",
    "ax2.set_title('Histograma de Distribución de CRIM')\n",
    "ax2.set_xlabel('Indice de crimininalidad (CRIM)')\n",
    "ax2.set_ylabel('Cantidad de viviendas (frecuencia)')\n",
    "ax2 = plt.hist(rvs, bins='sturges')\n",
    "plt.show()"
   ]
  },
  {
   "cell_type": "markdown",
   "metadata": {},
   "source": [
    "https://www.statsmodels.org/stable/generated/statsmodels.graphics.gofplots.qqplot.html"
   ]
  },
  {
   "cell_type": "code",
   "execution_count": 10,
   "metadata": {},
   "outputs": [],
   "source": [
    "def decision(pvalue, alpha):\n",
    "    if pvalue < alpha:\n",
    "        print('Decisión: Rechazar H0')\n",
    "    else:\n",
    "        print('Decisión: No Rechazar H0')       "
   ]
  },
  {
   "cell_type": "markdown",
   "metadata": {},
   "source": [
    "### Test de Kolmogorov-Smirnov"
   ]
  },
  {
   "cell_type": "code",
   "execution_count": 11,
   "metadata": {},
   "outputs": [
    {
     "name": "stdout",
     "output_type": "stream",
     "text": [
      "KstestResult(statistic=0.5025212984276741, pvalue=9.101764614072096e-119)\n",
      "\n",
      "Decisión: Rechazar H0\n"
     ]
    }
   ],
   "source": [
    "from scipy import stats\n",
    "rvs = df_boston['CRIM']\n",
    "cdf = 'norm'\n",
    "alpha = 0.05\n",
    "ph = stats.kstest(rvs, cdf, alternative='two-sided', mode='auto')  # Compara la dist. de 2 variables\n",
    "print(ph, end='\\n\\n')\n",
    "decision(ph[1], alpha)"
   ]
  },
  {
   "cell_type": "markdown",
   "metadata": {},
   "source": [
    "https://docs.scipy.org/doc/scipy/reference/generated/scipy.stats.kstest.html\n",
    "\n",
    "- Otra manera:"
   ]
  },
  {
   "cell_type": "code",
   "execution_count": 12,
   "metadata": {},
   "outputs": [
    {
     "name": "stdout",
     "output_type": "stream",
     "text": [
      "KstestResult(statistic=0.5025212984276741, pvalue=9.101764614072096e-119)\n",
      "\n",
      "Decisión: Rechazar H0\n"
     ]
    }
   ],
   "source": [
    "ph = stats.ks_1samp(rvs, stats.norm.cdf)   # Compara dist. de 1 variable con una dist. teórica\n",
    "print(ph, end='\\n\\n')\n",
    "decision(ph[1], alpha)"
   ]
  },
  {
   "cell_type": "markdown",
   "metadata": {},
   "source": [
    "https://docs.scipy.org/doc/scipy/reference/generated/scipy.stats.ks_1samp.html"
   ]
  },
  {
   "cell_type": "markdown",
   "metadata": {},
   "source": [
    "### Test de Shapiro Wilk"
   ]
  },
  {
   "cell_type": "code",
   "execution_count": 13,
   "metadata": {},
   "outputs": [
    {
     "name": "stdout",
     "output_type": "stream",
     "text": [
      "ShapiroResult(statistic=0.44996464252471924, pvalue=1.3285517473179391e-36)\n",
      "\n",
      "Decisión: Rechazar H0\n"
     ]
    }
   ],
   "source": [
    "ph = stats.shapiro(rvs)\n",
    "print(ph, end='\\n\\n')\n",
    "decision(ph[1], 0.05)"
   ]
  },
  {
   "cell_type": "markdown",
   "metadata": {},
   "source": [
    "https://docs.scipy.org/doc/scipy/reference/generated/scipy.stats.shapiro.html"
   ]
  },
  {
   "cell_type": "markdown",
   "metadata": {},
   "source": [
    "### Test basado en los test de D’Agostino and Pearson’s (asímetria y curtosis)"
   ]
  },
  {
   "cell_type": "code",
   "execution_count": 14,
   "metadata": {},
   "outputs": [
    {
     "name": "stdout",
     "output_type": "stream",
     "text": [
      "NormaltestResult(statistic=562.7482944823795, pvalue=6.320631961562874e-123)\n",
      "\n",
      "Decisión: Rechazar H0\n"
     ]
    }
   ],
   "source": [
    "alpha = 0.05\n",
    "ph = stats.normaltest(rvs)\n",
    "print(ph, end='\\n\\n')\n",
    "decision(ph[1], alpha)"
   ]
  },
  {
   "cell_type": "markdown",
   "metadata": {},
   "source": [
    "https://docs.scipy.org/doc/scipy/reference/generated/scipy.stats.normaltest.html"
   ]
  },
  {
   "cell_type": "markdown",
   "metadata": {},
   "source": [
    "### Librería Pingouin"
   ]
  },
  {
   "cell_type": "code",
   "execution_count": 15,
   "metadata": {},
   "outputs": [
    {
     "data": {
      "text/html": [
       "<div>\n",
       "<style scoped>\n",
       "    .dataframe tbody tr th:only-of-type {\n",
       "        vertical-align: middle;\n",
       "    }\n",
       "\n",
       "    .dataframe tbody tr th {\n",
       "        vertical-align: top;\n",
       "    }\n",
       "\n",
       "    .dataframe thead th {\n",
       "        text-align: right;\n",
       "    }\n",
       "</style>\n",
       "<table border=\"1\" class=\"dataframe\">\n",
       "  <thead>\n",
       "    <tr style=\"text-align: right;\">\n",
       "      <th></th>\n",
       "      <th>W</th>\n",
       "      <th>pval</th>\n",
       "      <th>normal</th>\n",
       "    </tr>\n",
       "  </thead>\n",
       "  <tbody>\n",
       "    <tr>\n",
       "      <th>CRIM</th>\n",
       "      <td>562.748294</td>\n",
       "      <td>6.320632e-123</td>\n",
       "      <td>False</td>\n",
       "    </tr>\n",
       "  </tbody>\n",
       "</table>\n",
       "</div>"
      ],
      "text/plain": [
       "               W           pval  normal\n",
       "CRIM  562.748294  6.320632e-123   False"
      ]
     },
     "execution_count": 15,
     "metadata": {},
     "output_type": "execute_result"
    }
   ],
   "source": [
    "import pingouin as pg\n",
    "pg.normality(rvs, method='normaltest')"
   ]
  },
  {
   "cell_type": "code",
   "execution_count": 16,
   "metadata": {},
   "outputs": [
    {
     "data": {
      "text/html": [
       "<div>\n",
       "<style scoped>\n",
       "    .dataframe tbody tr th:only-of-type {\n",
       "        vertical-align: middle;\n",
       "    }\n",
       "\n",
       "    .dataframe tbody tr th {\n",
       "        vertical-align: top;\n",
       "    }\n",
       "\n",
       "    .dataframe thead th {\n",
       "        text-align: right;\n",
       "    }\n",
       "</style>\n",
       "<table border=\"1\" class=\"dataframe\">\n",
       "  <thead>\n",
       "    <tr style=\"text-align: right;\">\n",
       "      <th></th>\n",
       "      <th>W</th>\n",
       "      <th>pval</th>\n",
       "      <th>normal</th>\n",
       "    </tr>\n",
       "  </thead>\n",
       "  <tbody>\n",
       "    <tr>\n",
       "      <th>CRIM</th>\n",
       "      <td>0.449965</td>\n",
       "      <td>1.328552e-36</td>\n",
       "      <td>False</td>\n",
       "    </tr>\n",
       "  </tbody>\n",
       "</table>\n",
       "</div>"
      ],
      "text/plain": [
       "             W          pval  normal\n",
       "CRIM  0.449965  1.328552e-36   False"
      ]
     },
     "execution_count": 16,
     "metadata": {},
     "output_type": "execute_result"
    }
   ],
   "source": [
    "pg.normality(rvs, method='shapiro', alpha=0.05)"
   ]
  },
  {
   "cell_type": "markdown",
   "metadata": {},
   "source": [
    "https://pingouin-stats.org/generated/pingouin.normality.html"
   ]
  },
  {
   "cell_type": "code",
   "execution_count": 17,
   "metadata": {},
   "outputs": [
    {
     "data": {
      "text/html": [
       "<div>\n",
       "<style scoped>\n",
       "    .dataframe tbody tr th:only-of-type {\n",
       "        vertical-align: middle;\n",
       "    }\n",
       "\n",
       "    .dataframe tbody tr th {\n",
       "        vertical-align: top;\n",
       "    }\n",
       "\n",
       "    .dataframe thead th {\n",
       "        text-align: right;\n",
       "    }\n",
       "</style>\n",
       "<table border=\"1\" class=\"dataframe\">\n",
       "  <thead>\n",
       "    <tr style=\"text-align: right;\">\n",
       "      <th></th>\n",
       "      <th>W</th>\n",
       "      <th>pval</th>\n",
       "      <th>normal</th>\n",
       "    </tr>\n",
       "  </thead>\n",
       "  <tbody>\n",
       "    <tr>\n",
       "      <th>CRIM</th>\n",
       "      <td>562.7483</td>\n",
       "      <td>0.0000</td>\n",
       "      <td>False</td>\n",
       "    </tr>\n",
       "    <tr>\n",
       "      <th>ZN</th>\n",
       "      <td>228.2703</td>\n",
       "      <td>0.0000</td>\n",
       "      <td>False</td>\n",
       "    </tr>\n",
       "    <tr>\n",
       "      <th>INDUS</th>\n",
       "      <td>420.0957</td>\n",
       "      <td>0.0000</td>\n",
       "      <td>False</td>\n",
       "    </tr>\n",
       "    <tr>\n",
       "      <th>NOX</th>\n",
       "      <td>37.5097</td>\n",
       "      <td>0.0000</td>\n",
       "      <td>False</td>\n",
       "    </tr>\n",
       "    <tr>\n",
       "      <th>RM</th>\n",
       "      <td>15.1153</td>\n",
       "      <td>0.0005</td>\n",
       "      <td>False</td>\n",
       "    </tr>\n",
       "    <tr>\n",
       "      <th>AGE</th>\n",
       "      <td>114.1654</td>\n",
       "      <td>0.0000</td>\n",
       "      <td>False</td>\n",
       "    </tr>\n",
       "    <tr>\n",
       "      <th>DIS</th>\n",
       "      <td>66.9450</td>\n",
       "      <td>0.0000</td>\n",
       "      <td>False</td>\n",
       "    </tr>\n",
       "    <tr>\n",
       "      <th>RAD</th>\n",
       "      <td>116.9444</td>\n",
       "      <td>0.0000</td>\n",
       "      <td>False</td>\n",
       "    </tr>\n",
       "    <tr>\n",
       "      <th>TAX</th>\n",
       "      <td>253.2165</td>\n",
       "      <td>0.0000</td>\n",
       "      <td>False</td>\n",
       "    </tr>\n",
       "    <tr>\n",
       "      <th>PTRATIO</th>\n",
       "      <td>45.9450</td>\n",
       "      <td>0.0000</td>\n",
       "      <td>False</td>\n",
       "    </tr>\n",
       "    <tr>\n",
       "      <th>B</th>\n",
       "      <td>312.2560</td>\n",
       "      <td>0.0000</td>\n",
       "      <td>False</td>\n",
       "    </tr>\n",
       "    <tr>\n",
       "      <th>LSTAT</th>\n",
       "      <td>57.2074</td>\n",
       "      <td>0.0000</td>\n",
       "      <td>False</td>\n",
       "    </tr>\n",
       "    <tr>\n",
       "      <th>MEDV</th>\n",
       "      <td>90.9747</td>\n",
       "      <td>0.0000</td>\n",
       "      <td>False</td>\n",
       "    </tr>\n",
       "  </tbody>\n",
       "</table>\n",
       "</div>"
      ],
      "text/plain": [
       "                W    pval  normal\n",
       "CRIM     562.7483  0.0000   False\n",
       "ZN       228.2703  0.0000   False\n",
       "INDUS    420.0957  0.0000   False\n",
       "NOX       37.5097  0.0000   False\n",
       "RM        15.1153  0.0005   False\n",
       "AGE      114.1654  0.0000   False\n",
       "DIS       66.9450  0.0000   False\n",
       "RAD      116.9444  0.0000   False\n",
       "TAX      253.2165  0.0000   False\n",
       "PTRATIO   45.9450  0.0000   False\n",
       "B        312.2560  0.0000   False\n",
       "LSTAT     57.2074  0.0000   False\n",
       "MEDV      90.9747  0.0000   False"
      ]
     },
     "execution_count": 17,
     "metadata": {},
     "output_type": "execute_result"
    }
   ],
   "source": [
    "pg.normality(df_boston, method='normaltest', alpha=0.01).round(4)"
   ]
  },
  {
   "cell_type": "markdown",
   "metadata": {},
   "source": [
    "## Tests de Varianzas"
   ]
  },
  {
   "cell_type": "markdown",
   "metadata": {},
   "source": [
    "### Test de Varianza"
   ]
  },
  {
   "cell_type": "markdown",
   "metadata": {},
   "source": [
    "MEDV: Valor medio de las viviendas ocupadas por sus propietarios en USD 1000 (cuantitativa continua)\n",
    "\n",
    "La desviación estándar del valor medio de las viviendas es a lo sumo de 10 mil USD\n",
    "   - H0: $\\sigma^2 \\leq 100$ \n",
    "   - H1: $\\sigma^2 > 100$\n",
    "   \n",
    "   - $\\alpha$ = 0.10\n",
    "   \n",
    "   $X^2 = (n -1) * S^2 / \\sigma^2$"
   ]
  },
  {
   "cell_type": "code",
   "execution_count": 18,
   "metadata": {},
   "outputs": [
    {
     "data": {
      "text/plain": [
       "9.188011545278203"
      ]
     },
     "execution_count": 18,
     "metadata": {},
     "output_type": "execute_result"
    }
   ],
   "source": [
    "np.std(df_boston['MEDV'])"
   ]
  },
  {
   "cell_type": "code",
   "execution_count": 19,
   "metadata": {},
   "outputs": [
    {
     "name": "stdout",
     "output_type": "stream",
     "text": [
      "Estadístico: 426.31875858863606, p-value: 0.9952870437161091\n",
      "\n",
      "Decisión: No Rechazar H0\n"
     ]
    }
   ],
   "source": [
    "alpha = 0.10\n",
    "rvs = df_boston['MEDV']\n",
    "gl = len(rvs) - 1  # grados de libertad del numerador\n",
    "X2 = gl * np.var(rvs) / 100   # Estadístico X2\n",
    "\n",
    "p_value = stats.chi2.sf(X2, gl) \n",
    "print(f'Estadístico: {X2}, p-value: {p_value}\\n')\n",
    "decision(p_value, alpha)"
   ]
  },
  {
   "cell_type": "markdown",
   "metadata": {},
   "source": [
    "### Test de Comparación de Varianzas"
   ]
  },
  {
   "cell_type": "markdown",
   "metadata": {},
   "source": [
    "La varianza del número de habitaciones promedio de los suburbios en Boston que limitan con el río Charles difiere de los que no limitan con el río.\n",
    "   - H0: $\\sigma^2_l = \\sigma^2_n$ \n",
    "   - H1: $\\sigma^2_l \\neq \\sigma^2_n$\n",
    "   \n",
    "   - $\\alpha$ = 0.05"
   ]
  },
  {
   "cell_type": "code",
   "execution_count": 20,
   "metadata": {},
   "outputs": [
    {
     "name": "stdout",
     "output_type": "stream",
     "text": [
      "Estadístico: 1.2028754879009254, p-value: 0.20433411657478767\n",
      "\n",
      "Decisión: No Rechazar H0\n",
      "\tIgualdad de varianzas significativa\n"
     ]
    }
   ],
   "source": [
    "alpha = 0.05\n",
    "\n",
    "rvs_l = df_boston[df_boston['CHAS']==1]['RM']   \n",
    "rvs_n = df_boston[df_boston['CHAS']==0]['RM']\n",
    "gl_l = len(rvs_l) - 1  # grados de libertad del numerador\n",
    "gl_n = len(rvs_n) - 1  # grados de libertad del denominador\n",
    "F = np.var(rvs_l) / np.var(rvs_n)   # Estadístico F\n",
    "\n",
    "p_value = stats.f.sf(F, gl_l, gl_n) \n",
    "print(f'Estadístico: {F}, p-value: {p_value}\\n')\n",
    "decision(p_value, alpha)\n",
    "if p_value < alpha:\n",
    "    varianzas_iguales = False\n",
    "    print('Varianzas desiguales significativa')\n",
    "else:\n",
    "    varianzas_iguales = True\n",
    "print('\\tIgualdad de varianzas significativa')"
   ]
  },
  {
   "cell_type": "markdown",
   "metadata": {},
   "source": [
    "https://docs.scipy.org/doc/scipy/reference/generated/scipy.stats.f.html"
   ]
  },
  {
   "cell_type": "markdown",
   "metadata": {},
   "source": [
    "## Tests de Medias"
   ]
  },
  {
   "cell_type": "markdown",
   "metadata": {},
   "source": [
    "### Test de Media"
   ]
  },
  {
   "cell_type": "markdown",
   "metadata": {},
   "source": [
    "La media del número de habitaciones de las casas en los suburbios de Boston es menor a 3\n",
    "   - H0: $\\mu \\geq 3$ \n",
    "   - H1: $\\mu < 3$\n",
    "   \n",
    "   - $\\alpha$ = 0.01"
   ]
  },
  {
   "cell_type": "code",
   "execution_count": 21,
   "metadata": {},
   "outputs": [
    {
     "name": "stdout",
     "output_type": "stream",
     "text": [
      "Ttest_1sampResult(statistic=80.26995054930084, pvalue=1.1849136261457825e-289)\n",
      "\n",
      "Decisión: Rechazar H0\n"
     ]
    }
   ],
   "source": [
    "alpha = 0.01\n",
    "rvs = df_boston['RM']\n",
    "ph = stats.ttest_1samp(rvs, 3)\n",
    "print(ph, end='\\n\\n')\n",
    "decision(ph[1], alpha)"
   ]
  },
  {
   "cell_type": "markdown",
   "metadata": {},
   "source": [
    "La probabilidad de obtener la media muestral de 3 o más, es menor que el nivel alfa.\n",
    "\n",
    "https://docs.scipy.org/doc/scipy/reference/generated/scipy.stats.ttest_1samp.html\n",
    "\n",
    "### Ejemplo gráfico del Rechazo de H0 (Prueba unilateral derecha)"
   ]
  },
  {
   "cell_type": "code",
   "execution_count": 22,
   "metadata": {},
   "outputs": [
    {
     "data": {
      "image/png": "[encoded data removed]",
      "text/plain": [
       "<Figure size 648x288 with 1 Axes>"
      ]
     },
     "metadata": {
      "needs_background": "light"
     },
     "output_type": "display_data"
    }
   ],
   "source": [
    "values = np.random.normal(loc=0, scale=1, size=6000)\n",
    "two_std_from_mean = np.mean(values) + np.std(values)*1.645\n",
    "kde = stats.gaussian_kde(values)\n",
    "pos = np.linspace(np.min(values), np.max(values), 10000)\n",
    "plt.figure(figsize=(9, 4))\n",
    "plt.plot(pos, kde(pos), color='teal')\n",
    "shade = np.linspace(two_std_from_mean, 4, 100)\n",
    "plt.plot(two_std_from_mean + .5, 0, 'ro') \n",
    "plt.fill_between(shade, kde(shade), alpha=0.5, color='teal')\n",
    "plt.title(\"Sampling Distribution for One-Tail Hypothesis Test\\n\", y=1.015, fontsize=16)\n",
    "plt.xlabel(\"sample mean value\", labelpad=14)\n",
    "plt.ylabel(\"frequency of occurence\", labelpad=14);"
   ]
  },
  {
   "cell_type": "markdown",
   "metadata": {},
   "source": [
    "### Gráfico del Rechazo de H0 (Prueba unilateral derecha), del test de media."
   ]
  },
  {
   "cell_type": "code",
   "execution_count": 23,
   "metadata": {},
   "outputs": [
    {
     "data": {
      "image/png": "[encoded data removed]",
      "text/plain": [
       "<Figure size 648x288 with 1 Axes>"
      ]
     },
     "metadata": {
      "needs_background": "light"
     },
     "output_type": "display_data"
    }
   ],
   "source": [
    "values = np.random.normal(loc=0, scale=1, size=6000)\n",
    "two_std_from_mean = ph[0] #np.mean(values) + np.std(values)*1.645\n",
    "kde = stats.gaussian_kde(values)\n",
    "pos = np.linspace(np.min(values), np.max(values), 10000)\n",
    "plt.figure(figsize=(9, 4))\n",
    "plt.plot(pos, kde(pos), color='teal')\n",
    "shade = np.linspace(two_std_from_mean, 4, 100)\n",
    "plt.plot(ph[0], 0, 'ro') \n",
    "plt.fill_between(shade, kde(shade), alpha=0.5, color='teal')\n",
    "plt.title(\"Sampling Distribution for One-Tail Hypothesis Test\\n\", y=1.015, fontsize=16)\n",
    "plt.xlabel(\"sample mean value\", labelpad=14)\n",
    "plt.ylabel(\"frequency of occurence\", labelpad=14);"
   ]
  },
  {
   "cell_type": "markdown",
   "metadata": {},
   "source": [
    "### Test de Medias independientes"
   ]
  },
  {
   "cell_type": "markdown",
   "metadata": {},
   "source": [
    "El número medio de habitaciones de las casas en los suburbios de Boston que limitan con el Río Charles difiere del que no limitan.\n",
    "   - H0: $\\mu_c = \\mu_l$\n",
    "   - H1: $\\mu_c \\neq \\mu_l$\n",
    "   \n",
    "   - $\\alpha$ = 0.05"
   ]
  },
  {
   "cell_type": "code",
   "execution_count": 24,
   "metadata": {},
   "outputs": [
    {
     "name": "stdout",
     "output_type": "stream",
     "text": [
      "Ttest_indResult(statistic=-1.536774391379978, pvalue=0.12497609099482575)\n",
      "\n",
      "Decisión: No Rechazar H0\n"
     ]
    }
   ],
   "source": [
    "alpha = 0.05\n",
    "rvs_c = df_boston[df_boston['CHAS']==0]['RM']\n",
    "rvs_l = df_boston[df_boston['CHAS']==1]['RM']\n",
    "ph = hp = stats.ttest_ind(rvs_c, rvs_l, equal_var=varianzas_iguales)\n",
    "print(ph, end='\\n\\n')\n",
    "decision(ph[1], alpha)"
   ]
  },
  {
   "cell_type": "markdown",
   "metadata": {},
   "source": [
    "https://docs.scipy.org/doc/scipy/reference/generated/scipy.stats.ttest_ind.html"
   ]
  },
  {
   "cell_type": "markdown",
   "metadata": {},
   "source": [
    "### Tests de Medias Apareadas"
   ]
  },
  {
   "cell_type": "markdown",
   "metadata": {},
   "source": [
    "---\n",
    "***NOTA***: En este apartado se utilizan otros datos y no los del dataset de Boston\n",
    "\n",
    "---\n",
    "El protocolo de anestesia utilizado acualmente para controlar el dolor en cirugía de apéndice surte distinto efecto en pacientes del grupo etario menor de 18 años.\n",
    "\n",
    "***Definamos*** --> $\\mu_A$: manejo del dolor medio en pacientes menores a 18 años - $\\mu_B$: manejo del dolor medio en pacientes de 18 años y mayores\n",
    "   - H0: $\\mu_A = \\mu_B$ \n",
    "   - H1: $\\mu_A \\neq \\mu_B$\n",
    "   \n",
    "   - $\\alpha$ = 0.01"
   ]
  },
  {
   "cell_type": "code",
   "execution_count": 25,
   "metadata": {},
   "outputs": [
    {
     "data": {
      "text/plain": [
       "(array([2, 4, 2, 4, 3, 3, 3, 2, 2, 4, 4, 2, 3, 4, 2, 4, 4, 4, 2, 4, 4, 4,\n",
       "        3, 4, 2, 3, 2, 2, 3, 2, 4, 4, 2, 3, 3, 3, 2, 3, 3, 2, 3, 3, 3, 3,\n",
       "        2, 4, 3, 2, 4, 4, 4, 2, 4, 2, 2, 4, 2, 2, 3, 3, 4, 3, 2, 3, 2, 2,\n",
       "        4, 4, 4, 3, 4, 3, 3, 4, 4, 2, 3, 4, 3, 3, 2, 4, 3, 2, 3, 2, 3, 3,\n",
       "        3, 2, 4, 4, 2, 3, 3, 4, 2, 4, 4, 4]),\n",
       " array([4, 3, 4, 4, 3, 4, 4, 3, 4, 3, 3, 4, 3, 4, 3, 3, 3, 3, 4, 4, 3, 4,\n",
       "        4, 4, 4, 3, 4, 4, 4, 3, 3, 3, 3, 3, 4, 3, 4, 4, 4, 3, 4, 4, 4, 4,\n",
       "        3, 3, 4, 3, 4, 3, 3, 4, 4, 4, 4, 3, 4, 4, 4, 3, 3, 3, 3, 4, 3, 4,\n",
       "        3, 3, 3, 4, 3, 4, 3, 4, 4, 3, 4, 4, 4, 4, 4, 3, 3, 4, 3, 3, 4, 3,\n",
       "        3, 3, 4, 4, 3, 3, 3, 3, 3, 4, 4, 4]))"
      ]
     },
     "execution_count": 25,
     "metadata": {},
     "output_type": "execute_result"
    }
   ],
   "source": [
    "pA = np.random.randint(2, 5, size=100)\n",
    "pB = np.random.randint(3, 5, size=100)\n",
    "pA, pB"
   ]
  },
  {
   "cell_type": "code",
   "execution_count": 26,
   "metadata": {},
   "outputs": [
    {
     "name": "stdout",
     "output_type": "stream",
     "text": [
      "Ttest_relResult(statistic=-4.800969990916236, pvalue=5.604705709968109e-06)\n",
      "\n",
      "Decisión: Rechazar H0\n"
     ]
    }
   ],
   "source": [
    "alpha = 0.01\n",
    "ph = stats.ttest_rel(pA, pB)\n",
    "print(ph, end='\\n\\n')\n",
    "decision(ph[1], alpha)"
   ]
  },
  {
   "cell_type": "markdown",
   "metadata": {},
   "source": [
    "____\n",
    "***Veamos otro ejemplo:***\n",
    "____\n",
    "\n",
    "El manejo del dolor en cirugía de apéndice es menor en las primeras 24 horas del post quirúrgico, en pacientes mayores de 50 años.\n",
    "\n",
    "***Definamos*** --> $\\mu_A$: manejo del dolor medio en las primeras 24 horas del post quirúrgico - $\\mu_B$: manejo del dolor medio pasadas las 24 horas del post quirúrgico\n",
    "   - H0: $\\mu_A = \\mu_B$ \n",
    "   - H1: $\\mu_A < \\mu_B$\n",
    "   \n",
    "   - $\\alpha$ = 0.05"
   ]
  },
  {
   "cell_type": "code",
   "execution_count": 27,
   "metadata": {},
   "outputs": [
    {
     "data": {
      "text/plain": [
       "(array([7, 6, 7, 6, 7, 6, 7, 5, 7, 5, 7, 6, 5, 6, 6, 6, 5, 7, 5, 5, 7, 5,\n",
       "        6, 5, 6, 5, 7, 7, 5, 7, 7, 5, 5, 6, 5, 5, 6, 7, 6, 6, 5, 5, 7, 5,\n",
       "        7, 7, 7, 6, 7, 7]),\n",
       " array([3, 2, 2, 2, 3, 5, 3, 2, 4, 5, 3, 2, 5, 2, 4, 5, 4, 5, 2, 3, 2, 5,\n",
       "        3, 2, 4, 3, 3, 4, 5, 2, 5, 3, 4, 3, 4, 5, 4, 3, 5, 2, 5, 5, 5, 5,\n",
       "        2, 2, 5, 4, 4, 4]))"
      ]
     },
     "execution_count": 27,
     "metadata": {},
     "output_type": "execute_result"
    }
   ],
   "source": [
    "mA = np.random.randint(5, 8, size=50)\n",
    "mB = np.random.randint(2, 6, size=50)\n",
    "mA, mB"
   ]
  },
  {
   "cell_type": "code",
   "execution_count": 28,
   "metadata": {},
   "outputs": [
    {
     "name": "stdout",
     "output_type": "stream",
     "text": [
      "Ttest_relResult(statistic=11.002336746425646, pvalue=7.68485272250268e-15)\n",
      "\n",
      "Decisión: Rechazar H0\n"
     ]
    }
   ],
   "source": [
    "alpha = 0.05\n",
    "ph = stats.ttest_rel(mA, mB)\n",
    "print(ph, end='\\n\\n')\n",
    "decision(ph[1], alpha)"
   ]
  },
  {
   "cell_type": "markdown",
   "metadata": {},
   "source": [
    "## Tests para 3 o más medias"
   ]
  },
  {
   "cell_type": "markdown",
   "metadata": {},
   "source": [
    "### Tests de ANOVA"
   ]
  },
  {
   "cell_type": "markdown",
   "metadata": {},
   "source": [
    "Supuestos de ANOVA:\n",
    "- Los datos se distribuyen normalmente\n",
    "- Las muestras son independientes entre sí\n",
    "- Las poblaciones tienen todas igual varianza (homoscedasticidad)"
   ]
  },
  {
   "cell_type": "code",
   "execution_count": 29,
   "metadata": {},
   "outputs": [
    {
     "data": {
      "text/plain": [
       "(0      1\n",
       " 1      1\n",
       " 2      1\n",
       " 3      2\n",
       " 4      2\n",
       "       ..\n",
       " 501    3\n",
       " 502    3\n",
       " 503    3\n",
       " 504    3\n",
       " 505    3\n",
       " Name: PTRATIO, Length: 506, dtype: category\n",
       " Categories (3, int64): [1 < 2 < 3],\n",
       " array([12.6, 17.8, 20.2, 22. ]))"
      ]
     },
     "execution_count": 29,
     "metadata": {},
     "output_type": "execute_result"
    }
   ],
   "source": [
    "out, bins = pd.qcut(df_boston['PTRATIO'], 3, labels=[1, 2, 3], retbins=True, precision=3, duplicates='raise')\n",
    "out, bins"
   ]
  },
  {
   "cell_type": "code",
   "execution_count": 30,
   "metadata": {},
   "outputs": [
    {
     "data": {
      "text/html": [
       "<div>\n",
       "<style scoped>\n",
       "    .dataframe tbody tr th:only-of-type {\n",
       "        vertical-align: middle;\n",
       "    }\n",
       "\n",
       "    .dataframe tbody tr th {\n",
       "        vertical-align: top;\n",
       "    }\n",
       "\n",
       "    .dataframe thead th {\n",
       "        text-align: right;\n",
       "    }\n",
       "</style>\n",
       "<table border=\"1\" class=\"dataframe\">\n",
       "  <thead>\n",
       "    <tr style=\"text-align: right;\">\n",
       "      <th></th>\n",
       "      <th>CRIM</th>\n",
       "      <th>ZN</th>\n",
       "      <th>INDUS</th>\n",
       "      <th>CHAS</th>\n",
       "      <th>NOX</th>\n",
       "      <th>RM</th>\n",
       "      <th>AGE</th>\n",
       "      <th>DIS</th>\n",
       "      <th>RAD</th>\n",
       "      <th>TAX</th>\n",
       "      <th>PTRATIO</th>\n",
       "      <th>B</th>\n",
       "      <th>LSTAT</th>\n",
       "      <th>MEDV</th>\n",
       "      <th>PTRATIO_categoric</th>\n",
       "    </tr>\n",
       "  </thead>\n",
       "  <tbody>\n",
       "    <tr>\n",
       "      <th>0</th>\n",
       "      <td>0.00632</td>\n",
       "      <td>18.0</td>\n",
       "      <td>2.31</td>\n",
       "      <td>0</td>\n",
       "      <td>0.538</td>\n",
       "      <td>6</td>\n",
       "      <td>65.2</td>\n",
       "      <td>4.0900</td>\n",
       "      <td>1.0</td>\n",
       "      <td>296.0</td>\n",
       "      <td>15.3</td>\n",
       "      <td>396.90</td>\n",
       "      <td>4.98</td>\n",
       "      <td>24.0</td>\n",
       "      <td>1</td>\n",
       "    </tr>\n",
       "    <tr>\n",
       "      <th>1</th>\n",
       "      <td>0.02731</td>\n",
       "      <td>0.0</td>\n",
       "      <td>7.07</td>\n",
       "      <td>0</td>\n",
       "      <td>0.469</td>\n",
       "      <td>6</td>\n",
       "      <td>78.9</td>\n",
       "      <td>4.9671</td>\n",
       "      <td>2.0</td>\n",
       "      <td>242.0</td>\n",
       "      <td>17.8</td>\n",
       "      <td>396.90</td>\n",
       "      <td>9.14</td>\n",
       "      <td>21.6</td>\n",
       "      <td>1</td>\n",
       "    </tr>\n",
       "    <tr>\n",
       "      <th>2</th>\n",
       "      <td>0.02729</td>\n",
       "      <td>0.0</td>\n",
       "      <td>7.07</td>\n",
       "      <td>0</td>\n",
       "      <td>0.469</td>\n",
       "      <td>7</td>\n",
       "      <td>61.1</td>\n",
       "      <td>4.9671</td>\n",
       "      <td>2.0</td>\n",
       "      <td>242.0</td>\n",
       "      <td>17.8</td>\n",
       "      <td>392.83</td>\n",
       "      <td>4.03</td>\n",
       "      <td>34.7</td>\n",
       "      <td>1</td>\n",
       "    </tr>\n",
       "    <tr>\n",
       "      <th>3</th>\n",
       "      <td>0.03237</td>\n",
       "      <td>0.0</td>\n",
       "      <td>2.18</td>\n",
       "      <td>0</td>\n",
       "      <td>0.458</td>\n",
       "      <td>6</td>\n",
       "      <td>45.8</td>\n",
       "      <td>6.0622</td>\n",
       "      <td>3.0</td>\n",
       "      <td>222.0</td>\n",
       "      <td>18.7</td>\n",
       "      <td>394.63</td>\n",
       "      <td>2.94</td>\n",
       "      <td>33.4</td>\n",
       "      <td>2</td>\n",
       "    </tr>\n",
       "    <tr>\n",
       "      <th>4</th>\n",
       "      <td>0.06905</td>\n",
       "      <td>0.0</td>\n",
       "      <td>2.18</td>\n",
       "      <td>0</td>\n",
       "      <td>0.458</td>\n",
       "      <td>7</td>\n",
       "      <td>54.2</td>\n",
       "      <td>6.0622</td>\n",
       "      <td>3.0</td>\n",
       "      <td>222.0</td>\n",
       "      <td>18.7</td>\n",
       "      <td>396.90</td>\n",
       "      <td>5.33</td>\n",
       "      <td>36.2</td>\n",
       "      <td>2</td>\n",
       "    </tr>\n",
       "  </tbody>\n",
       "</table>\n",
       "</div>"
      ],
      "text/plain": [
       "      CRIM    ZN  INDUS CHAS    NOX  RM   AGE     DIS  RAD    TAX  PTRATIO  \\\n",
       "0  0.00632  18.0   2.31    0  0.538   6  65.2  4.0900  1.0  296.0     15.3   \n",
       "1  0.02731   0.0   7.07    0  0.469   6  78.9  4.9671  2.0  242.0     17.8   \n",
       "2  0.02729   0.0   7.07    0  0.469   7  61.1  4.9671  2.0  242.0     17.8   \n",
       "3  0.03237   0.0   2.18    0  0.458   6  45.8  6.0622  3.0  222.0     18.7   \n",
       "4  0.06905   0.0   2.18    0  0.458   7  54.2  6.0622  3.0  222.0     18.7   \n",
       "\n",
       "        B  LSTAT  MEDV PTRATIO_categoric  \n",
       "0  396.90   4.98  24.0                 1  \n",
       "1  396.90   9.14  21.6                 1  \n",
       "2  392.83   4.03  34.7                 1  \n",
       "3  394.63   2.94  33.4                 2  \n",
       "4  396.90   5.33  36.2                 2  "
      ]
     },
     "execution_count": 30,
     "metadata": {},
     "output_type": "execute_result"
    }
   ],
   "source": [
    "df_boston['PTRATIO_categoric'] = out.values\n",
    "df_boston.head()"
   ]
  },
  {
   "cell_type": "code",
   "execution_count": 31,
   "metadata": {},
   "outputs": [
    {
     "data": {
      "image/png": "[encoded data removed]",
      "text/plain": [
       "<Figure size 432x288 with 1 Axes>"
      ]
     },
     "metadata": {
      "needs_background": "light"
     },
     "output_type": "display_data"
    }
   ],
   "source": [
    "g1 = df_boston[df_boston['PTRATIO_categoric']==1]['MEDV']\n",
    "g2 = df_boston[df_boston['PTRATIO_categoric']==2]['MEDV']\n",
    "g3 = df_boston[df_boston['PTRATIO_categoric']==3]['MEDV']\n",
    "data = [g1, g2, g3]\n",
    "plt.title('Valor medio de las viviendas para cada grupo de ratio estudiantes/profesor\\n')\n",
    "plt.boxplot(data)\n",
    "plt.show()"
   ]
  },
  {
   "cell_type": "markdown",
   "metadata": {},
   "source": [
    "No existe diferencias en la media de los valores de las viviendas en los surburbios de Boston con respecto a los grupos de ratio estudiantes/profesor.\n",
    "   - H0: $\\mu_1 = \\mu_2 = \\mu_3$\n",
    "   - H1: Al menos una media es distinta\n",
    "   \n",
    "   - $\\alpha$ = 0.05"
   ]
  },
  {
   "cell_type": "code",
   "execution_count": 32,
   "metadata": {},
   "outputs": [
    {
     "name": "stdout",
     "output_type": "stream",
     "text": [
      "F_onewayResult(statistic=64.65300929756505, pvalue=1.0259550972373208e-25)\n",
      "\n",
      "Decisión: Rechazar H0\n"
     ]
    }
   ],
   "source": [
    "ph = stats.f_oneway(g1, g2, g3)\n",
    "print(ph, end='\\n\\n')\n",
    "decision(ph[1], alpha)"
   ]
  },
  {
   "cell_type": "markdown",
   "metadata": {},
   "source": [
    "https://docs.scipy.org/doc/scipy/reference/generated/scipy.stats.f_oneway.html"
   ]
  },
  {
   "cell_type": "markdown",
   "metadata": {},
   "source": [
    "### Test Post-hoc de Tukey"
   ]
  },
  {
   "cell_type": "markdown",
   "metadata": {},
   "source": [
    "No existe diferencias en la media de los valores de las viviendas en los surburbios de Boston con respecto a los grupos de ratio estudiantes/profesor.\n",
    "   - H0: $\\mu_1 = \\mu_2$\n",
    "   - H0: $\\mu_1 = \\mu_3$\n",
    "   - H0: $\\mu_2 = \\mu_3$\n",
    "   \n",
    "   - $\\alpha$ = 0.05"
   ]
  },
  {
   "cell_type": "code",
   "execution_count": 33,
   "metadata": {},
   "outputs": [
    {
     "name": "stdout",
     "output_type": "stream",
     "text": [
      " Multiple Comparison of Means - Tukey HSD, FWER=0.05 \n",
      "=====================================================\n",
      "group1 group2 meandiff p-adj   lower    upper  reject\n",
      "-----------------------------------------------------\n",
      "     1      2  -8.3893  0.001 -10.2597  -6.519   True\n",
      "     1      3 -10.1038  0.001 -13.0723 -7.1353   True\n",
      "     2      3  -1.7145 0.3303  -4.5463  1.1173  False\n",
      "-----------------------------------------------------\n"
     ]
    }
   ],
   "source": [
    "from statsmodels.stats.multicomp import pairwise_tukeyhsd\n",
    "\n",
    "m_comp = pairwise_tukeyhsd(endog=df_boston['MEDV'], groups=df_boston['PTRATIO_categoric'], alpha=0.05)\n",
    "print(m_comp)"
   ]
  },
  {
   "cell_type": "markdown",
   "metadata": {},
   "source": [
    "## Tests de proporciones"
   ]
  },
  {
   "cell_type": "markdown",
   "metadata": {},
   "source": [
    "### Test de proporción"
   ]
  },
  {
   "cell_type": "markdown",
   "metadata": {},
   "source": [
    "La proporción de tasa de criminalidad per cápita (CRIM) mayor a 1 se presenta en más del 40% de los suburbios de Boston\n",
    "   - H0: $p \\leq 0.4 $\n",
    "   - H1: $p > 0.4 $\n",
    "   \n",
    "   - $\\alpha$ = 0.05"
   ]
  },
  {
   "cell_type": "code",
   "execution_count": 34,
   "metadata": {},
   "outputs": [
    {
     "data": {
      "text/plain": [
       "0.3438735177865613"
      ]
     },
     "execution_count": 34,
     "metadata": {},
     "output_type": "execute_result"
    }
   ],
   "source": [
    "p_crim = len(df_boston[df_boston['CRIM'] > 1]) / len(df_boston)\n",
    "p_crim"
   ]
  },
  {
   "cell_type": "code",
   "execution_count": 35,
   "metadata": {},
   "outputs": [
    {
     "name": "stdout",
     "output_type": "stream",
     "text": [
      "Estadístico: -2.65796912871689, p-value: 0.9960693453128129\n",
      "\n",
      "Decisión: No Rechazar H0\n"
     ]
    }
   ],
   "source": [
    "alpha = 0.05\n",
    "# Número de suburbios que registran Índice de Criminalidad per cápita mayor a 1\n",
    "count = (df_boston['CRIM'] > 1).sum()\n",
    "# Número total de suburbios en estudio\n",
    "nobs = len(df_boston)\n",
    "P = 0.4\n",
    "\n",
    "from statsmodels.stats import proportion\n",
    "stat, p_value = proportion.proportions_ztest(count, nobs, P, alternative='larger')  # ‘two-sided’, ‘smaller’: prop < value - ‘larger’: prop > value (H1)\n",
    "\n",
    "print(f'Estadístico: {stat}, p-value: {p_value}\\n')\n",
    "decision(p_value, alpha)"
   ]
  },
  {
   "cell_type": "markdown",
   "metadata": {},
   "source": [
    "https://www.statsmodels.org/stable/generated/statsmodels.stats.proportion.proportions_ztest.html"
   ]
  },
  {
   "cell_type": "markdown",
   "metadata": {},
   "source": [
    "### Test de comparación de proporciones"
   ]
  },
  {
   "cell_type": "markdown",
   "metadata": {},
   "source": [
    "La proporción de tasa de criminalidad per cápita (CRIM) mayor a 1 es superior en los suburbios que limitan con el río Charles\n",
    "   - H0: $p_l \\leq p_n $\n",
    "   - H1: $p_l > p_n $\n",
    "   \n",
    "   - $\\alpha$ = 0.01"
   ]
  },
  {
   "cell_type": "code",
   "execution_count": 36,
   "metadata": {},
   "outputs": [
    {
     "name": "stdout",
     "output_type": "stream",
     "text": [
      "pl: 0.029644268774703556 - pn: 0.3142292490118577\n"
     ]
    }
   ],
   "source": [
    "print(f\"pl: {(df_boston[df_boston['CHAS']==1]['CRIM'] > 1).sum()/len(df_boston)} - pn: {(df_boston[df_boston['CHAS']==0]['CRIM'] > 1).sum()/len(df_boston)}\")"
   ]
  },
  {
   "cell_type": "code",
   "execution_count": 37,
   "metadata": {},
   "outputs": [
    {
     "name": "stdout",
     "output_type": "stream",
     "text": [
      "Estadístico: -11.99654299640953, p-value: 1.0\n",
      "\n",
      "Decisión: No Rechazar H0\n"
     ]
    }
   ],
   "source": [
    "alpha = 0.01\n",
    "# Número de suburbios que registran Índice de Criminalidad per cápita mayor a 1, \n",
    "# que limitan y no limitan con el río Charles\n",
    "count = np.array([(df_boston[df_boston['CHAS']==1]['CRIM'] > 1).sum(), (df_boston[df_boston['CHAS']==0]['CRIM'] > 1).sum()])\n",
    "\n",
    "# Número total de suburbios en estudio\n",
    "nobs = np.array([len(df_boston), ]*2)\n",
    "\n",
    "stat, p_value = proportion.proportions_ztest(count, nobs, alternative='larger') # # ‘two-sided’, ‘smaller’: p1 < p2 - ‘larger’: p1 > p2 (H1)\n",
    "print(f'Estadístico: {stat}, p-value: {p_value}\\n')\n",
    "decision(p_value, alpha)"
   ]
  }
 ],
 "metadata": {
  "kernelspec": {
   "display_name": "Python 3",
   "language": "python",
   "name": "python3"
  },
  "language_info": {
   "codemirror_mode": {
    "name": "ipython",
    "version": 3
   },
   "file_extension": ".py",
   "mimetype": "text/x-python",
   "name": "python",
   "nbconvert_exporter": "python",
   "pygments_lexer": "ipython3",
   "version": "3.8.3"
  },
  "toc-autonumbering": true
 },
 "nbformat": 4,
 "nbformat_minor": 4
}
