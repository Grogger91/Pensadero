{
 "cells": [
  {
   "cell_type": "markdown",
   "metadata": {
    "toc": true
   },
   "source": [
    "<h1>Table of Contents<span class=\"tocSkip\"></span></h1>\n",
    "<div class=\"toc\"><ul class=\"toc-item\"><li><span><a href=\"#Librerías-y-funciones\" data-toc-modified-id=\"Librerías-y-funciones-1\"><span class=\"toc-item-num\">1&nbsp;&nbsp;</span>Librerías y funciones</a></span></li><li><span><a href=\"#Test-de-Independencia\" data-toc-modified-id=\"Test-de-Independencia-2\"><span class=\"toc-item-num\">2&nbsp;&nbsp;</span>Test de Independencia</a></span><ul class=\"toc-item\"><li><span><a href=\"#Ejemplo-1:-Titanic-Dataset\" data-toc-modified-id=\"Ejemplo-1:-Titanic-Dataset-2.1\"><span class=\"toc-item-num\">2.1&nbsp;&nbsp;</span>Ejemplo 1: Titanic Dataset</a></span><ul class=\"toc-item\"><li><span><a href=\"#Tabla-de-contingencia\" data-toc-modified-id=\"Tabla-de-contingencia-2.1.1\"><span class=\"toc-item-num\">2.1.1&nbsp;&nbsp;</span>Tabla de contingencia</a></span></li><li><span><a href=\"#Test-estadístico\" data-toc-modified-id=\"Test-estadístico-2.1.2\"><span class=\"toc-item-num\">2.1.2&nbsp;&nbsp;</span>Test estadístico</a></span></li></ul></li><li><span><a href=\"#Ejemplo-2:-Censo-data\" data-toc-modified-id=\"Ejemplo-2:-Censo-data-2.2\"><span class=\"toc-item-num\">2.2&nbsp;&nbsp;</span>Ejemplo 2: Censo data</a></span></li></ul></li><li><span><a href=\"#Test-de-Homogeneidad\" data-toc-modified-id=\"Test-de-Homogeneidad-3\"><span class=\"toc-item-num\">3&nbsp;&nbsp;</span>Test de Homogeneidad</a></span><ul class=\"toc-item\"><li><span><a href=\"#Tabla-de-contingencia\" data-toc-modified-id=\"Tabla-de-contingencia-3.1\"><span class=\"toc-item-num\">3.1&nbsp;&nbsp;</span>Tabla de contingencia</a></span></li><li><span><a href=\"#Test-estadístico\" data-toc-modified-id=\"Test-estadístico-3.2\"><span class=\"toc-item-num\">3.2&nbsp;&nbsp;</span>Test estadístico</a></span></li></ul></li><li><span><a href=\"#Test-de-Mc-Nemar\" data-toc-modified-id=\"Test-de-Mc-Nemar-4\"><span class=\"toc-item-num\">4&nbsp;&nbsp;</span>Test de Mc Nemar</a></span><ul class=\"toc-item\"><li><span><a href=\"#Tabla-de-contingencia\" data-toc-modified-id=\"Tabla-de-contingencia-4.1\"><span class=\"toc-item-num\">4.1&nbsp;&nbsp;</span>Tabla de contingencia</a></span></li><li><span><a href=\"#Test-estadístico\" data-toc-modified-id=\"Test-estadístico-4.2\"><span class=\"toc-item-num\">4.2&nbsp;&nbsp;</span>Test estadístico</a></span></li></ul></li><li><span><a href=\"#Test-de-Cochran\" data-toc-modified-id=\"Test-de-Cochran-5\"><span class=\"toc-item-num\">5&nbsp;&nbsp;</span>Test de Cochran</a></span><ul class=\"toc-item\"><li><span><a href=\"#Tabla\" data-toc-modified-id=\"Tabla-5.1\"><span class=\"toc-item-num\">5.1&nbsp;&nbsp;</span>Tabla</a></span></li><li><span><a href=\"#Test-estadístico\" data-toc-modified-id=\"Test-estadístico-5.2\"><span class=\"toc-item-num\">5.2&nbsp;&nbsp;</span>Test estadístico</a></span></li></ul></li></ul></div>"
   ]
  },
  {
   "cell_type": "markdown",
   "metadata": {},
   "source": [
    "### Librerías y funciones"
   ]
  },
  {
   "cell_type": "code",
   "execution_count": 106,
   "metadata": {},
   "outputs": [],
   "source": [
    "import numpy as np\n",
    "import pandas as pd\n",
    "import researchpy as rp\n",
    "import sidetable\n",
    "import scipy.stats as stats\n",
    "\n",
    "from statsmodels.stats.contingency_tables import mcnemar,cochrans_q\n",
    "\n",
    "np.random.seed(4586)  \n"
   ]
  },
  {
   "cell_type": "code",
   "execution_count": 107,
   "metadata": {},
   "outputs": [],
   "source": [
    "def decision(pvalue, alpha):\n",
    "    if pvalue < alpha:\n",
    "        print('Decisión: Rechazar H0')\n",
    "    else:\n",
    "        print('Decisión: No Rechazar H0')"
   ]
  },
  {
   "cell_type": "markdown",
   "metadata": {},
   "source": [
    "### Test de Independencia"
   ]
  },
  {
   "cell_type": "markdown",
   "metadata": {},
   "source": [
    "#### Ejemplo 1: Titanic Dataset "
   ]
  },
  {
   "cell_type": "markdown",
   "metadata": {},
   "source": [
    "En este primer ejemplo usaremos el clásico dataset del Titanic (disponible en [Kaggle](https://www.kaggle.com/c/titanic/data?select=train.csv)) en donde aplicaremos el Test de Independencia para responder la siguiente pregunta: **¿Las posibilidades de sobrevivir al accidente estuvo relacionada con el sexo de las personas?**.\n",
    "\n",
    "A continuación cargamos el dataset y observamos que las columnas de interés son **Sex** y **Survived** que cuentan con las categorías *male y female* y *0 y 1* respectivamente."
   ]
  },
  {
   "cell_type": "code",
   "execution_count": 108,
   "metadata": {
    "scrolled": false
   },
   "outputs": [],
   "source": [
    "titanic_data = pd.read_csv('train.csv')"
   ]
  },
  {
   "cell_type": "markdown",
   "metadata": {},
   "source": [
    "Dado que una de las variables (Age) posee datos faltantes, procedemos a eliminar esos datos nulos antes de comenzar a trabajar."
   ]
  },
  {
   "cell_type": "code",
   "execution_count": 109,
   "metadata": {},
   "outputs": [
    {
     "data": {
      "text/html": [
       "<div>\n",
       "<style scoped>\n",
       "    .dataframe tbody tr th:only-of-type {\n",
       "        vertical-align: middle;\n",
       "    }\n",
       "\n",
       "    .dataframe tbody tr th {\n",
       "        vertical-align: top;\n",
       "    }\n",
       "\n",
       "    .dataframe thead th {\n",
       "        text-align: right;\n",
       "    }\n",
       "</style>\n",
       "<table border=\"1\" class=\"dataframe\">\n",
       "  <thead>\n",
       "    <tr style=\"text-align: right;\">\n",
       "      <th></th>\n",
       "      <th>PassengerId</th>\n",
       "      <th>Survived</th>\n",
       "      <th>Pclass</th>\n",
       "      <th>Name</th>\n",
       "      <th>Sex</th>\n",
       "      <th>Age</th>\n",
       "      <th>SibSp</th>\n",
       "      <th>Parch</th>\n",
       "      <th>Ticket</th>\n",
       "      <th>Fare</th>\n",
       "      <th>Cabin</th>\n",
       "      <th>Embarked</th>\n",
       "    </tr>\n",
       "  </thead>\n",
       "  <tbody>\n",
       "    <tr>\n",
       "      <th>1</th>\n",
       "      <td>2</td>\n",
       "      <td>1</td>\n",
       "      <td>1</td>\n",
       "      <td>Cumings, Mrs. John Bradley (Florence Briggs Th...</td>\n",
       "      <td>female</td>\n",
       "      <td>38.0</td>\n",
       "      <td>1</td>\n",
       "      <td>0</td>\n",
       "      <td>PC 17599</td>\n",
       "      <td>71.2833</td>\n",
       "      <td>C85</td>\n",
       "      <td>C</td>\n",
       "    </tr>\n",
       "    <tr>\n",
       "      <th>3</th>\n",
       "      <td>4</td>\n",
       "      <td>1</td>\n",
       "      <td>1</td>\n",
       "      <td>Futrelle, Mrs. Jacques Heath (Lily May Peel)</td>\n",
       "      <td>female</td>\n",
       "      <td>35.0</td>\n",
       "      <td>1</td>\n",
       "      <td>0</td>\n",
       "      <td>113803</td>\n",
       "      <td>53.1000</td>\n",
       "      <td>C123</td>\n",
       "      <td>S</td>\n",
       "    </tr>\n",
       "    <tr>\n",
       "      <th>6</th>\n",
       "      <td>7</td>\n",
       "      <td>0</td>\n",
       "      <td>1</td>\n",
       "      <td>McCarthy, Mr. Timothy J</td>\n",
       "      <td>male</td>\n",
       "      <td>54.0</td>\n",
       "      <td>0</td>\n",
       "      <td>0</td>\n",
       "      <td>17463</td>\n",
       "      <td>51.8625</td>\n",
       "      <td>E46</td>\n",
       "      <td>S</td>\n",
       "    </tr>\n",
       "    <tr>\n",
       "      <th>10</th>\n",
       "      <td>11</td>\n",
       "      <td>1</td>\n",
       "      <td>3</td>\n",
       "      <td>Sandstrom, Miss. Marguerite Rut</td>\n",
       "      <td>female</td>\n",
       "      <td>4.0</td>\n",
       "      <td>1</td>\n",
       "      <td>1</td>\n",
       "      <td>PP 9549</td>\n",
       "      <td>16.7000</td>\n",
       "      <td>G6</td>\n",
       "      <td>S</td>\n",
       "    </tr>\n",
       "    <tr>\n",
       "      <th>11</th>\n",
       "      <td>12</td>\n",
       "      <td>1</td>\n",
       "      <td>1</td>\n",
       "      <td>Bonnell, Miss. Elizabeth</td>\n",
       "      <td>female</td>\n",
       "      <td>58.0</td>\n",
       "      <td>0</td>\n",
       "      <td>0</td>\n",
       "      <td>113783</td>\n",
       "      <td>26.5500</td>\n",
       "      <td>C103</td>\n",
       "      <td>S</td>\n",
       "    </tr>\n",
       "  </tbody>\n",
       "</table>\n",
       "</div>"
      ],
      "text/plain": [
       "    PassengerId  Survived  Pclass  \\\n",
       "1             2         1       1   \n",
       "3             4         1       1   \n",
       "6             7         0       1   \n",
       "10           11         1       3   \n",
       "11           12         1       1   \n",
       "\n",
       "                                                 Name     Sex   Age  SibSp  \\\n",
       "1   Cumings, Mrs. John Bradley (Florence Briggs Th...  female  38.0      1   \n",
       "3        Futrelle, Mrs. Jacques Heath (Lily May Peel)  female  35.0      1   \n",
       "6                             McCarthy, Mr. Timothy J    male  54.0      0   \n",
       "10                    Sandstrom, Miss. Marguerite Rut  female   4.0      1   \n",
       "11                           Bonnell, Miss. Elizabeth  female  58.0      0   \n",
       "\n",
       "    Parch    Ticket     Fare Cabin Embarked  \n",
       "1       0  PC 17599  71.2833   C85        C  \n",
       "3       0    113803  53.1000  C123        S  \n",
       "6       0     17463  51.8625   E46        S  \n",
       "10      1   PP 9549  16.7000    G6        S  \n",
       "11      0    113783  26.5500  C103        S  "
      ]
     },
     "execution_count": 109,
     "metadata": {},
     "output_type": "execute_result"
    }
   ],
   "source": [
    "titanic_clean = titanic_data.dropna()\n",
    "titanic_clean.head()"
   ]
  },
  {
   "cell_type": "markdown",
   "metadata": {},
   "source": [
    "Para llevar a cabo el test planteamos las siguientes hipótesis:\n",
    "\n",
    "- **H0**: Sex y Survived son variables independientes (No existe relación entre ambas).\n",
    "\n",
    "- **H1**: Sex y Survived son variables dependientes.\n",
    "\n",
    "- **Nivel de significación: $\\alpha$**= 0.05."
   ]
  },
  {
   "cell_type": "markdown",
   "metadata": {},
   "source": [
    "##### Tabla de contingencia"
   ]
  },
  {
   "cell_type": "markdown",
   "metadata": {},
   "source": [
    "El primer paso es crear la tabla de frecuencias.."
   ]
  },
  {
   "cell_type": "code",
   "execution_count": 110,
   "metadata": {
    "scrolled": false
   },
   "outputs": [
    {
     "data": {
      "text/html": [
       "<div>\n",
       "<style scoped>\n",
       "    .dataframe tbody tr th:only-of-type {\n",
       "        vertical-align: middle;\n",
       "    }\n",
       "\n",
       "    .dataframe tbody tr th {\n",
       "        vertical-align: top;\n",
       "    }\n",
       "\n",
       "    .dataframe thead th {\n",
       "        text-align: right;\n",
       "    }\n",
       "</style>\n",
       "<table border=\"1\" class=\"dataframe\">\n",
       "  <thead>\n",
       "    <tr style=\"text-align: right;\">\n",
       "      <th>Survived</th>\n",
       "      <th>0</th>\n",
       "      <th>1</th>\n",
       "    </tr>\n",
       "    <tr>\n",
       "      <th>Sex</th>\n",
       "      <th></th>\n",
       "      <th></th>\n",
       "    </tr>\n",
       "  </thead>\n",
       "  <tbody>\n",
       "    <tr>\n",
       "      <th>female</th>\n",
       "      <td>6</td>\n",
       "      <td>82</td>\n",
       "    </tr>\n",
       "    <tr>\n",
       "      <th>male</th>\n",
       "      <td>54</td>\n",
       "      <td>41</td>\n",
       "    </tr>\n",
       "  </tbody>\n",
       "</table>\n",
       "</div>"
      ],
      "text/plain": [
       "Survived   0   1\n",
       "Sex             \n",
       "female     6  82\n",
       "male      54  41"
      ]
     },
     "execution_count": 110,
     "metadata": {},
     "output_type": "execute_result"
    }
   ],
   "source": [
    "tabla_contingencia = pd.crosstab(titanic_clean[\"Sex\"], titanic_clean[\"Survived\"])\n",
    "tabla_contingencia"
   ]
  },
  {
   "cell_type": "markdown",
   "metadata": {},
   "source": [
    "##### Test estadístico"
   ]
  },
  {
   "cell_type": "markdown",
   "metadata": {},
   "source": [
    "Vamos a usar la función <code>chi2_contingency</code> de la librería Scipy, la cual nos devuelve, entre otras cosas, el p-valor que ayuda a determinar el Rechazo o No Rechazo de H0. \n",
    "    \n",
    "https://docs.scipy.org/doc/scipy/reference/generated/scipy.stats.chi2_contingency.html"
   ]
  },
  {
   "cell_type": "code",
   "execution_count": 111,
   "metadata": {
    "scrolled": true
   },
   "outputs": [
    {
     "name": "stdout",
     "output_type": "stream",
     "text": [
      "Valor del test:  49.62965365707783  \n",
      " \n",
      " p-valor:  1.8568580662867508e-12 \n",
      " \n",
      " Grados de Libertad:  1 \n",
      " \n",
      " Valores esperados:  [[28.85245902 59.14754098]\n",
      " [31.14754098 63.85245902]]\n"
     ]
    }
   ],
   "source": [
    "chi_cuadrado, p_value, degree_freedom, expected_values = stats.chi2_contingency(tabla_contingencia)\n",
    "print('Valor del test: ', chi_cuadrado, ' \\n \\n p-valor: ', \n",
    "      p_value, '\\n \\n Grados de Libertad: ', \n",
    "      degree_freedom,'\\n \\n Valores esperados: ', expected_values)"
   ]
  },
  {
   "cell_type": "code",
   "execution_count": 112,
   "metadata": {},
   "outputs": [
    {
     "name": "stdout",
     "output_type": "stream",
     "text": [
      "Decisión: Rechazar H0\n"
     ]
    }
   ],
   "source": [
    "decision(p_value, 0.05)"
   ]
  },
  {
   "cell_type": "markdown",
   "metadata": {},
   "source": [
    "Luego existe una relación significativa entre las variables Sex y Survived (no son independientes)."
   ]
  },
  {
   "cell_type": "markdown",
   "metadata": {},
   "source": [
    "**Otra forma**\n",
    "\n",
    "Usando researchpy (https://researchpy.readthedocs.io/en/latest/).\n",
    "\n",
    "En este caso, a través de la función <code>crosstab</code> generamos todo en una única salida: tabla de contingencia con frecuencias marginales, resultados del test y valores esperados (todos expresados como dataframes de Pandas). Notar que para realizar el Test de Independencia debe elegirse 'chi-square' como parámetro de entrada.\n",
    "\n",
    "https://researchpy.readthedocs.io/en/latest/crosstab_documentation.html"
   ]
  },
  {
   "cell_type": "code",
   "execution_count": 113,
   "metadata": {
    "scrolled": true
   },
   "outputs": [
    {
     "data": {
      "text/html": [
       "<div>\n",
       "<style scoped>\n",
       "    .dataframe tbody tr th:only-of-type {\n",
       "        vertical-align: middle;\n",
       "    }\n",
       "\n",
       "    .dataframe tbody tr th {\n",
       "        vertical-align: top;\n",
       "    }\n",
       "\n",
       "    .dataframe thead tr th {\n",
       "        text-align: left;\n",
       "    }\n",
       "\n",
       "    .dataframe thead tr:last-of-type th {\n",
       "        text-align: right;\n",
       "    }\n",
       "</style>\n",
       "<table border=\"1\" class=\"dataframe\">\n",
       "  <thead>\n",
       "    <tr>\n",
       "      <th></th>\n",
       "      <th colspan=\"3\" halign=\"left\">Survived</th>\n",
       "    </tr>\n",
       "    <tr>\n",
       "      <th>Survived</th>\n",
       "      <th>0</th>\n",
       "      <th>1</th>\n",
       "      <th>All</th>\n",
       "    </tr>\n",
       "    <tr>\n",
       "      <th>Sex</th>\n",
       "      <th></th>\n",
       "      <th></th>\n",
       "      <th></th>\n",
       "    </tr>\n",
       "  </thead>\n",
       "  <tbody>\n",
       "    <tr>\n",
       "      <th>female</th>\n",
       "      <td>6</td>\n",
       "      <td>82</td>\n",
       "      <td>88</td>\n",
       "    </tr>\n",
       "    <tr>\n",
       "      <th>male</th>\n",
       "      <td>54</td>\n",
       "      <td>41</td>\n",
       "      <td>95</td>\n",
       "    </tr>\n",
       "    <tr>\n",
       "      <th>All</th>\n",
       "      <td>60</td>\n",
       "      <td>123</td>\n",
       "      <td>183</td>\n",
       "    </tr>\n",
       "  </tbody>\n",
       "</table>\n",
       "</div>"
      ],
      "text/plain": [
       "         Survived          \n",
       "Survived        0    1  All\n",
       "Sex                        \n",
       "female          6   82   88\n",
       "male           54   41   95\n",
       "All            60  123  183"
      ]
     },
     "execution_count": 113,
     "metadata": {},
     "output_type": "execute_result"
    }
   ],
   "source": [
    "tabla_contingencia, resultado_test, valores_esperados = rp.crosstab(titanic_clean[\"Sex\"], \n",
    "                                                                    titanic_clean[\"Survived\"],\n",
    "                                               test= \"chi-square\",\n",
    "                                               expected_freqs= True,\n",
    "                                               prop= None)\n",
    "\n",
    "tabla_contingencia"
   ]
  },
  {
   "cell_type": "code",
   "execution_count": 114,
   "metadata": {},
   "outputs": [
    {
     "data": {
      "text/html": [
       "<div>\n",
       "<style scoped>\n",
       "    .dataframe tbody tr th:only-of-type {\n",
       "        vertical-align: middle;\n",
       "    }\n",
       "\n",
       "    .dataframe tbody tr th {\n",
       "        vertical-align: top;\n",
       "    }\n",
       "\n",
       "    .dataframe thead th {\n",
       "        text-align: right;\n",
       "    }\n",
       "</style>\n",
       "<table border=\"1\" class=\"dataframe\">\n",
       "  <thead>\n",
       "    <tr style=\"text-align: right;\">\n",
       "      <th></th>\n",
       "      <th>Chi-square test</th>\n",
       "      <th>results</th>\n",
       "    </tr>\n",
       "  </thead>\n",
       "  <tbody>\n",
       "    <tr>\n",
       "      <th>0</th>\n",
       "      <td>Pearson Chi-square ( 1.0) =</td>\n",
       "      <td>51.8748</td>\n",
       "    </tr>\n",
       "    <tr>\n",
       "      <th>1</th>\n",
       "      <td>p-value =</td>\n",
       "      <td>0.0000</td>\n",
       "    </tr>\n",
       "    <tr>\n",
       "      <th>2</th>\n",
       "      <td>Cramer's phi =</td>\n",
       "      <td>0.5324</td>\n",
       "    </tr>\n",
       "  </tbody>\n",
       "</table>\n",
       "</div>"
      ],
      "text/plain": [
       "                Chi-square test  results\n",
       "0  Pearson Chi-square ( 1.0) =   51.8748\n",
       "1                    p-value =    0.0000\n",
       "2               Cramer's phi =    0.5324"
      ]
     },
     "execution_count": 114,
     "metadata": {},
     "output_type": "execute_result"
    }
   ],
   "source": [
    "resultado_test"
   ]
  },
  {
   "cell_type": "code",
   "execution_count": 115,
   "metadata": {
    "scrolled": true
   },
   "outputs": [
    {
     "data": {
      "text/html": [
       "<div>\n",
       "<style scoped>\n",
       "    .dataframe tbody tr th:only-of-type {\n",
       "        vertical-align: middle;\n",
       "    }\n",
       "\n",
       "    .dataframe tbody tr th {\n",
       "        vertical-align: top;\n",
       "    }\n",
       "\n",
       "    .dataframe thead tr th {\n",
       "        text-align: left;\n",
       "    }\n",
       "\n",
       "    .dataframe thead tr:last-of-type th {\n",
       "        text-align: right;\n",
       "    }\n",
       "</style>\n",
       "<table border=\"1\" class=\"dataframe\">\n",
       "  <thead>\n",
       "    <tr>\n",
       "      <th></th>\n",
       "      <th colspan=\"2\" halign=\"left\">Survived</th>\n",
       "    </tr>\n",
       "    <tr>\n",
       "      <th>Survived</th>\n",
       "      <th>0</th>\n",
       "      <th>1</th>\n",
       "    </tr>\n",
       "    <tr>\n",
       "      <th>Sex</th>\n",
       "      <th></th>\n",
       "      <th></th>\n",
       "    </tr>\n",
       "  </thead>\n",
       "  <tbody>\n",
       "    <tr>\n",
       "      <th>female</th>\n",
       "      <td>28.852459</td>\n",
       "      <td>59.147541</td>\n",
       "    </tr>\n",
       "    <tr>\n",
       "      <th>male</th>\n",
       "      <td>31.147541</td>\n",
       "      <td>63.852459</td>\n",
       "    </tr>\n",
       "  </tbody>\n",
       "</table>\n",
       "</div>"
      ],
      "text/plain": [
       "           Survived           \n",
       "Survived          0          1\n",
       "Sex                           \n",
       "female    28.852459  59.147541\n",
       "male      31.147541  63.852459"
      ]
     },
     "execution_count": 115,
     "metadata": {},
     "output_type": "execute_result"
    }
   ],
   "source": [
    "valores_esperados"
   ]
  },
  {
   "cell_type": "code",
   "execution_count": 116,
   "metadata": {},
   "outputs": [
    {
     "name": "stdout",
     "output_type": "stream",
     "text": [
      "Decisión: Rechazar H0\n"
     ]
    }
   ],
   "source": [
    "decision(resultado_test.loc[1][1], 0.05)"
   ]
  },
  {
   "cell_type": "markdown",
   "metadata": {},
   "source": [
    "#### Ejemplo 2: Censo data"
   ]
  },
  {
   "cell_type": "markdown",
   "metadata": {},
   "source": [
    "El objetivo de este ejemplo es mostrar que el procedimiento no cambia cuando el tamaño de la tabla de contingencia es diferente a la 2x2 del ejemplo anterior. \n",
    "\n",
    "En este caso, el dataset contiene datos censales y fue descargado de https://www.mldata.io/dataset-details/census_income/."
   ]
  },
  {
   "cell_type": "code",
   "execution_count": 117,
   "metadata": {
    "scrolled": true
   },
   "outputs": [
    {
     "data": {
      "text/html": [
       "<div>\n",
       "<style scoped>\n",
       "    .dataframe tbody tr th:only-of-type {\n",
       "        vertical-align: middle;\n",
       "    }\n",
       "\n",
       "    .dataframe tbody tr th {\n",
       "        vertical-align: top;\n",
       "    }\n",
       "\n",
       "    .dataframe thead th {\n",
       "        text-align: right;\n",
       "    }\n",
       "</style>\n",
       "<table border=\"1\" class=\"dataframe\">\n",
       "  <thead>\n",
       "    <tr style=\"text-align: right;\">\n",
       "      <th></th>\n",
       "      <th>age</th>\n",
       "      <th>workclass</th>\n",
       "      <th>fnlwgt</th>\n",
       "      <th>education</th>\n",
       "      <th>education_num</th>\n",
       "      <th>marital_status</th>\n",
       "      <th>occupation</th>\n",
       "      <th>relationship</th>\n",
       "      <th>race</th>\n",
       "      <th>sex</th>\n",
       "      <th>capital_gain</th>\n",
       "      <th>capital_loss</th>\n",
       "      <th>hours_per_week</th>\n",
       "      <th>native_country</th>\n",
       "      <th>income_level</th>\n",
       "    </tr>\n",
       "  </thead>\n",
       "  <tbody>\n",
       "    <tr>\n",
       "      <th>0</th>\n",
       "      <td>39</td>\n",
       "      <td>State-gov</td>\n",
       "      <td>77516.0</td>\n",
       "      <td>Bachelors</td>\n",
       "      <td>13</td>\n",
       "      <td>Never-married</td>\n",
       "      <td>Adm-clerical</td>\n",
       "      <td>Not-in-family</td>\n",
       "      <td>White</td>\n",
       "      <td>Male</td>\n",
       "      <td>2174.0</td>\n",
       "      <td>0.0</td>\n",
       "      <td>40.0</td>\n",
       "      <td>United-States</td>\n",
       "      <td>&lt;=50K</td>\n",
       "    </tr>\n",
       "    <tr>\n",
       "      <th>1</th>\n",
       "      <td>50</td>\n",
       "      <td>Self-emp-not-inc</td>\n",
       "      <td>83311.0</td>\n",
       "      <td>Bachelors</td>\n",
       "      <td>13</td>\n",
       "      <td>Married-civ-spouse</td>\n",
       "      <td>Exec-managerial</td>\n",
       "      <td>Husband</td>\n",
       "      <td>White</td>\n",
       "      <td>Male</td>\n",
       "      <td>0.0</td>\n",
       "      <td>0.0</td>\n",
       "      <td>13.0</td>\n",
       "      <td>United-States</td>\n",
       "      <td>&lt;=50K</td>\n",
       "    </tr>\n",
       "    <tr>\n",
       "      <th>2</th>\n",
       "      <td>38</td>\n",
       "      <td>Private</td>\n",
       "      <td>215646.0</td>\n",
       "      <td>HS-grad</td>\n",
       "      <td>9</td>\n",
       "      <td>Divorced</td>\n",
       "      <td>Handlers-cleaners</td>\n",
       "      <td>Not-in-family</td>\n",
       "      <td>White</td>\n",
       "      <td>Male</td>\n",
       "      <td>0.0</td>\n",
       "      <td>0.0</td>\n",
       "      <td>40.0</td>\n",
       "      <td>United-States</td>\n",
       "      <td>&lt;=50K</td>\n",
       "    </tr>\n",
       "    <tr>\n",
       "      <th>3</th>\n",
       "      <td>53</td>\n",
       "      <td>Private</td>\n",
       "      <td>234721.0</td>\n",
       "      <td>11th</td>\n",
       "      <td>7</td>\n",
       "      <td>Married-civ-spouse</td>\n",
       "      <td>Handlers-cleaners</td>\n",
       "      <td>Husband</td>\n",
       "      <td>Black</td>\n",
       "      <td>Male</td>\n",
       "      <td>0.0</td>\n",
       "      <td>0.0</td>\n",
       "      <td>40.0</td>\n",
       "      <td>United-States</td>\n",
       "      <td>&lt;=50K</td>\n",
       "    </tr>\n",
       "    <tr>\n",
       "      <th>4</th>\n",
       "      <td>28</td>\n",
       "      <td>Private</td>\n",
       "      <td>338409.0</td>\n",
       "      <td>Bachelors</td>\n",
       "      <td>13</td>\n",
       "      <td>Married-civ-spouse</td>\n",
       "      <td>Prof-specialty</td>\n",
       "      <td>Wife</td>\n",
       "      <td>Black</td>\n",
       "      <td>Female</td>\n",
       "      <td>0.0</td>\n",
       "      <td>0.0</td>\n",
       "      <td>40.0</td>\n",
       "      <td>Cuba</td>\n",
       "      <td>&lt;=50K</td>\n",
       "    </tr>\n",
       "  </tbody>\n",
       "</table>\n",
       "</div>"
      ],
      "text/plain": [
       "   age         workclass    fnlwgt  education  education_num  \\\n",
       "0   39         State-gov   77516.0  Bachelors             13   \n",
       "1   50  Self-emp-not-inc   83311.0  Bachelors             13   \n",
       "2   38           Private  215646.0    HS-grad              9   \n",
       "3   53           Private  234721.0       11th              7   \n",
       "4   28           Private  338409.0  Bachelors             13   \n",
       "\n",
       "       marital_status         occupation   relationship   race     sex  \\\n",
       "0       Never-married       Adm-clerical  Not-in-family  White    Male   \n",
       "1  Married-civ-spouse    Exec-managerial        Husband  White    Male   \n",
       "2            Divorced  Handlers-cleaners  Not-in-family  White    Male   \n",
       "3  Married-civ-spouse  Handlers-cleaners        Husband  Black    Male   \n",
       "4  Married-civ-spouse     Prof-specialty           Wife  Black  Female   \n",
       "\n",
       "   capital_gain  capital_loss  hours_per_week native_country income_level  \n",
       "0        2174.0           0.0            40.0  United-States        <=50K  \n",
       "1           0.0           0.0            13.0  United-States        <=50K  \n",
       "2           0.0           0.0            40.0  United-States        <=50K  \n",
       "3           0.0           0.0            40.0  United-States        <=50K  \n",
       "4           0.0           0.0            40.0           Cuba        <=50K  "
      ]
     },
     "execution_count": 117,
     "metadata": {},
     "output_type": "execute_result"
    }
   ],
   "source": [
    "censo_data = pd.read_csv('census_income_dataset.csv')\n",
    "censo_data.head()"
   ]
  },
  {
   "cell_type": "markdown",
   "metadata": {},
   "source": [
    "Para llevar a cabo el test planteamos las siguientes hipótesis:\n",
    "\n",
    "- **H0**: Education y Race son variables independientes (No existe relación significativa entre ambas).\n",
    "\n",
    "- **H1**: Education y Race son variables dependientes.\n",
    "\n",
    "- **Nivel de significación: $\\alpha$**= 0.05."
   ]
  },
  {
   "cell_type": "code",
   "execution_count": 118,
   "metadata": {
    "scrolled": false
   },
   "outputs": [
    {
     "data": {
      "text/html": [
       "<div>\n",
       "<style scoped>\n",
       "    .dataframe tbody tr th:only-of-type {\n",
       "        vertical-align: middle;\n",
       "    }\n",
       "\n",
       "    .dataframe tbody tr th {\n",
       "        vertical-align: top;\n",
       "    }\n",
       "\n",
       "    .dataframe thead th {\n",
       "        text-align: right;\n",
       "    }\n",
       "</style>\n",
       "<table border=\"1\" class=\"dataframe\">\n",
       "  <thead>\n",
       "    <tr style=\"text-align: right;\">\n",
       "      <th>race</th>\n",
       "      <th>Amer-Indian-Eskimo</th>\n",
       "      <th>Asian-Pac-Islander</th>\n",
       "      <th>Black</th>\n",
       "      <th>Other</th>\n",
       "      <th>White</th>\n",
       "    </tr>\n",
       "    <tr>\n",
       "      <th>education</th>\n",
       "      <th></th>\n",
       "      <th></th>\n",
       "      <th></th>\n",
       "      <th></th>\n",
       "      <th></th>\n",
       "    </tr>\n",
       "  </thead>\n",
       "  <tbody>\n",
       "    <tr>\n",
       "      <th>10th</th>\n",
       "      <td>22</td>\n",
       "      <td>16</td>\n",
       "      <td>182</td>\n",
       "      <td>11</td>\n",
       "      <td>1158</td>\n",
       "    </tr>\n",
       "    <tr>\n",
       "      <th>11th</th>\n",
       "      <td>26</td>\n",
       "      <td>27</td>\n",
       "      <td>252</td>\n",
       "      <td>22</td>\n",
       "      <td>1485</td>\n",
       "    </tr>\n",
       "    <tr>\n",
       "      <th>12th</th>\n",
       "      <td>5</td>\n",
       "      <td>15</td>\n",
       "      <td>105</td>\n",
       "      <td>17</td>\n",
       "      <td>515</td>\n",
       "    </tr>\n",
       "    <tr>\n",
       "      <th>1st-4th</th>\n",
       "      <td>4</td>\n",
       "      <td>10</td>\n",
       "      <td>24</td>\n",
       "      <td>13</td>\n",
       "      <td>196</td>\n",
       "    </tr>\n",
       "    <tr>\n",
       "      <th>5th-6th</th>\n",
       "      <td>2</td>\n",
       "      <td>28</td>\n",
       "      <td>41</td>\n",
       "      <td>23</td>\n",
       "      <td>415</td>\n",
       "    </tr>\n",
       "    <tr>\n",
       "      <th>7th-8th</th>\n",
       "      <td>10</td>\n",
       "      <td>14</td>\n",
       "      <td>90</td>\n",
       "      <td>23</td>\n",
       "      <td>818</td>\n",
       "    </tr>\n",
       "    <tr>\n",
       "      <th>9th</th>\n",
       "      <td>9</td>\n",
       "      <td>10</td>\n",
       "      <td>111</td>\n",
       "      <td>15</td>\n",
       "      <td>611</td>\n",
       "    </tr>\n",
       "    <tr>\n",
       "      <th>Assoc-acdm</th>\n",
       "      <td>13</td>\n",
       "      <td>49</td>\n",
       "      <td>161</td>\n",
       "      <td>10</td>\n",
       "      <td>1368</td>\n",
       "    </tr>\n",
       "    <tr>\n",
       "      <th>Assoc-voc</th>\n",
       "      <td>31</td>\n",
       "      <td>53</td>\n",
       "      <td>165</td>\n",
       "      <td>9</td>\n",
       "      <td>1803</td>\n",
       "    </tr>\n",
       "    <tr>\n",
       "      <th>Bachelors</th>\n",
       "      <td>29</td>\n",
       "      <td>408</td>\n",
       "      <td>504</td>\n",
       "      <td>50</td>\n",
       "      <td>7034</td>\n",
       "    </tr>\n",
       "    <tr>\n",
       "      <th>Doctorate</th>\n",
       "      <td>3</td>\n",
       "      <td>46</td>\n",
       "      <td>16</td>\n",
       "      <td>3</td>\n",
       "      <td>526</td>\n",
       "    </tr>\n",
       "    <tr>\n",
       "      <th>HS-grad</th>\n",
       "      <td>176</td>\n",
       "      <td>336</td>\n",
       "      <td>1780</td>\n",
       "      <td>105</td>\n",
       "      <td>13387</td>\n",
       "    </tr>\n",
       "    <tr>\n",
       "      <th>Masters</th>\n",
       "      <td>13</td>\n",
       "      <td>140</td>\n",
       "      <td>143</td>\n",
       "      <td>13</td>\n",
       "      <td>2348</td>\n",
       "    </tr>\n",
       "    <tr>\n",
       "      <th>Preschool</th>\n",
       "      <td>1</td>\n",
       "      <td>7</td>\n",
       "      <td>12</td>\n",
       "      <td>2</td>\n",
       "      <td>61</td>\n",
       "    </tr>\n",
       "    <tr>\n",
       "      <th>Prof-school</th>\n",
       "      <td>2</td>\n",
       "      <td>58</td>\n",
       "      <td>21</td>\n",
       "      <td>5</td>\n",
       "      <td>748</td>\n",
       "    </tr>\n",
       "    <tr>\n",
       "      <th>Some-college</th>\n",
       "      <td>124</td>\n",
       "      <td>302</td>\n",
       "      <td>1078</td>\n",
       "      <td>85</td>\n",
       "      <td>9289</td>\n",
       "    </tr>\n",
       "  </tbody>\n",
       "</table>\n",
       "</div>"
      ],
      "text/plain": [
       "race          Amer-Indian-Eskimo  Asian-Pac-Islander  Black  Other  White\n",
       "education                                                                \n",
       "10th                          22                  16    182     11   1158\n",
       "11th                          26                  27    252     22   1485\n",
       "12th                           5                  15    105     17    515\n",
       "1st-4th                        4                  10     24     13    196\n",
       "5th-6th                        2                  28     41     23    415\n",
       "7th-8th                       10                  14     90     23    818\n",
       "9th                            9                  10    111     15    611\n",
       "Assoc-acdm                    13                  49    161     10   1368\n",
       "Assoc-voc                     31                  53    165      9   1803\n",
       "Bachelors                     29                 408    504     50   7034\n",
       "Doctorate                      3                  46     16      3    526\n",
       "HS-grad                      176                 336   1780    105  13387\n",
       "Masters                       13                 140    143     13   2348\n",
       "Preschool                      1                   7     12      2     61\n",
       "Prof-school                    2                  58     21      5    748\n",
       "Some-college                 124                 302   1078     85   9289"
      ]
     },
     "execution_count": 118,
     "metadata": {},
     "output_type": "execute_result"
    }
   ],
   "source": [
    "tabla_contingencia = pd.crosstab(censo_data[\"education\"], censo_data[\"race\"])\n",
    "tabla_contingencia"
   ]
  },
  {
   "cell_type": "code",
   "execution_count": 119,
   "metadata": {},
   "outputs": [
    {
     "name": "stdout",
     "output_type": "stream",
     "text": [
      "Valor del test:  1040.6622432490265  \n",
      " \n",
      " p-valor:  7.472985630265706e-179 \n",
      " \n",
      " Grados de Libertad:  60 \n",
      " \n",
      " Valores esperados:  [[1.33661603e+01 4.31982925e+01 1.33235023e+02 1.15460874e+01\n",
      "  1.18765444e+03]\n",
      " [1.74366324e+01 5.63537120e+01 1.73809836e+02 1.50622825e+01\n",
      "  1.54933754e+03]\n",
      " [6.32222268e+00 2.04328856e+01 6.30204537e+01 5.46132427e+00\n",
      "  5.61763114e+02]\n",
      " [2.37684779e+00 7.68176979e+00 2.36926211e+01 2.05319192e+00\n",
      "  2.11195569e+02]\n",
      " [4.89803857e+00 1.58300438e+01 4.88240654e+01 4.23107162e+00\n",
      "  4.35216781e+02]\n",
      " [9.18983662e+00 2.97007698e+01 9.16050735e+01 7.93845461e+00\n",
      "  8.16565865e+02]\n",
      " [7.27488637e+00 2.35118136e+01 7.25166865e+01 6.28426354e+00\n",
      "  6.46412350e+02]\n",
      " [1.54062078e+01 4.97915524e+01 1.53570390e+02 1.33083412e+01\n",
      "  1.36892351e+03]\n",
      " [1.98327259e+01 6.40976823e+01 1.97694300e+02 1.71320994e+01\n",
      "  1.76224319e+03]\n",
      " [7.72234962e+01 2.49579767e+02 7.69770382e+02 6.67079563e+01\n",
      "  6.86171840e+03]\n",
      " [5.71598215e+00 1.84735678e+01 5.69773965e+01 4.93763564e+00\n",
      "  5.07895418e+02]\n",
      " [1.51887310e+02 4.90886860e+02 1.51402563e+03 1.31204783e+02\n",
      "  1.34959954e+04]\n",
      " [2.55679538e+01 8.26334507e+01 2.54863540e+02 2.20863601e+01\n",
      "  2.27184870e+03]\n",
      " [7.98697842e-01 2.58132345e+00 7.96148806e+00 6.89938987e-01\n",
      "  7.09685517e+01]\n",
      " [8.02546988e+00 2.59376356e+01 7.99985668e+01 6.93263994e+00\n",
      "  7.13105688e+02]\n",
      " [1.04677532e+02 3.38308874e+02 1.04343454e+03 9.04235699e+01\n",
      "  9.30115548e+03]]\n"
     ]
    }
   ],
   "source": [
    "chi_cuadrado, p_value, degree_freedom, expected_values = stats.chi2_contingency(tabla_contingencia)\n",
    "print('Valor del test: ', chi_cuadrado, ' \\n \\n p-valor: ', \n",
    "      p_value, '\\n \\n Grados de Libertad: ', \n",
    "      degree_freedom,'\\n \\n Valores esperados: ', expected_values)"
   ]
  },
  {
   "cell_type": "code",
   "execution_count": 120,
   "metadata": {},
   "outputs": [
    {
     "name": "stdout",
     "output_type": "stream",
     "text": [
      "Decisión: Rechazar H0\n"
     ]
    }
   ],
   "source": [
    "decision(p_value, 0.05)"
   ]
  },
  {
   "cell_type": "markdown",
   "metadata": {},
   "source": [
    "Por lo tanto las variables Educación y  Raza no son independientes (existe una relación significativa)."
   ]
  },
  {
   "cell_type": "markdown",
   "metadata": {},
   "source": [
    "### Test de Homogeneidad"
   ]
  },
  {
   "cell_type": "markdown",
   "metadata": {},
   "source": [
    "Supongamos que estamos intentando descubrir si la conformidad respecto a las clases virtuales durante la pandemia del año 2020 es similar en estudiantes de carreras pertenecientes a diversas áreas. Para esto se recopilan datos de estudiantes de Psicología, Ingeniería, Odontología y Arquitectura y se agrupan las respuestas de acuerdo a las siguientes categorías:\n",
    "\n",
    "- Conforme con la modalidad virtual (OPCION 1)\n",
    "- Prefiero la modalidad presencial (OPCION 2)\n",
    "- Hubiese preferido una combinación de ambas (OPCION 3)\n",
    "- Algunas materias me resultan difíciles desde lo virtual (OPCION 4)\n",
    "\n",
    "A modo ilustrativo se genera el siguiente conjunto de datos sintético:"
   ]
  },
  {
   "cell_type": "code",
   "execution_count": 121,
   "metadata": {},
   "outputs": [
    {
     "data": {
      "text/html": [
       "<div>\n",
       "<style scoped>\n",
       "    .dataframe tbody tr th:only-of-type {\n",
       "        vertical-align: middle;\n",
       "    }\n",
       "\n",
       "    .dataframe tbody tr th {\n",
       "        vertical-align: top;\n",
       "    }\n",
       "\n",
       "    .dataframe thead th {\n",
       "        text-align: right;\n",
       "    }\n",
       "</style>\n",
       "<table border=\"1\" class=\"dataframe\">\n",
       "  <thead>\n",
       "    <tr style=\"text-align: right;\">\n",
       "      <th></th>\n",
       "      <th>OPCION 1</th>\n",
       "      <th>OPCION 2</th>\n",
       "      <th>OPCION 3</th>\n",
       "      <th>OPCION 4</th>\n",
       "    </tr>\n",
       "  </thead>\n",
       "  <tbody>\n",
       "    <tr>\n",
       "      <th>PSICOLOGIA</th>\n",
       "      <td>103</td>\n",
       "      <td>351</td>\n",
       "      <td>321</td>\n",
       "      <td>466</td>\n",
       "    </tr>\n",
       "    <tr>\n",
       "      <th>INGENIERIA</th>\n",
       "      <td>85</td>\n",
       "      <td>120</td>\n",
       "      <td>95</td>\n",
       "      <td>50</td>\n",
       "    </tr>\n",
       "    <tr>\n",
       "      <th>ODONTOLOGIA</th>\n",
       "      <td>145</td>\n",
       "      <td>178</td>\n",
       "      <td>64</td>\n",
       "      <td>147</td>\n",
       "    </tr>\n",
       "    <tr>\n",
       "      <th>ARQUITECTURA</th>\n",
       "      <td>49</td>\n",
       "      <td>36</td>\n",
       "      <td>136</td>\n",
       "      <td>199</td>\n",
       "    </tr>\n",
       "  </tbody>\n",
       "</table>\n",
       "</div>"
      ],
      "text/plain": [
       "              OPCION 1  OPCION 2  OPCION 3  OPCION 4\n",
       "PSICOLOGIA         103       351       321       466\n",
       "INGENIERIA          85       120        95        50\n",
       "ODONTOLOGIA        145       178        64       147\n",
       "ARQUITECTURA        49        36       136       199"
      ]
     },
     "execution_count": 121,
     "metadata": {},
     "output_type": "execute_result"
    }
   ],
   "source": [
    "d = {'OPCION 1': [103, 85, 145,49], 'OPCION 2': [351,120, 178, 36],\n",
    "     'OPCION 3': [321,95, 64, 136],'OPCION 4': [466,50,147,199]}\n",
    "encuesta_conformidad = pd.DataFrame(data=d, index=['PSICOLOGIA','INGENIERIA','ODONTOLOGIA','ARQUITECTURA'])\n",
    "encuesta_conformidad"
   ]
  },
  {
   "cell_type": "markdown",
   "metadata": {},
   "source": [
    "Al igual que el Test de Independencia, el test de Homogeneidad utiliza el estadístico de chi-cuadrado. A nivel del Test estadístico el procedimiento es el mismo, la diferencia radica en lo que se está comparando con el test y las posteriores interpretaciones que se extraen. Recordemos:\n",
    "\n",
    "- Independencia: Se comparan dos variables categóricas sobre una misma población\n",
    "- Homogeneidad: Se compara la distribución de una variable categórica sobre dos o más poblaciones."
   ]
  },
  {
   "cell_type": "markdown",
   "metadata": {},
   "source": [
    "Ahora bien, planteamos las hipótesis del test:\n",
    "\n",
    "- **H0**: Para cada una de opciones en la encuesta anterior, las proporciones de estudiantes de Psicología, Ingeniería, Odontología y Arquitectura no son significativamente diferentes.\n",
    "\n",
    "- **H1**: Para al menos una de las opciones, las proporciones de estudiantes de Psicología, Ingeniería, Odontología y Arquitectura son significativamente diferente.\n",
    "\n",
    "- **Nivel de significación: $\\alpha$**= 0.05."
   ]
  },
  {
   "cell_type": "markdown",
   "metadata": {},
   "source": [
    "#### Tabla de contingencia"
   ]
  },
  {
   "cell_type": "code",
   "execution_count": 122,
   "metadata": {},
   "outputs": [
    {
     "data": {
      "text/html": [
       "<div>\n",
       "<style scoped>\n",
       "    .dataframe tbody tr th:only-of-type {\n",
       "        vertical-align: middle;\n",
       "    }\n",
       "\n",
       "    .dataframe tbody tr th {\n",
       "        vertical-align: top;\n",
       "    }\n",
       "\n",
       "    .dataframe thead th {\n",
       "        text-align: right;\n",
       "    }\n",
       "</style>\n",
       "<table border=\"1\" class=\"dataframe\">\n",
       "  <thead>\n",
       "    <tr style=\"text-align: right;\">\n",
       "      <th></th>\n",
       "      <th>OPCION 1</th>\n",
       "      <th>OPCION 2</th>\n",
       "      <th>OPCION 3</th>\n",
       "      <th>OPCION 4</th>\n",
       "    </tr>\n",
       "  </thead>\n",
       "  <tbody>\n",
       "    <tr>\n",
       "      <th>PSICOLOGIA</th>\n",
       "      <td>103</td>\n",
       "      <td>351</td>\n",
       "      <td>321</td>\n",
       "      <td>466</td>\n",
       "    </tr>\n",
       "    <tr>\n",
       "      <th>INGENIERIA</th>\n",
       "      <td>85</td>\n",
       "      <td>120</td>\n",
       "      <td>95</td>\n",
       "      <td>50</td>\n",
       "    </tr>\n",
       "    <tr>\n",
       "      <th>ODONTOLOGIA</th>\n",
       "      <td>145</td>\n",
       "      <td>178</td>\n",
       "      <td>64</td>\n",
       "      <td>147</td>\n",
       "    </tr>\n",
       "    <tr>\n",
       "      <th>ARQUITECTURA</th>\n",
       "      <td>49</td>\n",
       "      <td>36</td>\n",
       "      <td>136</td>\n",
       "      <td>199</td>\n",
       "    </tr>\n",
       "  </tbody>\n",
       "</table>\n",
       "</div>"
      ],
      "text/plain": [
       "              OPCION 1  OPCION 2  OPCION 3  OPCION 4\n",
       "PSICOLOGIA         103       351       321       466\n",
       "INGENIERIA          85       120        95        50\n",
       "ODONTOLOGIA        145       178        64       147\n",
       "ARQUITECTURA        49        36       136       199"
      ]
     },
     "execution_count": 122,
     "metadata": {},
     "output_type": "execute_result"
    }
   ],
   "source": [
    "tabla_contingencia = encuesta_conformidad\n",
    "tabla_contingencia"
   ]
  },
  {
   "cell_type": "markdown",
   "metadata": {},
   "source": [
    "#### Test estadístico"
   ]
  },
  {
   "cell_type": "code",
   "execution_count": 123,
   "metadata": {
    "scrolled": true
   },
   "outputs": [
    {
     "name": "stdout",
     "output_type": "stream",
     "text": [
      "Valor del test:  302.2710702820085  \n",
      " \n",
      " p-valor:  8.608287723476637e-60 \n",
      " \n",
      " Grados de Libertad:  9 \n",
      " \n",
      " Valores esperados:  [[186.2719057  334.021611   300.37563851 420.33084479]\n",
      " [ 52.53438114  94.2043222   84.7151277  118.54616896]\n",
      " [ 80.1524558  143.72888016 129.25108055 180.8675835 ]\n",
      " [ 63.04125737 113.04518664 101.65815324 142.25540275]]\n"
     ]
    }
   ],
   "source": [
    "chi_cuadrado, p_value, degree_freedom, expected_values = stats.chi2_contingency(tabla_contingencia)\n",
    "print('Valor del test: ', chi_cuadrado, ' \\n \\n p-valor: ', \n",
    "      p_value, '\\n \\n Grados de Libertad: ', \n",
    "      degree_freedom,'\\n \\n Valores esperados: ', expected_values)"
   ]
  },
  {
   "cell_type": "code",
   "execution_count": 124,
   "metadata": {},
   "outputs": [
    {
     "name": "stdout",
     "output_type": "stream",
     "text": [
      "Decisión: Rechazar H0\n"
     ]
    }
   ],
   "source": [
    "decision(p_value, 0.05)"
   ]
  },
  {
   "cell_type": "markdown",
   "metadata": {},
   "source": [
    "Luego, la proporción de estudiantes de las distintas carreras sobre cada una de las respuestas a la encuesta de conformidad de las clases virtuales *son significativamente distintas*. En otras palabras, al menos una de las proporciones es significativamente distintas a las demás. "
   ]
  },
  {
   "cell_type": "markdown",
   "metadata": {},
   "source": [
    "### Test de Mc Nemar"
   ]
  },
  {
   "cell_type": "markdown",
   "metadata": {},
   "source": [
    "El ejemplo clásico, y muy útil, de aplicación de este test consiste en analizar la respuesta del organismo luego de un determinado tratamiento médico (por ejemplo estudiando si luego del mismo los síntomas desaparecieron o no). Con este test siempre trabajamos con una tabla de contingencia 2x2.\n",
    "\n",
    "Para mostrar como se utiliza este test, generemos nuevamente un conjunto de datos sintéticos donde las filas y columnas representan la presencia/ausencia de síntomas antes y después respectivamente de cierto tratamiento."
   ]
  },
  {
   "cell_type": "markdown",
   "metadata": {},
   "source": [
    "#### Tabla de contingencia"
   ]
  },
  {
   "cell_type": "code",
   "execution_count": 125,
   "metadata": {
    "scrolled": true
   },
   "outputs": [
    {
     "data": {
      "text/html": [
       "<div>\n",
       "<style scoped>\n",
       "    .dataframe tbody tr th:only-of-type {\n",
       "        vertical-align: middle;\n",
       "    }\n",
       "\n",
       "    .dataframe tbody tr th {\n",
       "        vertical-align: top;\n",
       "    }\n",
       "\n",
       "    .dataframe thead th {\n",
       "        text-align: right;\n",
       "    }\n",
       "</style>\n",
       "<table border=\"1\" class=\"dataframe\">\n",
       "  <thead>\n",
       "    <tr style=\"text-align: right;\">\n",
       "      <th></th>\n",
       "      <th>DESPUES_SI</th>\n",
       "      <th>DESPUES_NO</th>\n",
       "    </tr>\n",
       "  </thead>\n",
       "  <tbody>\n",
       "    <tr>\n",
       "      <th>ANTES_SI</th>\n",
       "      <td>80</td>\n",
       "      <td>100</td>\n",
       "    </tr>\n",
       "    <tr>\n",
       "      <th>ANTES_NO</th>\n",
       "      <td>10</td>\n",
       "      <td>110</td>\n",
       "    </tr>\n",
       "  </tbody>\n",
       "</table>\n",
       "</div>"
      ],
      "text/plain": [
       "          DESPUES_SI  DESPUES_NO\n",
       "ANTES_SI          80         100\n",
       "ANTES_NO          10         110"
      ]
     },
     "execution_count": 125,
     "metadata": {},
     "output_type": "execute_result"
    }
   ],
   "source": [
    "matriz_contingencia = pd.DataFrame([[80, 100],\n",
    "                                   [10,110]],\n",
    "                                  columns=['SINTOMAS_SI', 'SINTOMAS_NO'], \n",
    "                                  index= ['SINTOMAS_SI','SINTOMAS_NO'])\n",
    "matriz_contingencia"
   ]
  },
  {
   "cell_type": "markdown",
   "metadata": {},
   "source": [
    "Planteamos la H0 y H1:\n",
    "\n",
    "- **H0**: No hay cambios significativos luego del tratamiento en cuanto a la presencia/ausencia de síntomas.\n",
    "\n",
    "- **H1**: Existen cambios significativos sobre los síntomas luego de realizar el tratamiento médico.\n",
    "\n",
    "- **Nivel de significación: $\\alpha$**= 0.05."
   ]
  },
  {
   "cell_type": "markdown",
   "metadata": {},
   "source": [
    "#### Test estadístico"
   ]
  },
  {
   "cell_type": "markdown",
   "metadata": {},
   "source": [
    "Vamos a utilizar el test de mcnemar disponible en la librería statsmodels.\n",
    "\n",
    "https://www.statsmodels.org/dev/generated/statsmodels.stats.contingency_tables.mcnemar.html"
   ]
  },
  {
   "cell_type": "code",
   "execution_count": 126,
   "metadata": {
    "scrolled": true
   },
   "outputs": [
    {
     "name": "stdout",
     "output_type": "stream",
     "text": [
      "Valor del test:  72.00909090909092  \n",
      " \n",
      " p-valor:  2.1420824611432634e-17\n"
     ]
    }
   ],
   "source": [
    "result = mcnemar([[80, 100],[10,110]], exact=False)\n",
    "print('Valor del test: ', result.statistic, ' \\n \\n p-valor: ', \n",
    "      result.pvalue)"
   ]
  },
  {
   "cell_type": "code",
   "execution_count": 127,
   "metadata": {},
   "outputs": [
    {
     "name": "stdout",
     "output_type": "stream",
     "text": [
      "Decisión: Rechazar H0\n"
     ]
    }
   ],
   "source": [
    "decision(result.pvalue, 0.05)"
   ]
  },
  {
   "cell_type": "markdown",
   "metadata": {},
   "source": [
    "Luego, existen cambios significativos sobre los síntomas luego de realizar el tratamiento médico."
   ]
  },
  {
   "cell_type": "markdown",
   "metadata": {},
   "source": [
    "### Test Q de Cochran"
   ]
  },
  {
   "cell_type": "markdown",
   "metadata": {},
   "source": [
    "Este test es una extensión de McNemar que permite comparar proporciones considerando tres o más grupos.\n",
    "\n",
    "Supongamos que en lugar de considerar un solo tratamiento, queremos analizar si 4 tratamientos diferentes poseen los mismos efectos (Funcionaron/No funcionaron) sobre 30 pacientes estudiados. Esto nos da una tabla de 30 filas y 4 columnas con 0 (No Funcionó) y 1 (Funcionó), similar a la siguiente:"
   ]
  },
  {
   "cell_type": "markdown",
   "metadata": {},
   "source": [
    "#### Tabla"
   ]
  },
  {
   "cell_type": "code",
   "execution_count": 128,
   "metadata": {},
   "outputs": [
    {
     "data": {
      "text/html": [
       "<div>\n",
       "<style scoped>\n",
       "    .dataframe tbody tr th:only-of-type {\n",
       "        vertical-align: middle;\n",
       "    }\n",
       "\n",
       "    .dataframe tbody tr th {\n",
       "        vertical-align: top;\n",
       "    }\n",
       "\n",
       "    .dataframe thead th {\n",
       "        text-align: right;\n",
       "    }\n",
       "</style>\n",
       "<table border=\"1\" class=\"dataframe\">\n",
       "  <thead>\n",
       "    <tr style=\"text-align: right;\">\n",
       "      <th></th>\n",
       "      <th>T1</th>\n",
       "      <th>T2</th>\n",
       "      <th>T3</th>\n",
       "      <th>T4</th>\n",
       "    </tr>\n",
       "  </thead>\n",
       "  <tbody>\n",
       "    <tr>\n",
       "      <th>0</th>\n",
       "      <td>0</td>\n",
       "      <td>1</td>\n",
       "      <td>0</td>\n",
       "      <td>0</td>\n",
       "    </tr>\n",
       "    <tr>\n",
       "      <th>1</th>\n",
       "      <td>0</td>\n",
       "      <td>0</td>\n",
       "      <td>1</td>\n",
       "      <td>1</td>\n",
       "    </tr>\n",
       "    <tr>\n",
       "      <th>2</th>\n",
       "      <td>0</td>\n",
       "      <td>1</td>\n",
       "      <td>1</td>\n",
       "      <td>1</td>\n",
       "    </tr>\n",
       "    <tr>\n",
       "      <th>3</th>\n",
       "      <td>0</td>\n",
       "      <td>0</td>\n",
       "      <td>1</td>\n",
       "      <td>1</td>\n",
       "    </tr>\n",
       "    <tr>\n",
       "      <th>4</th>\n",
       "      <td>1</td>\n",
       "      <td>1</td>\n",
       "      <td>1</td>\n",
       "      <td>0</td>\n",
       "    </tr>\n",
       "    <tr>\n",
       "      <th>5</th>\n",
       "      <td>1</td>\n",
       "      <td>0</td>\n",
       "      <td>1</td>\n",
       "      <td>0</td>\n",
       "    </tr>\n",
       "    <tr>\n",
       "      <th>6</th>\n",
       "      <td>0</td>\n",
       "      <td>0</td>\n",
       "      <td>1</td>\n",
       "      <td>1</td>\n",
       "    </tr>\n",
       "    <tr>\n",
       "      <th>7</th>\n",
       "      <td>1</td>\n",
       "      <td>1</td>\n",
       "      <td>1</td>\n",
       "      <td>1</td>\n",
       "    </tr>\n",
       "    <tr>\n",
       "      <th>8</th>\n",
       "      <td>1</td>\n",
       "      <td>0</td>\n",
       "      <td>1</td>\n",
       "      <td>0</td>\n",
       "    </tr>\n",
       "    <tr>\n",
       "      <th>9</th>\n",
       "      <td>0</td>\n",
       "      <td>0</td>\n",
       "      <td>0</td>\n",
       "      <td>1</td>\n",
       "    </tr>\n",
       "    <tr>\n",
       "      <th>10</th>\n",
       "      <td>0</td>\n",
       "      <td>0</td>\n",
       "      <td>1</td>\n",
       "      <td>0</td>\n",
       "    </tr>\n",
       "    <tr>\n",
       "      <th>11</th>\n",
       "      <td>1</td>\n",
       "      <td>1</td>\n",
       "      <td>0</td>\n",
       "      <td>0</td>\n",
       "    </tr>\n",
       "    <tr>\n",
       "      <th>12</th>\n",
       "      <td>1</td>\n",
       "      <td>1</td>\n",
       "      <td>0</td>\n",
       "      <td>0</td>\n",
       "    </tr>\n",
       "    <tr>\n",
       "      <th>13</th>\n",
       "      <td>0</td>\n",
       "      <td>0</td>\n",
       "      <td>0</td>\n",
       "      <td>0</td>\n",
       "    </tr>\n",
       "    <tr>\n",
       "      <th>14</th>\n",
       "      <td>0</td>\n",
       "      <td>1</td>\n",
       "      <td>0</td>\n",
       "      <td>1</td>\n",
       "    </tr>\n",
       "    <tr>\n",
       "      <th>15</th>\n",
       "      <td>0</td>\n",
       "      <td>1</td>\n",
       "      <td>1</td>\n",
       "      <td>0</td>\n",
       "    </tr>\n",
       "    <tr>\n",
       "      <th>16</th>\n",
       "      <td>0</td>\n",
       "      <td>0</td>\n",
       "      <td>0</td>\n",
       "      <td>1</td>\n",
       "    </tr>\n",
       "    <tr>\n",
       "      <th>17</th>\n",
       "      <td>0</td>\n",
       "      <td>0</td>\n",
       "      <td>1</td>\n",
       "      <td>0</td>\n",
       "    </tr>\n",
       "    <tr>\n",
       "      <th>18</th>\n",
       "      <td>1</td>\n",
       "      <td>0</td>\n",
       "      <td>1</td>\n",
       "      <td>1</td>\n",
       "    </tr>\n",
       "    <tr>\n",
       "      <th>19</th>\n",
       "      <td>1</td>\n",
       "      <td>1</td>\n",
       "      <td>0</td>\n",
       "      <td>0</td>\n",
       "    </tr>\n",
       "    <tr>\n",
       "      <th>20</th>\n",
       "      <td>0</td>\n",
       "      <td>0</td>\n",
       "      <td>0</td>\n",
       "      <td>0</td>\n",
       "    </tr>\n",
       "    <tr>\n",
       "      <th>21</th>\n",
       "      <td>0</td>\n",
       "      <td>1</td>\n",
       "      <td>1</td>\n",
       "      <td>0</td>\n",
       "    </tr>\n",
       "    <tr>\n",
       "      <th>22</th>\n",
       "      <td>0</td>\n",
       "      <td>0</td>\n",
       "      <td>0</td>\n",
       "      <td>1</td>\n",
       "    </tr>\n",
       "    <tr>\n",
       "      <th>23</th>\n",
       "      <td>1</td>\n",
       "      <td>0</td>\n",
       "      <td>0</td>\n",
       "      <td>0</td>\n",
       "    </tr>\n",
       "    <tr>\n",
       "      <th>24</th>\n",
       "      <td>0</td>\n",
       "      <td>0</td>\n",
       "      <td>1</td>\n",
       "      <td>0</td>\n",
       "    </tr>\n",
       "    <tr>\n",
       "      <th>25</th>\n",
       "      <td>0</td>\n",
       "      <td>0</td>\n",
       "      <td>0</td>\n",
       "      <td>0</td>\n",
       "    </tr>\n",
       "    <tr>\n",
       "      <th>26</th>\n",
       "      <td>0</td>\n",
       "      <td>1</td>\n",
       "      <td>1</td>\n",
       "      <td>0</td>\n",
       "    </tr>\n",
       "    <tr>\n",
       "      <th>27</th>\n",
       "      <td>1</td>\n",
       "      <td>0</td>\n",
       "      <td>1</td>\n",
       "      <td>1</td>\n",
       "    </tr>\n",
       "    <tr>\n",
       "      <th>28</th>\n",
       "      <td>0</td>\n",
       "      <td>1</td>\n",
       "      <td>0</td>\n",
       "      <td>1</td>\n",
       "    </tr>\n",
       "    <tr>\n",
       "      <th>29</th>\n",
       "      <td>0</td>\n",
       "      <td>1</td>\n",
       "      <td>1</td>\n",
       "      <td>0</td>\n",
       "    </tr>\n",
       "  </tbody>\n",
       "</table>\n",
       "</div>"
      ],
      "text/plain": [
       "    T1  T2  T3  T4\n",
       "0    0   1   0   0\n",
       "1    0   0   1   1\n",
       "2    0   1   1   1\n",
       "3    0   0   1   1\n",
       "4    1   1   1   0\n",
       "5    1   0   1   0\n",
       "6    0   0   1   1\n",
       "7    1   1   1   1\n",
       "8    1   0   1   0\n",
       "9    0   0   0   1\n",
       "10   0   0   1   0\n",
       "11   1   1   0   0\n",
       "12   1   1   0   0\n",
       "13   0   0   0   0\n",
       "14   0   1   0   1\n",
       "15   0   1   1   0\n",
       "16   0   0   0   1\n",
       "17   0   0   1   0\n",
       "18   1   0   1   1\n",
       "19   1   1   0   0\n",
       "20   0   0   0   0\n",
       "21   0   1   1   0\n",
       "22   0   0   0   1\n",
       "23   1   0   0   0\n",
       "24   0   0   1   0\n",
       "25   0   0   0   0\n",
       "26   0   1   1   0\n",
       "27   1   0   1   1\n",
       "28   0   1   0   1\n",
       "29   0   1   1   0"
      ]
     },
     "execution_count": 128,
     "metadata": {},
     "output_type": "execute_result"
    }
   ],
   "source": [
    "tabla =  pd.DataFrame(np.random.randint(0,2,size=(30, 4)), columns=['T1','T2','T3','T4'])\n",
    "tabla"
   ]
  },
  {
   "cell_type": "markdown",
   "metadata": {},
   "source": [
    "Planteamos H0 y H1:\n",
    "\n",
    "- **H0**: No existen diferencias significativas entre los 4 tratamientos.\n",
    "\n",
    "- **H1**: Existen diferencias significativas entre los 4 tratamientos.\n",
    "\n",
    "- **Nivel de significación: $\\alpha$**= 0.05."
   ]
  },
  {
   "cell_type": "markdown",
   "metadata": {},
   "source": [
    "#### Test estadístico"
   ]
  },
  {
   "cell_type": "markdown",
   "metadata": {},
   "source": [
    "Vamos a utilizar el test de Cochran de la libería statsmodels.\n",
    "\n",
    "https://www.statsmodels.org/stable/generated/statsmodels.stats.contingency_tables.cochrans_q.html"
   ]
  },
  {
   "cell_type": "code",
   "execution_count": 129,
   "metadata": {},
   "outputs": [
    {
     "name": "stdout",
     "output_type": "stream",
     "text": [
      "Valor del test:  3.391304347826087  \n",
      " \n",
      " p-valor:  0.3351356036041686 \n",
      " \n",
      " Grados de Libertad:  3\n"
     ]
    }
   ],
   "source": [
    "result = cochrans_q(tabla.values.tolist())\n",
    "print('Valor del test: ', result.statistic, ' \\n \\n p-valor: ', \n",
    "      result.pvalue,'\\n \\n Grados de Libertad: ', \n",
    "      result.df)\n"
   ]
  },
  {
   "cell_type": "code",
   "execution_count": 130,
   "metadata": {},
   "outputs": [
    {
     "name": "stdout",
     "output_type": "stream",
     "text": [
      "Decisión: No Rechazar H0\n"
     ]
    }
   ],
   "source": [
    "decision(result.pvalue, 0.05)"
   ]
  },
  {
   "cell_type": "markdown",
   "metadata": {},
   "source": [
    "Luego, no hay evidencia suficiente para concluir que las diferencias en los efectos de los tratamientos son significativas."
   ]
  },
  {
   "cell_type": "code",
   "execution_count": null,
   "metadata": {},
   "outputs": [],
   "source": []
  }
 ],
 "metadata": {
  "kernelspec": {
   "display_name": "Python 3",
   "language": "python",
   "name": "python3"
  },
  "language_info": {
   "codemirror_mode": {
    "name": "ipython",
    "version": 3
   },
   "file_extension": ".py",
   "mimetype": "text/x-python",
   "name": "python",
   "nbconvert_exporter": "python",
   "pygments_lexer": "ipython3",
   "version": "3.8.3"
  },
  "toc": {
   "base_numbering": 1,
   "nav_menu": {},
   "number_sections": true,
   "sideBar": true,
   "skip_h1_title": true,
   "title_cell": "Table of Contents",
   "title_sidebar": "Contents",
   "toc_cell": true,
   "toc_position": {
    "height": "457px",
    "left": "428px",
    "top": "386px",
    "width": "209.891px"
   },
   "toc_section_display": true,
   "toc_window_display": true
  }
 },
 "nbformat": 4,
 "nbformat_minor": 2
}
