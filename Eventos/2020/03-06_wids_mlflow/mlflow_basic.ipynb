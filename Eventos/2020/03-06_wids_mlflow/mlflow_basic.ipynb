{
 "cells": [
  {
   "cell_type": "markdown",
   "metadata": {},
   "source": [
    "<center><img src=\"https://mlflow.org/docs/0.4.1/_static/MLflow-logo-final-black.png\" width=\"300\" align=\"center\" /><center>\n",
    " <center><h1><i>“platform for the machine learning lifecycle”</i></h1><center>\n",
    "MLFlow es una plataforma open source que permite administrar el ciclo de vida de ML, incluyendo la experimentación, reproducibilidad y deploy de modelos, además de brindar la posibilidad de comparar la performance de los modelos obtenidos a lo largo del proyecto. Es posible utilizarla con múltiples lenguajes, tanto de manera local como en la nube. "
   ]
  },
  {
   "cell_type": "markdown",
   "metadata": {},
   "source": [
    "## Ejemplo\n",
    "#### Iris DataSet <br>\n",
    "Dataset = Un conjunto de datos o dataset corresponde a los contenidos de una única tabla de base de datos o una única matriz de datos de estadística, donde cada columna de la tabla representa una variable en particular, y cada fila representa a un miembro determinado del conjunto de datos que estamos tratando.<br>\n",
    "Dataset Iris = Contiene datos para cuantificar la variación morfológica de la flor Iris de tres especies relacionadas. <br>\n",
    "Columnas:\n",
    "* Largo de sépalo\n",
    "* Ancho de sépalo\n",
    "* Largo de pétalo\n",
    "* Ancho de pétalo\n",
    "* Especies <- lo que queremos predecir\n",
    "\n",
    "\n",
    "<center><img src=\"https://www.w3resource.com/w3r_images/iris_flower_dataset.png\" width=\"600\" align=\"center\" /><center>\n",
    "\n",
    "<center><img src=\"https://miro.medium.com/max/1100/0*SHhnoaaIm36pc1bd\" width=\"700\" align=\"center\" /><center>\n",
    "<br>\n",
    "\n"
   ]
  },
  {
   "cell_type": "markdown",
   "metadata": {},
   "source": [
    "# Ejemplo de implementación: <br> Usando el algoritmo KNeighborsClassifier de scikit-learn "
   ]
  },
  {
   "cell_type": "markdown",
   "metadata": {},
   "source": [
    "## Primer Paso\n",
    "Instalar la libreria **mlflow**  con `pip install mlflow`"
   ]
  },
  {
   "cell_type": "code",
   "execution_count": null,
   "metadata": {},
   "outputs": [],
   "source": [
    "!pip install mlflow"
   ]
  },
  {
   "cell_type": "markdown",
   "metadata": {},
   "source": [
    "Importar librerias"
   ]
  },
  {
   "cell_type": "code",
   "execution_count": null,
   "metadata": {},
   "outputs": [],
   "source": [
    "import numpy as np \n",
    "import pandas as pd # procesamiento de datos\n",
    "import mlflow\n",
    "import mlflow.sklearn # como voy a entrenar un modelo de sklearn, debo importar este módulo de mlflow\n",
    "from sklearn import datasets # para importar el dataset iris directamente desde los dataset que provee sklearn"
   ]
  },
  {
   "cell_type": "code",
   "execution_count": null,
   "metadata": {},
   "outputs": [],
   "source": [
    "iris_X, iris_y = datasets.load_iris(return_X_y=True)\n",
    "np.unique(iris_y)\n",
    "np.random.seed(0)\n",
    "indices = np.random.permutation(len(iris_X))\n",
    "iris_X_train = iris_X[indices[:-10]]\n",
    "iris_y_train = iris_y[indices[:-10]]\n",
    "iris_X_test = iris_X[indices[-10:]]\n",
    "iris_y_test = iris_y[indices[-10:]]"
   ]
  },
  {
   "cell_type": "code",
   "execution_count": null,
   "metadata": {},
   "outputs": [],
   "source": [
    "\n",
    "# Create and fit a nearest-neighbor classifier\n",
    "from sklearn.neighbors import KNeighborsClassifier   \n",
    "\n",
    "n = 5\n",
    "\n",
    "#mlflow.log_param('n_neighbors', n) # Guardar parametro \"n\" correspondiente al hyperparametro n_neighbors de los KNN\n",
    "\n",
    "knc = KNeighborsClassifier(n_neighbors = n)\n",
    "knc.fit(iris_X_train, iris_y_train)\n",
    "\n",
    "\n",
    "knc.predict(iris_X_test)\n",
    "score = knc.score(iris_X_test, iris_y_test)\n",
    "\n",
    "\n",
    "print('Metrica: {}'.format(score))\n",
    "print('Predicción: {}'.format(knc.predict(iris_X_test)))\n",
    "print('Valor Real: {}'.format(iris_y_test))"
   ]
  },
  {
   "cell_type": "code",
   "execution_count": null,
   "metadata": {},
   "outputs": [],
   "source": [
    "mlflow.start_run()"
   ]
  },
  {
   "cell_type": "code",
   "execution_count": null,
   "metadata": {},
   "outputs": [],
   "source": [
    "# Create and fit a nearest-neighbor classifier\n",
    "from sklearn.ensemble import RandomForestClassifier\n",
    "\n",
    "n_arboles = 50\n",
    "profundidad = 10\n",
    "\n",
    "rf = RandomForestClassifier(n_estimators = n_arboles, max_depth = profundidad)\n",
    "rf.fit(iris_X_train,iris_y_train)\n",
    "\n",
    "mlflow.log_param('_tipo_algoritmo','RandomForestClassifier')\n",
    "mlflow.log_params( rf.get_params())\n",
    "\n",
    "score = rf.score(iris_X_test, iris_y_test)\n",
    "\n",
    "mlflow.log_metric('score_iris', score)\n",
    "mlflow.sklearn.log_model(rf, 'model')\n",
    "\n",
    "print('Metrica: {}'.format(score))\n",
    "print('Predicción: {}'.format(rf.predict(iris_X_test)))\n",
    "print('Valor Real: {}'.format(iris_y_test))"
   ]
  },
  {
   "cell_type": "code",
   "execution_count": null,
   "metadata": {},
   "outputs": [],
   "source": [
    "mlflow.end_run()"
   ]
  },
  {
   "cell_type": "code",
   "execution_count": null,
   "metadata": {},
   "outputs": [],
   "source": [
    "with mlflow.start_run():\n",
    "    # Create and fit a nearest-neighbor classifier\n",
    "    from sklearn.neighbors import KNeighborsClassifier   \n",
    "    \n",
    "    n = 10\n",
    "    \n",
    "    #mlflow.log_param('n_neighbors', n) # Guardar parametro \"n\" correspondiente al hyperparametro n_neighbors de los KNN\n",
    "    \n",
    "    knc = KNeighborsClassifier(n_neighbors = n)\n",
    "    knc.fit(iris_X_train, iris_y_train)\n",
    "    \n",
    "    mlflow.log_param('_tipo_algoritmo','KNeighborsClassifier')\n",
    "    mlflow.log_params(knc.get_params())\n",
    "    \n",
    "    knc.predict(iris_X_test)\n",
    "    score = knc.score(iris_X_test, iris_y_test)\n",
    "    \n",
    "    mlflow.log_metric('score_iris', score) # Guardar la métrica score obtenido de knn\n",
    "    mlflow.sklearn.log_model(knc, 'model') # Guardar la métrica score obtenido de knn\n",
    "    \n",
    "    print('Metrica: {}'.format(score))\n",
    "    print('Predicción: {}'.format(knc.predict(iris_X_test)))\n",
    "    print('Valor Real: {}'.format(iris_y_test))"
   ]
  },
  {
   "cell_type": "markdown",
   "metadata": {},
   "source": [
    "### Explorar los resultados obtenidos\n",
    "Podemos ver los resultados que fuimos guardando en diferentes corridas a partir del comando `search_runs`.\n",
    "Primero podemos consultar los experimentos disponibles usando el comando: `mlflow.tracking.MlflowClient().list_experiments()`\n"
   ]
  },
  {
   "cell_type": "code",
   "execution_count": null,
   "metadata": {},
   "outputs": [],
   "source": [
    "mlflow.tracking.MlflowClient().list_experiments()"
   ]
  },
  {
   "cell_type": "code",
   "execution_count": null,
   "metadata": {},
   "outputs": [],
   "source": [
    "mlflow.search_runs().head(5)"
   ]
  },
  {
   "cell_type": "markdown",
   "metadata": {},
   "source": [
    "### Formas de filtrar los runs\n",
    "Hay dos clases para los comparadores: numericos y string.<br>\n",
    "\n",
    "__Comparadores númericos__  (metrics): =, !=, >, >=, <, and <=.<br>\n",
    "__Comparadores para string__  (params, tags, and attributes): = and !=.<br>\n",
    "\n",
    "##### Ejemplos:\n",
    "Para buscar el subconjunto de ejecuciones con una métrica de precisión registrada mayor que 0.92:<br>\n",
    "`metrics.accuracy > 0.92`\n",
    "\n",
    "Para buscar ejecuciones creadas utilizando un modelo de Regresión logística, una tasa de aprendizaje (lambda) de 0.001 y una métrica de error registrada por debajo de 0.05:<br>\n",
    "`params.model = \"LogisticRegression\" and params.lambda = \"0.001\" and metrics.error <= 0.05`\n",
    "\n",
    "Para buscar los runs que han fallado en su ejecución:<br>\n",
    "`attributes.status = \"FAILED\"`"
   ]
  },
  {
   "cell_type": "code",
   "execution_count": null,
   "metadata": {},
   "outputs": [],
   "source": [
    "mlflow.search_runs(experiment_ids='0', filter_string= 'metrics.score_iris > 0.9').head()"
   ]
  },
  {
   "cell_type": "markdown",
   "metadata": {},
   "source": [
    "### Cargar un modelo guardado"
   ]
  },
  {
   "cell_type": "code",
   "execution_count": null,
   "metadata": {},
   "outputs": [],
   "source": [
    "type(mlflow.search_runs())"
   ]
  },
  {
   "cell_type": "markdown",
   "metadata": {},
   "source": [
    "Obtener direccion del run del cual nos interesa recuperar el modelo guardado"
   ]
  },
  {
   "cell_type": "code",
   "execution_count": null,
   "metadata": {},
   "outputs": [],
   "source": [
    "model_uri = mlflow.search_runs()\\\n",
    "        [mlflow.search_runs()['run_id'] == '5ce2a95886874e9fac49da899ecee6f5']\\\n",
    "        .artifact_uri.item()\n",
    "model_uri"
   ]
  },
  {
   "cell_type": "code",
   "execution_count": null,
   "metadata": {},
   "outputs": [],
   "source": [
    "model = mlflow.sklearn.load_model(model_uri+'/model')"
   ]
  },
  {
   "cell_type": "code",
   "execution_count": null,
   "metadata": {},
   "outputs": [],
   "source": [
    "type(model)"
   ]
  },
  {
   "cell_type": "code",
   "execution_count": null,
   "metadata": {},
   "outputs": [],
   "source": [
    "model= mlflow.sklearn.load_model(model_uri+'/model')\n",
    "print('Predicción: {}'.format(model.predict(iris_X_test)))\n",
    "print('Valor Real: {}'.format(iris_y_test))"
   ]
  },
  {
   "cell_type": "code",
   "execution_count": null,
   "metadata": {},
   "outputs": [],
   "source": [
    "df = pd.DataFrame([model.predict(iris_X_test),iris_y_test]).transpose().rename({0:\"predicho\", 1:\"valor_real\"}, axis = 1)\n",
    "iris_class = {0:'Iris-Setosa',1:'Iris-Versicolour',2:'Iris-Virginica'}\n",
    "df.replace(iris_class, inplace = True)\n",
    "df['son_iguales'] = df.apply(lambda x: True if x.predicho == x.valor_real else False, axis = 1)"
   ]
  },
  {
   "cell_type": "code",
   "execution_count": null,
   "metadata": {},
   "outputs": [],
   "source": [
    "df"
   ]
  },
  {
   "cell_type": "markdown",
   "metadata": {},
   "source": [
    "### Interfaz\n",
    "Tambien contamos con una interfaz gráfica para el analisis de los resultados de los modelo.\n",
    "Podemos acceder escribiendo en la consola de anaconda **mlflow ui** parados en el directorio donde se encuentran almacenados los runs de mlflow. Podemos ver la interfaz accediendo a http://localhost:5000/ en nuestro navegador.\n",
    "<center><img src=\"https://miro.medium.com/max/4872/1*Swexh591ukDYIWNhTQ7YNA.png\" width=\"800\" align=\"center\" /><center>\n",
    "\n"
   ]
  },
  {
   "cell_type": "code",
   "execution_count": null,
   "metadata": {},
   "outputs": [],
   "source": []
  }
 ],
 "metadata": {
  "kernelspec": {
   "display_name": "Python 3",
   "language": "python",
   "name": "python3"
  },
  "language_info": {
   "codemirror_mode": {
    "name": "ipython",
    "version": 3
   },
   "file_extension": ".py",
   "mimetype": "text/x-python",
   "name": "python",
   "nbconvert_exporter": "python",
   "pygments_lexer": "ipython3",
   "version": "3.7.4"
  },
  "toc": {
   "base_numbering": 1,
   "nav_menu": {},
   "number_sections": true,
   "sideBar": true,
   "skip_h1_title": false,
   "title_cell": "Table of Contents",
   "title_sidebar": "Contents",
   "toc_cell": false,
   "toc_position": {},
   "toc_section_display": true,
   "toc_window_display": false
  }
 },
 "nbformat": 4,
 "nbformat_minor": 4
}
