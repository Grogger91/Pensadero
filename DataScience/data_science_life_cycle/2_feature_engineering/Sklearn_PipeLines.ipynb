{
 "cells": [
  {
   "cell_type": "markdown",
   "metadata": {},
   "source": [
    "# PipeLines en sklearn\n",
    "Descripcion\n",
    "#### Descripcion\n",
    "En SciKit learn tenemos pipeline que nos permiter guardar en un solo objecto todo un pre-procesamiento de datos, hasta incluso entrenar modelos.\n",
    "Los pipeline estan compuestos de steps ( pasos ) que se ejecutan de forma secuencial llamando a las funciones **fit()**, **transform()** para cada step ( o **fit()** solo si el step es un estimador ) \n",
    "\n",
    "\n",
    "#### Codigo\n",
    "Vamos a construir un pipeline para envolver todo el pre-procesamiento de un df en un solo objecto, para esto se separan las columnas en numericas y categoricas, luego se contruye un pipeline diferente para cada tipo, y estas se unen mediante la Clase **ColumnTransformer**\n"
   ]
  },
  {
   "cell_type": "code",
   "execution_count": 12,
   "metadata": {},
   "outputs": [],
   "source": [
    "from sklearn.impute import SimpleImputer\n",
    "from sklearn.preprocessing import OneHotEncoder, StandardScaler\n",
    "from sklearn.compose import ColumnTransformer\n",
    "from sklearn.pipeline import Pipeline\n",
    "\n",
    "# lib for testing\n",
    "import pandas as pd\n",
    "import numpy as np\n",
    "from sklearn.datasets import make_classification\n",
    "from sklearn.model_selection import train_test_split, GridSearchCV\n",
    "from sklearn.ensemble import RandomForestClassifier\n",
    "from sklearn.metrics import classification_report"
   ]
  },
  {
   "cell_type": "markdown",
   "metadata": {},
   "source": [
    "- Cargamos el dataset de titanic para probar el Pipe"
   ]
  },
  {
   "cell_type": "code",
   "execution_count": 13,
   "metadata": {},
   "outputs": [
    {
     "name": "stdout",
     "output_type": "stream",
     "text": [
      "<class 'pandas.core.frame.DataFrame'>\n",
      "RangeIndex: 89 entries, 0 to 88\n",
      "Data columns (total 12 columns):\n",
      " #   Column       Non-Null Count  Dtype  \n",
      "---  ------       --------------  -----  \n",
      " 0   PassengerId  89 non-null     int64  \n",
      " 1   Survived     89 non-null     int64  \n",
      " 2   Pclass       89 non-null     int64  \n",
      " 3   Name         89 non-null     object \n",
      " 4   Sex          89 non-null     object \n",
      " 5   Age          73 non-null     float64\n",
      " 6   SibSp        89 non-null     int64  \n",
      " 7   Parch        89 non-null     int64  \n",
      " 8   Ticket       89 non-null     object \n",
      " 9   Fare         89 non-null     float64\n",
      " 10  Cabin        19 non-null     object \n",
      " 11  Embarked     89 non-null     object \n",
      "dtypes: float64(2), int64(5), object(5)\n",
      "memory usage: 8.5+ KB\n"
     ]
    }
   ],
   "source": [
    "df = pd.read_csv('../Data/titanic.csv')\n",
    "df.info()"
   ]
  },
  {
   "cell_type": "markdown",
   "metadata": {},
   "source": [
    "# Pipeline \n",
    "Recomiendo ver el notebook Transformadores_custom para poder usar pre-procesamiento no estandar (ej borrar outliers) "
   ]
  },
  {
   "cell_type": "code",
   "execution_count": 43,
   "metadata": {},
   "outputs": [],
   "source": [
    "X = df.drop('Survived', axis=1)\n",
    "y = df.Survived\n",
    "\n",
    "\n",
    "X_train, X_test, y_train, y_test = train_test_split(X, y, test_size=0.1)"
   ]
  },
  {
   "cell_type": "markdown",
   "metadata": {},
   "source": [
    "- creamos 2 lista con las columas de cada tipo ( numericas y categoricas )"
   ]
  },
  {
   "cell_type": "code",
   "execution_count": 44,
   "metadata": {},
   "outputs": [],
   "source": [
    "numeric_features = X_train.select_dtypes(include=['float64', 'int64']).columns\n",
    "categorical_features = X_train.select_dtypes(include=['object']).columns"
   ]
  },
  {
   "cell_type": "markdown",
   "metadata": {},
   "source": [
    "- Creamos 2 pipeline"
   ]
  },
  {
   "cell_type": "code",
   "execution_count": 45,
   "metadata": {},
   "outputs": [],
   "source": [
    "numeric_pipe = Pipeline(steps=[\n",
    "    ('imputer', SimpleImputer(strategy='median')),\n",
    "    ('scaler', StandardScaler())])\n",
    "\n",
    "categorical_pipe = Pipeline(steps=[\n",
    "    ('imputer', SimpleImputer(strategy='most_frequent')),\n",
    "    ('onehot', OneHotEncoder(handle_unknown='ignore'))])"
   ]
  },
  {
   "cell_type": "markdown",
   "metadata": {},
   "source": [
    "- Unimos los pipeline indicando sobre que columnas va a trabajar cada uno"
   ]
  },
  {
   "cell_type": "code",
   "execution_count": 46,
   "metadata": {},
   "outputs": [],
   "source": [
    "preprocessor = ColumnTransformer(\n",
    "    transformers=[\n",
    "        ('num', numeric_pipe, numeric_features),\n",
    "        ('cat', categorical_pipe, categorical_features)])"
   ]
  },
  {
   "cell_type": "markdown",
   "metadata": {},
   "source": [
    "- Agregamos un estimador que se entrene una vez finalizado el pre-procesamiento"
   ]
  },
  {
   "cell_type": "code",
   "execution_count": 47,
   "metadata": {},
   "outputs": [],
   "source": [
    "rf = Pipeline(steps=[('preprocessor', preprocessor),\n",
    "                      ('classifier', RandomForestClassifier(max_depth=2))])"
   ]
  },
  {
   "cell_type": "markdown",
   "metadata": {},
   "source": [
    "- Ejecutamos todo el Pipeline"
   ]
  },
  {
   "cell_type": "code",
   "execution_count": 48,
   "metadata": {},
   "outputs": [
    {
     "data": {
      "text/plain": [
       "Pipeline(steps=[('preprocessor',\n",
       "                 ColumnTransformer(transformers=[('num',\n",
       "                                                  Pipeline(steps=[('imputer',\n",
       "                                                                   SimpleImputer(strategy='median')),\n",
       "                                                                  ('scaler',\n",
       "                                                                   StandardScaler())]),\n",
       "                                                  Index(['PassengerId', 'Pclass', 'Age', 'SibSp', 'Parch', 'Fare'], dtype='object')),\n",
       "                                                 ('cat',\n",
       "                                                  Pipeline(steps=[('imputer',\n",
       "                                                                   SimpleImputer(strategy='most_frequent')),\n",
       "                                                                  ('onehot',\n",
       "                                                                   OneHotEncoder(handle_unknown='ignore'))]),\n",
       "                                                  Index(['Name', 'Sex', 'Ticket', 'Cabin', 'Embarked'], dtype='object'))])),\n",
       "                ('classifier', RandomForestClassifier(max_depth=2))])"
      ]
     },
     "execution_count": 48,
     "metadata": {},
     "output_type": "execute_result"
    }
   ],
   "source": [
    "rf.fit(X_train, y_train)"
   ]
  },
  {
   "cell_type": "markdown",
   "metadata": {},
   "source": [
    "- Podemos predecir directamente, con la certeza que X_train recibe el mismo tratamiento que el conjunto X_train"
   ]
  },
  {
   "cell_type": "code",
   "execution_count": 49,
   "metadata": {},
   "outputs": [
    {
     "data": {
      "text/plain": [
       "array([0, 1, 1, 1, 0, 1, 0, 1, 1])"
      ]
     },
     "execution_count": 49,
     "metadata": {},
     "output_type": "execute_result"
    }
   ],
   "source": [
    "rf.predict(X_test)"
   ]
  },
  {
   "cell_type": "code",
   "execution_count": 50,
   "metadata": {},
   "outputs": [
    {
     "name": "stdout",
     "output_type": "stream",
     "text": [
      "              precision    recall  f1-score   support\n",
      "\n",
      "           0       0.67      0.50      0.57         4\n",
      "           1       0.67      0.80      0.73         5\n",
      "\n",
      "    accuracy                           0.67         9\n",
      "   macro avg       0.67      0.65      0.65         9\n",
      "weighted avg       0.67      0.67      0.66         9\n",
      "\n"
     ]
    }
   ],
   "source": [
    "print(classification_report(y_test, rf.predict(X_test)))"
   ]
  },
  {
   "cell_type": "markdown",
   "metadata": {},
   "source": [
    "- Si nos interesa podemos ver los steps, accediendo en profundidad"
   ]
  },
  {
   "cell_type": "code",
   "execution_count": 51,
   "metadata": {},
   "outputs": [
    {
     "data": {
      "text/plain": [
       "[('preprocessor',\n",
       "  ColumnTransformer(transformers=[('num',\n",
       "                                   Pipeline(steps=[('imputer',\n",
       "                                                    SimpleImputer(strategy='median')),\n",
       "                                                   ('scaler', StandardScaler())]),\n",
       "                                   Index(['PassengerId', 'Pclass', 'Age', 'SibSp', 'Parch', 'Fare'], dtype='object')),\n",
       "                                  ('cat',\n",
       "                                   Pipeline(steps=[('imputer',\n",
       "                                                    SimpleImputer(strategy='most_frequent')),\n",
       "                                                   ('onehot',\n",
       "                                                    OneHotEncoder(handle_unknown='ignore'))]),\n",
       "                                   Index(['Name', 'Sex', 'Ticket', 'Cabin', 'Embarked'], dtype='object'))])),\n",
       " ('classifier', RandomForestClassifier(max_depth=2))]"
      ]
     },
     "execution_count": 51,
     "metadata": {},
     "output_type": "execute_result"
    }
   ],
   "source": [
    "rf.steps"
   ]
  },
  {
   "cell_type": "code",
   "execution_count": 52,
   "metadata": {},
   "outputs": [
    {
     "data": {
      "text/plain": [
       "array([4.5410000e+02, 2.3375000e+00, 2.7566625e+01, 5.2500000e-01,\n",
       "       3.3750000e-01, 3.0026980e+01])"
      ]
     },
     "execution_count": 52,
     "metadata": {},
     "output_type": "execute_result"
    }
   ],
   "source": [
    "# media de cada columna numerica\n",
    "rf.steps[0][1].transformers_[0][1].steps[1][1].mean_"
   ]
  },
  {
   "cell_type": "code",
   "execution_count": 53,
   "metadata": {},
   "outputs": [
    {
     "data": {
      "text/plain": [
       "[DecisionTreeClassifier(max_depth=2, max_features='auto',\n",
       "                        random_state=1180566417),\n",
       " DecisionTreeClassifier(max_depth=2, max_features='auto', random_state=272057628),\n",
       " DecisionTreeClassifier(max_depth=2, max_features='auto',\n",
       "                        random_state=1145996662),\n",
       " DecisionTreeClassifier(max_depth=2, max_features='auto', random_state=272055954),\n",
       " DecisionTreeClassifier(max_depth=2, max_features='auto',\n",
       "                        random_state=1389285843)]"
      ]
     },
     "execution_count": 53,
     "metadata": {},
     "output_type": "execute_result"
    }
   ],
   "source": [
    "# estimadores en RandomForest\n",
    "rf.steps[1][1].estimators_[:5]"
   ]
  },
  {
   "cell_type": "markdown",
   "metadata": {},
   "source": [
    "#### Optimizamos Hiperparametros\n",
    "- Podemos optimizar cualquier parametro/hiper-parametro en el pipeline accediendo a travez de los nombres de cada **step**"
   ]
  },
  {
   "cell_type": "code",
   "execution_count": 54,
   "metadata": {},
   "outputs": [],
   "source": [
    "params = {\n",
    "    'preprocessor__num__scaler__with_mean': [True, False],\n",
    "    'classifier__n_estimators': np.arange(50, 500, 50),\n",
    "    'classifier__max_depth': np.arange(3, 10),\n",
    "}"
   ]
  },
  {
   "cell_type": "code",
   "execution_count": 55,
   "metadata": {},
   "outputs": [
    {
     "name": "stdout",
     "output_type": "stream",
     "text": [
      "Fitting 5 folds for each of 126 candidates, totalling 630 fits\n"
     ]
    },
    {
     "name": "stderr",
     "output_type": "stream",
     "text": [
      "[Parallel(n_jobs=-1)]: Using backend LokyBackend with 8 concurrent workers.\n",
      "[Parallel(n_jobs=-1)]: Done  16 tasks      | elapsed:    1.0s\n",
      "[Parallel(n_jobs=-1)]: Done 112 tasks      | elapsed:   15.1s\n",
      "[Parallel(n_jobs=-1)]: Done 272 tasks      | elapsed:   41.1s\n",
      "[Parallel(n_jobs=-1)]: Done 496 tasks      | elapsed:  1.2min\n",
      "[Parallel(n_jobs=-1)]: Done 630 out of 630 | elapsed:  1.7min finished\n"
     ]
    },
    {
     "data": {
      "text/plain": [
       "GridSearchCV(estimator=Pipeline(steps=[('preprocessor',\n",
       "                                        ColumnTransformer(transformers=[('num',\n",
       "                                                                         Pipeline(steps=[('imputer',\n",
       "                                                                                          SimpleImputer(strategy='median')),\n",
       "                                                                                         ('scaler',\n",
       "                                                                                          StandardScaler())]),\n",
       "                                                                         Index(['PassengerId', 'Pclass', 'Age', 'SibSp', 'Parch', 'Fare'], dtype='object')),\n",
       "                                                                        ('cat',\n",
       "                                                                         Pipeline(steps=[('imputer',\n",
       "                                                                                          SimpleImputer(strategy='most_frequent')),\n",
       "                                                                                         ('onehot',\n",
       "                                                                                          One...ignore'))]),\n",
       "                                                                         Index(['Name', 'Sex', 'Ticket', 'Cabin', 'Embarked'], dtype='object'))])),\n",
       "                                       ('classifier',\n",
       "                                        RandomForestClassifier(max_depth=2))]),\n",
       "             n_jobs=-1,\n",
       "             param_grid={'classifier__max_depth': array([3, 4, 5, 6, 7, 8, 9]),\n",
       "                         'classifier__n_estimators': array([ 50, 100, 150, 200, 250, 300, 350, 400, 450]),\n",
       "                         'preprocessor__num__scaler__with_mean': [True, False]},\n",
       "             scoring='f1', verbose=3)"
      ]
     },
     "execution_count": 55,
     "metadata": {},
     "output_type": "execute_result"
    }
   ],
   "source": [
    "gs = GridSearchCV(rf, params, scoring='f1', verbose=3, n_jobs=-1)\n",
    "gs.fit(X_train, y_train)"
   ]
  },
  {
   "cell_type": "code",
   "execution_count": 56,
   "metadata": {},
   "outputs": [
    {
     "data": {
      "text/plain": [
       "{'classifier__max_depth': 9,\n",
       " 'classifier__n_estimators': 50,\n",
       " 'preprocessor__num__scaler__with_mean': True}"
      ]
     },
     "execution_count": 56,
     "metadata": {},
     "output_type": "execute_result"
    }
   ],
   "source": [
    "gs.best_params_"
   ]
  },
  {
   "cell_type": "code",
   "execution_count": 57,
   "metadata": {},
   "outputs": [
    {
     "name": "stdout",
     "output_type": "stream",
     "text": [
      "              precision    recall  f1-score   support\n",
      "\n",
      "           0       0.75      0.75      0.75         4\n",
      "           1       0.80      0.80      0.80         5\n",
      "\n",
      "    accuracy                           0.78         9\n",
      "   macro avg       0.78      0.78      0.78         9\n",
      "weighted avg       0.78      0.78      0.78         9\n",
      "\n"
     ]
    }
   ],
   "source": [
    "print(classification_report(y_test, gs.predict(X_test)))"
   ]
  },
  {
   "cell_type": "markdown",
   "metadata": {},
   "source": [
    "## Nota\n",
    "Podemos usar estos pipeline para guardar todo el flujo de trabajo de nuesto modelo y implementarlo de manera simple en produccion"
   ]
  },
  {
   "cell_type": "code",
   "execution_count": 99,
   "metadata": {},
   "outputs": [],
   "source": [
    "import pickle"
   ]
  },
  {
   "cell_type": "code",
   "execution_count": 100,
   "metadata": {},
   "outputs": [],
   "source": [
    "with open('pipeline.pk', 'wb') as fp:\n",
    "    pickle.dump(rf, fp)"
   ]
  },
  {
   "cell_type": "code",
   "execution_count": null,
   "metadata": {},
   "outputs": [],
   "source": []
  }
 ],
 "metadata": {
  "kernelspec": {
   "display_name": "Python 3",
   "language": "python",
   "name": "python3"
  },
  "language_info": {
   "codemirror_mode": {
    "name": "ipython",
    "version": 3
   },
   "file_extension": ".py",
   "mimetype": "text/x-python",
   "name": "python",
   "nbconvert_exporter": "python",
   "pygments_lexer": "ipython3",
   "version": "3.8.2"
  }
 },
 "nbformat": 4,
 "nbformat_minor": 4
}
