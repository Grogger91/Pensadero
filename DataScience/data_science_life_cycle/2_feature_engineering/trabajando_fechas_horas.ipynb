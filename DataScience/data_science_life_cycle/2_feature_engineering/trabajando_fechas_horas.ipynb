{
 "cells": [
  {
   "cell_type": "markdown",
   "metadata": {},
   "source": [
    "# TRABAJANDO CON FECHA/HORA (DATETIME)\n",
    "\n",
    "El objetivo de esta recopilación, es la de compartir y tener al alcance de manera resumida como realizar el tratamiento de datos de fecha, hora y de fecha/hora, algunas formas de trabajar con los formatos necesarios y de poder manipular dicha data. Para ello, se plantean diferentes temáticas:\n",
    "\n",
    "- Formato ISO de fechas y horas\n",
    "- Módulo datetime: Trabajar con variables o valores de fecha, hora, fecha/hora\n",
    "- Uso de las Directivas\n",
    "- Zonas horarias\n",
    "- Conversiones\n",
    "- Manipulación de datos de series de tiempo con Pandas\n",
    "- Uso de parser de dateutil\n",
    "- Módulo time (de la librería estándar de Python)\n",
    "- Cambio de idioma"
   ]
  },
  {
   "cell_type": "markdown",
   "metadata": {
    "toc": true
   },
   "source": [
    "<h1>Table of Contents<span class=\"tocSkip\"></span></h1>\n",
    "<div class=\"toc\"><ul class=\"toc-item\"><li><span><a href=\"#Formato-de-fechas-y-horas\" data-toc-modified-id=\"Formato-de-fechas-y-horas-1\"><span class=\"toc-item-num\">1&nbsp;&nbsp;</span>Formato de fechas y horas</a></span></li><li><span><a href=\"#Manipulación-de-datos-de-series-de-tiempo-con-Datetime\" data-toc-modified-id=\"Manipulación-de-datos-de-series-de-tiempo-con-Datetime-2\"><span class=\"toc-item-num\">2&nbsp;&nbsp;</span>Manipulación de datos de series de tiempo con <em>Datetime</em></a></span></li><li><span><a href=\"#Módulo-datetime-de-la-librería-de-Python\" data-toc-modified-id=\"Módulo-datetime-de-la-librería-de-Python-3\"><span class=\"toc-item-num\">3&nbsp;&nbsp;</span>Módulo datetime de la librería de Python</a></span><ul class=\"toc-item\"><li><span><a href=\"#datetime:-obteniendo-el-momento-actual-y-extrayendo-su-día,-mes,-año,-hora,-minutos,-segundos\" data-toc-modified-id=\"datetime:-obteniendo-el-momento-actual-y-extrayendo-su-día,-mes,-año,-hora,-minutos,-segundos-3.1\"><span class=\"toc-item-num\">3.1&nbsp;&nbsp;</span><code>datetime</code>: obteniendo el momento actual y extrayendo su día, mes, año, hora, minutos, segundos</a></span></li><li><span><a href=\"#datetime:-creando-una-fecha-determinada\" data-toc-modified-id=\"datetime:-creando-una-fecha-determinada-3.2\"><span class=\"toc-item-num\">3.2&nbsp;&nbsp;</span><code>datetime</code>: creando una fecha determinada</a></span></li><li><span><a href=\"#date:-obteniendo-fecha-actual-y-extrayendo-su-día,-mes,-año\" data-toc-modified-id=\"date:-obteniendo-fecha-actual-y-extrayendo-su-día,-mes,-año-3.3\"><span class=\"toc-item-num\">3.3&nbsp;&nbsp;</span><code>date</code>: obteniendo fecha actual y extrayendo su día, mes, año</a></span></li><li><span><a href=\"#time:-obteniendo-hora-actual-y-extrayendo-su-hora,-minutos,-segundos\" data-toc-modified-id=\"time:-obteniendo-hora-actual-y-extrayendo-su-hora,-minutos,-segundos-3.4\"><span class=\"toc-item-num\">3.4&nbsp;&nbsp;</span><code>time</code>: obteniendo hora actual y extrayendo su hora, minutos, segundos</a></span></li><li><span><a href=\"#timedelta:-obteniendo-fracciones-de-tiempo--->-microsegundos,-milisegundos,-segundos,-minutos,-horas,-diás,-semanas\" data-toc-modified-id=\"timedelta:-obteniendo-fracciones-de-tiempo--->-microsegundos,-milisegundos,-segundos,-minutos,-horas,-diás,-semanas-3.5\"><span class=\"toc-item-num\">3.5&nbsp;&nbsp;</span><code>timedelta</code>: obteniendo fracciones de tiempo --&gt; microsegundos, milisegundos, segundos, minutos, horas, diás, semanas</a></span></li><li><span><a href=\"#timedelta:-operaciones-con-fecha/hora\" data-toc-modified-id=\"timedelta:-operaciones-con-fecha/hora-3.6\"><span class=\"toc-item-num\">3.6&nbsp;&nbsp;</span><code>timedelta</code>: operaciones con fecha/hora</a></span></li><li><span><a href=\"#replace:-Reemplazo-de-algún-elemento-de-la-fecha/hora\" data-toc-modified-id=\"replace:-Reemplazo-de-algún-elemento-de-la-fecha/hora-3.7\"><span class=\"toc-item-num\">3.7&nbsp;&nbsp;</span><code>replace</code>: Reemplazo de algún elemento de la fecha/hora</a></span></li></ul></li><li><span><a href=\"#DIRECTIVAS\" data-toc-modified-id=\"DIRECTIVAS-4\"><span class=\"toc-item-num\">4&nbsp;&nbsp;</span>DIRECTIVAS</a></span></li><li><span><a href=\"#Zonas-horarias\" data-toc-modified-id=\"Zonas-horarias-5\"><span class=\"toc-item-num\">5&nbsp;&nbsp;</span>Zonas horarias</a></span><ul class=\"toc-item\"><li><span><a href=\"#Módulo-pytz\" data-toc-modified-id=\"Módulo-pytz-5.1\"><span class=\"toc-item-num\">5.1&nbsp;&nbsp;</span>Módulo pytz</a></span></li><li><span><a href=\"#Objetos-Aware-y-Naive\" data-toc-modified-id=\"Objetos-Aware-y-Naive-5.2\"><span class=\"toc-item-num\">5.2&nbsp;&nbsp;</span>Objetos Aware y Naive</a></span></li><li><span><a href=\"#tzinfo:-determinar-o-no-la-zona-horaria\" data-toc-modified-id=\"tzinfo:-determinar-o-no-la-zona-horaria-5.3\"><span class=\"toc-item-num\">5.3&nbsp;&nbsp;</span><code>tzinfo</code>: determinar o no la zona horaria</a></span></li></ul></li><li><span><a href=\"#Conversiones\" data-toc-modified-id=\"Conversiones-6\"><span class=\"toc-item-num\">6&nbsp;&nbsp;</span>Conversiones</a></span><ul class=\"toc-item\"><li><span><a href=\"#Convertir-objeto-datetime-a-string\" data-toc-modified-id=\"Convertir-objeto-datetime-a-string-6.1\"><span class=\"toc-item-num\">6.1&nbsp;&nbsp;</span>Convertir objeto datetime a string</a></span><ul class=\"toc-item\"><li><span><a href=\"#Función-isoformat:-Formato-automático-ISO-(Organización-Internacional-de-Normalización)\" data-toc-modified-id=\"Función-isoformat:-Formato-automático-ISO-(Organización-Internacional-de-Normalización)-6.1.1\"><span class=\"toc-item-num\">6.1.1&nbsp;&nbsp;</span>Función <code>isoformat</code>: Formato automático ISO (Organización Internacional de Normalización)</a></span></li><li><span><a href=\"#strftime:-Formato-manual-(inglés-por-defecto)\" data-toc-modified-id=\"strftime:-Formato-manual-(inglés-por-defecto)-6.1.2\"><span class=\"toc-item-num\">6.1.2&nbsp;&nbsp;</span><code>strftime</code>: Formato manual (inglés por defecto)</a></span></li></ul></li><li><span><a href=\"#Convertir-string-a-objeto-datetime\" data-toc-modified-id=\"Convertir-string-a-objeto-datetime-6.2\"><span class=\"toc-item-num\">6.2&nbsp;&nbsp;</span>Convertir string a objeto datetime</a></span><ul class=\"toc-item\"><li><span><a href=\"#strptime:\" data-toc-modified-id=\"strptime:-6.2.1\"><span class=\"toc-item-num\">6.2.1&nbsp;&nbsp;</span><code>strptime</code>:</a></span></li></ul></li></ul></li><li><span><a href=\"#Manipulación-de-datos-de-series-de-tiempo-con-Pandas\" data-toc-modified-id=\"Manipulación-de-datos-de-series-de-tiempo-con-Pandas-7\"><span class=\"toc-item-num\">7&nbsp;&nbsp;</span>Manipulación de datos de series de tiempo con <em>Pandas</em></a></span><ul class=\"toc-item\"><li><span><a href=\"#Timestamp:-equivalente-al-Datetime-de-Python\" data-toc-modified-id=\"Timestamp:-equivalente-al-Datetime-de-Python-7.1\"><span class=\"toc-item-num\">7.1&nbsp;&nbsp;</span><code>Timestamp</code>: equivalente al <code>Datetime</code> de Python</a></span></li><li><span><a href=\"#date_range:\" data-toc-modified-id=\"date_range:-7.2\"><span class=\"toc-item-num\">7.2&nbsp;&nbsp;</span><code>date_range</code>:</a></span></li><li><span><a href=\"#bdate_range:\" data-toc-modified-id=\"bdate_range:-7.3\"><span class=\"toc-item-num\">7.3&nbsp;&nbsp;</span><code>bdate_range</code>:</a></span></li><li><span><a href=\"#to_timedelta:\" data-toc-modified-id=\"to_timedelta:-7.4\"><span class=\"toc-item-num\">7.4&nbsp;&nbsp;</span><code>to_timedelta</code>:</a></span></li><li><span><a href=\"#Manejo-de-las-frecuencias\" data-toc-modified-id=\"Manejo-de-las-frecuencias-7.5\"><span class=\"toc-item-num\">7.5&nbsp;&nbsp;</span>Manejo de las frecuencias</a></span></li><li><span><a href=\"#strptime\" data-toc-modified-id=\"strptime-7.6\"><span class=\"toc-item-num\">7.6&nbsp;&nbsp;</span><code>strptime</code></a></span></li><li><span><a href=\"#strptime:-para-la-conversión-empleando-apply\" data-toc-modified-id=\"strptime:-para-la-conversión-empleando-apply-7.7\"><span class=\"toc-item-num\">7.7&nbsp;&nbsp;</span><code>strptime</code>: para la conversión empleando apply</a></span></li><li><span><a href=\"#to_datetime:-para-la-conversión-de-los-datos-de-fecha/hora\" data-toc-modified-id=\"to_datetime:-para-la-conversión-de-los-datos-de-fecha/hora-7.8\"><span class=\"toc-item-num\">7.8&nbsp;&nbsp;</span><code>to_datetime</code>: para la conversión de los datos de fecha/hora</a></span></li><li><span><a href=\"#DatetimeIndex:\" data-toc-modified-id=\"DatetimeIndex:-7.9\"><span class=\"toc-item-num\">7.9&nbsp;&nbsp;</span><code>DatetimeIndex</code>:</a></span></li><li><span><a href=\"#astype:\" data-toc-modified-id=\"astype:-7.10\"><span class=\"toc-item-num\">7.10&nbsp;&nbsp;</span><code>astype</code>:</a></span></li><li><span><a href=\"#Atributos-de-DatetimeIndex:\" data-toc-modified-id=\"Atributos-de-DatetimeIndex:-7.11\"><span class=\"toc-item-num\">7.11&nbsp;&nbsp;</span>Atributos de DatetimeIndex:</a></span></li><li><span><a href=\"#set_index:\" data-toc-modified-id=\"set_index:-7.12\"><span class=\"toc-item-num\">7.12&nbsp;&nbsp;</span><code>set_index</code>:</a></span></li><li><span><a href=\"#resample:\" data-toc-modified-id=\"resample:-7.13\"><span class=\"toc-item-num\">7.13&nbsp;&nbsp;</span><code>resample</code>:</a></span></li><li><span><a href=\"#Usando-un-dataframe-más-amplio:-&quot;Fire_Department_Calls_for_Service&quot;\" data-toc-modified-id=\"Usando-un-dataframe-más-amplio:-&quot;Fire_Department_Calls_for_Service&quot;-7.14\"><span class=\"toc-item-num\">7.14&nbsp;&nbsp;</span>Usando un dataframe más amplio: \"Fire_Department_Calls_for_Service\"</a></span><ul class=\"toc-item\"><li><span><a href=\"#Convertir-las-columnas-de-fecha/hora:\" data-toc-modified-id=\"Convertir-las-columnas-de-fecha/hora:-7.14.1\"><span class=\"toc-item-num\">7.14.1&nbsp;&nbsp;</span>Convertir las columnas de fecha/hora:</a></span></li></ul></li></ul></li><li><span><a href=\"#Uso-de-parser-de-dateutil\" data-toc-modified-id=\"Uso-de-parser-de-dateutil-8\"><span class=\"toc-item-num\">8&nbsp;&nbsp;</span>Uso de parser de dateutil</a></span></li><li><span><a href=\"#Módulo-time-(de-la-librería-estándar-de-Python)\" data-toc-modified-id=\"Módulo-time-(de-la-librería-estándar-de-Python)-9\"><span class=\"toc-item-num\">9&nbsp;&nbsp;</span>Módulo time (de la librería estándar de Python)</a></span><ul class=\"toc-item\"><li><span><a href=\"#time:\" data-toc-modified-id=\"time:-9.1\"><span class=\"toc-item-num\">9.1&nbsp;&nbsp;</span><code>time</code>:</a></span></li><li><span><a href=\"#fromtimestamp:-Convertir-el-epoch-a-fecha\" data-toc-modified-id=\"fromtimestamp:-Convertir-el-epoch-a-fecha-9.2\"><span class=\"toc-item-num\">9.2&nbsp;&nbsp;</span><code>fromtimestamp</code>: Convertir el epoch a fecha</a></span></li><li><span><a href=\"#gmtime:\" data-toc-modified-id=\"gmtime:-9.3\"><span class=\"toc-item-num\">9.3&nbsp;&nbsp;</span><code>gmtime</code>:</a></span></li><li><span><a href=\"#localtime:\" data-toc-modified-id=\"localtime:-9.4\"><span class=\"toc-item-num\">9.4&nbsp;&nbsp;</span><code>localtime</code>:</a></span></li></ul></li><li><span><a href=\"#Cambio-de-idioma\" data-toc-modified-id=\"Cambio-de-idioma-10\"><span class=\"toc-item-num\">10&nbsp;&nbsp;</span>Cambio de idioma</a></span></li></ul></div>"
   ]
  },
  {
   "cell_type": "markdown",
   "metadata": {},
   "source": [
    "## Formato de fechas y horas\n",
    "\n",
    "ISO 8601: El estándar para la representación numérica de fechas y horas.\n",
    "\n",
    "La Norma Internacional para la representación de fechas y horas es ISO 8601. \n",
    "\n",
    "https://www.w3.org/QA/Tips/iso-date.html.es\n",
    "\n",
    "- **Year**: YYYY (1997)   \n",
    "- **Year and month**: YYYY-MM (1997-07)\n",
    "- **Date**: YYYY-MM-DD (1997-07-16)\n",
    "- **Date + hours and minutes**: YYYY-MM-DDThh:mmTZD (1997-07-16T19:20+01:00)\n",
    "- **Date + hours, minutes and seconds**: YYYY-MM-DDThh:mm:ssTZD (1997-07-16T19:20:30+01:00)\n",
    "- **Date + hours, minutes, seconds and a decimal fraction of a second**: YYYY-MM-DDThh:mm:ss.sTZD (1997-07-16T19:20:30.45+01:00)\n",
    "\n",
    "Donde:\n",
    "-     YYYY = 4 digitos\n",
    "-     MM   = 2 digitos (01=January, etc.)\n",
    "-     DD   = 2 digitos (01 through 31)\n",
    "-     hh   = 2 digitos (00 through 23) (am/pm NOT allowed)\n",
    "-     mm   = 2 digitos (00 through 59)\n",
    "-     ss   = 2 digitos (00 through 59)\n",
    "-     s    = 1 o más digitos que represente la fracción decimal de un segundo\n",
    "-     TZD  = zona horaria (Z or +hh:mm or -hh:mm)\n",
    "\n",
    "La \"T\" aparece en la cadena, para indicar el comienzo del elemento de tiempo, como se especifica en ISO 8601.\n",
    "\n",
    "Este perfil no especifica cuántos dígitos se pueden usar para representar la fracción decimal de un segundo. Un estándar de adopción que permita fracciones de segundo debe especificar tanto el número mínimo de dígitos (un número mayor o igual a uno) y el número máximo de dígitos (el máximo puede ser declarado como \"ilimitado\").\n",
    "Este perfil define dos formas de manejar las compensaciones de zona horaria: \n",
    "- Los tiempos se expresan en UTC (Tiempo Universal Coordinado), con un designador UTC especial (\"Z\").\n",
    "- Las horas se expresan en hora local, junto con un desplazamiento de zona horaria en horas y minutos. Un desplazamiento de zona horaria de \"+ hh: mm\" indica que la fecha/hora utiliza una zona horaria local que es \"hh\" horas y \"mm\" minutos antes de UTC. Un off-set de zona horaria de **_\"-hh: mm\"_** indica que la fecha/hora utiliza una zona horaria local que es \"hh\" horas y \"mm\" minutos detrás de UTC.\n",
    "\n",
    "<img src='images/bRGGm.png' alt=\"Drawing\" style=\"width: 800px;\"/>\n",
    "\n",
    "La época (epoch) es el punto en el tiempo en Python desde el cual desde el cual se comienza a medir este, su unidad son los segundos. Está se ubica a las 12:00 a.m., 1 de enero de 1970. Es el comienzo de una era. \n",
    "https://data-flair.training/blogs/python-date-and-time/"
   ]
  },
  {
   "cell_type": "markdown",
   "metadata": {},
   "source": [
    "## Manipulación de datos de series de tiempo con *Datetime*\n",
    "\n",
    "El módulo `datetime` proporciona una interfaz de alto nivel para fecha, hora, y valores combinados. Las clases en `datetime` soportan *artimética, comparacion y configuración de zonas horarias*.\n",
    "\n",
    "https://rico-schmidt.name/pymotw-3/dates.html\n",
    "\n",
    "En esta sección se presentará las formas de manejo de fecha/hora más comúnmente utilizados en los proyectos, a través del uso de **variables** que guardan este tipo de datos. \n",
    "\n",
    "- https://pandas.pydata.org/pandas-docs/stable/user_guide/options.html\n",
    "- https://pandas.pydata.org/pandas-docs/stable/reference/api/pandas.set_option.html"
   ]
  },
  {
   "cell_type": "markdown",
   "metadata": {},
   "source": [
    "<img src=\"images/Datetime.png\" width=\"600\">"
   ]
  },
  {
   "cell_type": "markdown",
   "metadata": {},
   "source": [
    "<font size=4>**Objeto `datetime`**:</font>\n",
    "\n",
    "El módulo **datetime** incluye funciones y clases para realizar análisis de fecha y hora, formateo y aritmética. Contiene funciones y clases para trabajar con fechas y horas, por separado y juntas.\n",
    "\n",
    "<font size=4>**Objeto `date`**:</font>\n",
    "\n",
    "Los valores de la fecha del calendario se representan con la clase de **date**. Las instancias tienen atributos para año, mes y día.\n",
    "https://pymotw.com/2/datetime/\n",
    "\n",
    "<font size=4>**Objeto `time`**:</font>\n",
    "\n",
    "Los valores de tiempo se representan con la clase de **time**. Los tiempos tienen atributos para hora, minuto, segundo y microsegundo. También pueden incluir información de zona horaria.\n",
    "https://www.programiz.com/python-programming/time\n",
    "\n",
    "Una instancia de tiempo solo contiene valores de tiempo, y no una fecha asociada con el tiempo.\n",
    "\n",
    "<font size=4>**Objeto `timedelta`**:</font>\n",
    "\n",
    "La función **timedelta()** de Python está presente en la biblioteca **datetime**, que generalmente se utiliza para facilitar operaciones y manipulaciones de fecha/hora en Python. Es una de las formas más fáciles de realizar manipulaciones de fechas: https://www.geeksforgeeks.org/python-datetime-timedelta-function/\n",
    "\n",
    "<font size=4>**Objeto `tzinfo`**:</font>\n",
    "\n",
    "Utilizado por las clases de fecha y hora para proporcionar una noción personalizable de ajuste de hora (por ejemplo, para tener en cuenta la zona horaria y / o el horario de verano). Captura la información de una zona horaria señalada.\n",
    "\n",
    "<font size=4>**Objeto `timezone`**:</font>\n",
    "\n",
    "Es una clase que implementa la clase base abstracta tzinfo como un desplazamiento fijo desde el UTC.\n",
    "\n",
    "<font size=4>**Método `strftime`**:</font>\n",
    "\n",
    "Los objetos *date*, *datetime* y *time* son compatibles con un método de strftime, para crear un string que represente el tiempo bajo el control de una cadena de formato explícito.\n",
    "\n",
    "<font size=4>**Método `strptime`**:</font>\n",
    "\n",
    "Se utiliza para llevar \"string\" a \"datetime\". Puede manejar todo tipo de formatos, con el formato determinado por un formato string.\n",
    "\n",
    "Este analiza una cadena que representa un tiempo de acuerdo con un formato. El parámetro de formato utiliza las mismas máscaras (directivas) que las utilizadas por strftime(); el valor predeterminado es \"% a% b% d% H:% M:% S% Y\".\n",
    "\n",
    "time.strptime(string, format)\n",
    "\n",
    "*__Parámetros:__*\n",
    "- string: este es el tiempo en formato de cadena que se analizaría en función del formato dado.\n",
    "- format: esta es la máscara que se usaría para analizar la cadena dada.\n",
    "\n",
    "Para ampliar cómo trabajar con estos:\n",
    "- https://docs.python.org/3/library/datetime.html\n",
    "- https://data-flair.training/blogs/python-datetime-module/"
   ]
  },
  {
   "cell_type": "code",
   "execution_count": 1,
   "metadata": {},
   "outputs": [],
   "source": [
    "# Importando las librerías necesarias\n",
    "import pandas as pd\n",
    "import numpy as np\n",
    "from datetime import datetime, date, time, timedelta\n",
    "import calendar\n",
    "pd.set_option(\"display.max_columns\", 300)"
   ]
  },
  {
   "cell_type": "markdown",
   "metadata": {},
   "source": [
    "## Módulo datetime de la librería de Python\n",
    "Desglosemos cada uno de los usos principales de estos objetos y métodos\n",
    "### `datetime`: obteniendo el momento actual y extrayendo su día, mes, año, hora, minutos, segundos"
   ]
  },
  {
   "cell_type": "code",
   "execution_count": 2,
   "metadata": {},
   "outputs": [
    {
     "name": "stdout",
     "output_type": "stream",
     "text": [
      "now tenemos la fecha y hora: 2020-02-28 15:07:14.046821 (tipo: <class 'datetime.datetime'>)\n",
      "El día actual es 28\n",
      "El mes actual es 2\n",
      "El año actual es 2020\n",
      "La hora actual es 15\n",
      "El minuto actual es 7\n",
      "El segundo actual es 14\n"
     ]
    }
   ],
   "source": [
    "# Momento actual (Fecha/hora)\n",
    "now = datetime.now()\n",
    "print('now tenemos la fecha y hora: {} (tipo: {})'.format(now, type(now)))\n",
    "\n",
    "# Formato Datetime\n",
    "print(\"El día actual es {}\".format(now.day))\n",
    "print(\"El mes actual es {}\".format(now.month))\n",
    "print(\"El año actual es {}\".format(now.year))\n",
    "print(\"La hora actual es {}\".format(now.hour))\n",
    "print(\"El minuto actual es {}\".format(now.minute))\n",
    "print(\"El segundo actual es {}\".format(now.second))"
   ]
  },
  {
   "cell_type": "markdown",
   "metadata": {},
   "source": [
    "**Fecha del now:**"
   ]
  },
  {
   "cell_type": "code",
   "execution_count": 3,
   "metadata": {},
   "outputs": [
    {
     "data": {
      "text/plain": [
       "datetime.date(2020, 2, 28)"
      ]
     },
     "execution_count": 3,
     "metadata": {},
     "output_type": "execute_result"
    }
   ],
   "source": [
    "now.date()"
   ]
  },
  {
   "cell_type": "markdown",
   "metadata": {},
   "source": [
    "**Hora del now:**"
   ]
  },
  {
   "cell_type": "code",
   "execution_count": 4,
   "metadata": {},
   "outputs": [
    {
     "data": {
      "text/plain": [
       "datetime.time(15, 7, 14, 46821)"
      ]
     },
     "execution_count": 4,
     "metadata": {},
     "output_type": "execute_result"
    }
   ],
   "source": [
    "now.time()"
   ]
  },
  {
   "cell_type": "markdown",
   "metadata": {},
   "source": [
    "**Combinando fecha y hora:**"
   ]
  },
  {
   "cell_type": "code",
   "execution_count": 5,
   "metadata": {},
   "outputs": [
    {
     "data": {
      "text/plain": [
       "datetime.datetime(2020, 2, 28, 15, 7, 14, 46821)"
      ]
     },
     "execution_count": 5,
     "metadata": {},
     "output_type": "execute_result"
    }
   ],
   "source": [
    "fecha = now.date()\n",
    "hora = now.time()\n",
    "datetime.combine(fecha, hora)"
   ]
  },
  {
   "cell_type": "markdown",
   "metadata": {},
   "source": [
    "### `datetime`: creando una fecha determinada"
   ]
  },
  {
   "cell_type": "code",
   "execution_count": 6,
   "metadata": {},
   "outputs": [
    {
     "name": "stdout",
     "output_type": "stream",
     "text": [
      "2019-02-28 10:15:10.100000\n"
     ]
    }
   ],
   "source": [
    "# Se usa la función datetime con los parámetros: Año, Mes, Día, Hora, Minutos, Segundos, Milisegundos\n",
    "# Año, Mes y Día son parámetros obligatorios\n",
    "new_date = datetime(2019, 2, 28, 10, 15, 10, 100000)  # milisegundos recibe cifras de hasta 6 dígitos\n",
    "print(new_date)"
   ]
  },
  {
   "cell_type": "markdown",
   "metadata": {},
   "source": [
    "### `date`: obteniendo fecha actual y extrayendo su día, mes, año"
   ]
  },
  {
   "cell_type": "code",
   "execution_count": 7,
   "metadata": {},
   "outputs": [
    {
     "name": "stdout",
     "output_type": "stream",
     "text": [
      "today es: 2020-02-28 (tipo: <class 'datetime.date'>)\n",
      "El día actual es 28\n",
      "El mes actual es 2\n",
      "El año actual es 2020\n",
      "\n"
     ]
    }
   ],
   "source": [
    "# Fecha actual\n",
    "today = date.today()\n",
    "print('today es: {} (tipo: {})'.format(today, type(today)))\n",
    "\n",
    "# Formato Date\n",
    "print(\"El día actual es {}\".format(today.day))\n",
    "print(\"El mes actual es {}\".format(today.month))\n",
    "print(\"El año actual es {}\\n\".format(today.year))"
   ]
  },
  {
   "cell_type": "markdown",
   "metadata": {},
   "source": [
    "### `time`: obteniendo hora actual y extrayendo su hora, minutos, segundos"
   ]
  },
  {
   "cell_type": "code",
   "execution_count": 8,
   "metadata": {},
   "outputs": [
    {
     "name": "stdout",
     "output_type": "stream",
     "text": [
      "08:30:05 , de tipo: <class 'datetime.time'>\n",
      "Hora: 8\n",
      "Minutos: 30\n",
      "Segundos: 5\n",
      "Microsegundos: 0\n",
      "tzinfo: None\n"
     ]
    }
   ],
   "source": [
    "# Hora actual\n",
    "t = time(8, 30, 5)    # time(hour, minute, second, microsecond, tzinfo)\n",
    "print(t, ', de tipo:', type(t))\n",
    "print('Hora:', t.hour)\n",
    "print('Minutos:', t.minute)\n",
    "print('Segundos:', t.second)\n",
    "print('Microsegundos:', t.microsecond)\n",
    "print('tzinfo:', t.tzinfo)"
   ]
  },
  {
   "cell_type": "markdown",
   "metadata": {},
   "source": [
    "### `timedelta`: obteniendo fracciones de tiempo --> microsegundos, milisegundos, segundos, minutos, horas, diás, semanas"
   ]
  },
  {
   "cell_type": "code",
   "execution_count": 9,
   "metadata": {},
   "outputs": [
    {
     "name": "stdout",
     "output_type": "stream",
     "text": [
      "microseconds: 0:00:00.000001\n",
      "milliseconds: 0:00:00.001000\n",
      "seconds     : 0:00:01\n",
      "minutes     : 0:01:00\n",
      "hours       : 1:00:00\n",
      "days        : 1 day, 0:00:00\n",
      "weeks       : 7 days, 0:00:00\n"
     ]
    }
   ],
   "source": [
    "print(\"microseconds:\", timedelta(microseconds=1))\n",
    "print(\"milliseconds:\", timedelta(milliseconds=1))\n",
    "print(\"seconds     :\", timedelta(seconds=1))\n",
    "print(\"minutes     :\", timedelta(minutes=1))\n",
    "print(\"hours       :\", timedelta(hours=1))\n",
    "print(\"days        :\", timedelta(days=1))\n",
    "print(\"weeks       :\", timedelta(weeks=1))"
   ]
  },
  {
   "cell_type": "markdown",
   "metadata": {},
   "source": [
    "### `timedelta`: operaciones con fecha/hora"
   ]
  },
  {
   "cell_type": "code",
   "execution_count": 10,
   "metadata": {},
   "outputs": [
    {
     "name": "stdout",
     "output_type": "stream",
     "text": [
      "Ahora: 2020-02-28 15:07:14.046821 y dentro de 2 días: 2020-03-01 15:07:14.046821\n",
      "\n",
      "La fecha 2020-02-28 15:07:14.046821 es menor que fecha 2020-03-01 15:07:14.046821\n",
      "\n",
      "AYER: 2020-02-27\n",
      "\n",
      "HOY: 2020-02-28\n",
      "\n",
      "MAÑANA: 2020-02-29\n",
      "\n"
     ]
    }
   ],
   "source": [
    "# Sumar dos días a la fecha actual\n",
    "day_after_tomorrow = now + timedelta(days=2)\n",
    "print('Ahora: {} y dentro de 2 días: {}\\n'.format(now, day_after_tomorrow))\n",
    "\n",
    "# Comparación de dos fechas\n",
    "if now < day_after_tomorrow:\n",
    "    print(\"La fecha {} es menor que fecha {}\\n\".format(now, day_after_tomorrow))\n",
    "\n",
    "yesterday = now - timedelta(days=1)  # Resta a fecha actual 1 día\n",
    "tomorrow = now + timedelta(days=1)  # Suma a fecha actual 1 día\n",
    "\n",
    "print(\"AYER: {}\\n\".format(yesterday.date()))\n",
    "print(\"HOY: {}\\n\".format(now.date()))\n",
    "print(\"MAÑANA: {}\\n\".format(tomorrow.date()))"
   ]
  },
  {
   "cell_type": "code",
   "execution_count": 11,
   "metadata": {},
   "outputs": [
    {
     "name": "stdout",
     "output_type": "stream",
     "text": [
      "Dentro de 3 días, 4 horas y 1592 segundos: Tuesday 03 de March del 2020 - 05:33\n",
      "\n",
      "Hace 3 días, 4 horas y 1592 segundos: Tuesday 25 de February del 2020 - 00:40\n",
      "\n"
     ]
    }
   ],
   "source": [
    "# Generamos 3 días con 14 horas y 1592 segundos de tiempo\n",
    "delta = timedelta(days=3, hours=14, seconds=1592)\n",
    "\n",
    "# Sumamos y sustraemos t a la fecha y hora actual y aplicamos formato\n",
    "dentro_de_tres_pi_dias = now + delta\n",
    "print('Dentro de 3 días, 4 horas y 1592 segundos: {}\\n'.format(dentro_de_tres_pi_dias.strftime(\"%A %d de %B del %Y - %H:%M\")))\n",
    "hace_tres_pi_dias = now - delta\n",
    "print('Hace 3 días, 4 horas y 1592 segundos: {}\\n'.format(hace_tres_pi_dias.strftime(\"%A %d de %B del %Y - %H:%M\")))"
   ]
  },
  {
   "cell_type": "markdown",
   "metadata": {},
   "source": [
    "**Diferencia (en días) entre dos fechas:** resulta en objeto *datetime.timedelta*"
   ]
  },
  {
   "cell_type": "code",
   "execution_count": 12,
   "metadata": {},
   "outputs": [
    {
     "name": "stdout",
     "output_type": "stream",
     "text": [
      "<class 'datetime.timedelta'>\n",
      "Fecha inicial: 2020-02-25 00:40:42.046821\n",
      "Fecha final: 2020-03-03 05:33:46.046821\n",
      "Diferencia de las dos fechas: 7 días\n"
     ]
    }
   ],
   "source": [
    "diferencia = dentro_de_tres_pi_dias - hace_tres_pi_dias\n",
    "print(type(diferencia))\n",
    "print(\"Fecha inicial:\", hace_tres_pi_dias)\n",
    "print(\"Fecha final:\", dentro_de_tres_pi_dias)\n",
    "print(\"Diferencia de las dos fechas:\", diferencia.days, \"días\")"
   ]
  },
  {
   "cell_type": "markdown",
   "metadata": {},
   "source": [
    "*Observese que la diferencia entre ambas fechas queda como tipo \"timedelta\".*"
   ]
  },
  {
   "cell_type": "markdown",
   "metadata": {},
   "source": [
    "### `replace`: Reemplazo de algún elemento de la fecha/hora"
   ]
  },
  {
   "cell_type": "code",
   "execution_count": 13,
   "metadata": {},
   "outputs": [
    {
     "data": {
      "text/plain": [
       "datetime.datetime(2019, 2, 28, 10, 15, 10, 100000)"
      ]
     },
     "execution_count": 13,
     "metadata": {},
     "output_type": "execute_result"
    }
   ],
   "source": [
    "new_date = new_date.replace(year=2019)\n",
    "new_date"
   ]
  },
  {
   "cell_type": "code",
   "execution_count": 14,
   "metadata": {},
   "outputs": [
    {
     "name": "stdout",
     "output_type": "stream",
     "text": [
      "2019-02-28 10:15:10.100000\n"
     ]
    }
   ],
   "source": [
    "print(new_date)"
   ]
  },
  {
   "cell_type": "markdown",
   "metadata": {},
   "source": [
    "## DIRECTIVAS\n",
    "Máscaras útiles para trabajar con fecha/hora, para aplicar formatos a fechas y horas.\n",
    "\n",
    "Las siguientes claves se combinan para aplicar formatos:"
   ]
  },
  {
   "cell_type": "raw",
   "metadata": {},
   "source": [
    "%a\tNombre local abreviado de día de semana\n",
    "%A\tNombre local completo de día de semana\n",
    "%b\tNombre local abreviado de mes\n",
    "%B\tNombre local completo de mes\n",
    "%c\tRepresentación local de fecha y hora\n",
    "%C\tnúmero de siglo (el año dividido por 100, rango 00 a 99)\n",
    "%d\tDía de mes [01,31]\n",
    "%D\tigual que% m /% d /% y\n",
    "%e\tdía del mes (1 a 31)\n",
    "%g\tcomo% G, pero sin el siglo\n",
    "%G\taño de 4 dígitos correspondiente al número de semana ISO (consulte% V)\n",
    "%h\tigual que% b\n",
    "%H\tHora (horario 24 horas) [00,23]\n",
    "%I\tHora (horario 12 horas) [01,12]\n",
    "%j\tNúmero de día del año [001,366]\n",
    "%m\tMes [01,12]\n",
    "%M\tMinuto [00,59]\n",
    "%n\tcarácter de nueva línea\n",
    "%p\tEtiqueta AM o PM\n",
    "%r\thora en notación am y pm\n",
    "%R\ttiempo en notación de 24 horas\n",
    "%S\tSegundo\n",
    "%S\tsegundo\n",
    "%t\tcarácter de tabulación\n",
    "%T\thora actual, igual a% H:% M:% S\n",
    "%u\tdía de la semana como un número (1 a 7), lunes = 1. Advertencia: En Sun Solaris Sunday = 1\n",
    "%U\tNº semana del año. Se considera al Domingo como primer día de semana [00,53]\n",
    "%V\tel número de semana ISO 8601 del año actual (01 a 53), donde la semana 1 es la primera semana que tiene al menos 4 días en el año actual, y con el lunes como el primer día de la semana\n",
    "%w\tEstablece el primer día de semana [0(Domingo),1(Lunes)... 6].\n",
    "%W\tNº semana del año (Se considera al Lunes como primer día de semana) [00,53]\n",
    "%x\tFecha local\n",
    "%X\tHora local\n",
    "%y\tAño en formato corto [00,99]\n",
    "%Y\tAño en formato largo\n",
    "%Z\tNombre de Zona Horaria\n",
    "%%\tun carácter literal%"
   ]
  },
  {
   "cell_type": "markdown",
   "metadata": {},
   "source": [
    "## Zonas horarias\n",
    "### Módulo pytz\n",
    "Para establecer zonas horarias en nuestras fechas y horas necesitamos instalar el módulo pytz.\n",
    "\n",
    "**pytz:** útil para hacer las conversiones hacia/desde UTC"
   ]
  },
  {
   "cell_type": "raw",
   "metadata": {},
   "source": [
    "!pip install pytz         # Celda Raw: activar celda con \"Esc\" + \"Y\" / desactivar con \"Esc\" + \"R\""
   ]
  },
  {
   "cell_type": "code",
   "execution_count": 15,
   "metadata": {},
   "outputs": [
    {
     "name": "stdout",
     "output_type": "stream",
     "text": [
      "Ahora en Tokyo es: Saturday 29 de February del 2020 - 03:07 hs\n",
      "Ahora en Tokyo es: Saturday 29 de February del 2020 - 03:07 hs\n"
     ]
    }
   ],
   "source": [
    "# Una vez instalado podemos consultar las diferentes zonas horarias disponibles importando:\n",
    "import pytz\n",
    "todas_las_zonas_horarias = pytz.all_timezones\n",
    "\n",
    "# Por ejemplo, para crear la hora actual en Tokyo (Japón) haríamos lo siguiente:\n",
    "now_Tokyo = datetime.now(pytz.timezone('Asia/Tokyo'))\n",
    "print('Ahora en Tokyo es:', now_Tokyo.strftime(\"%A %d de %B del %Y - %H:%M\"),'hs')  # %I 12h - %H 24h\n",
    "print('Ahora en Tokyo es:', now_Tokyo.strftime(\"%A %d de %B del %Y - %H:%M\"),'hs')  # %I 12h - %H 24h"
   ]
  },
  {
   "cell_type": "markdown",
   "metadata": {},
   "source": [
    "<img src='images/image1-9-1.png' alt=\"Drawing\" style=\"width: 500px;\"/>\n",
    "\n",
    "### Objetos Aware y Naive\n",
    "Los objetos de fecha y hora pueden clasificarse como **\"aware\" o \"nayve\"**.\n",
    "\n",
    "**¿Naive?**\n",
    "Representación de fecha y hora que no tiene una zona horaria determinada. La fecha y hora puede no existir en ciertas áreas del mundo a pesar de que es válida. Es útil en casos en los que no conoce o no desea especificar una zona horaria.\n",
    "\n",
    "**¿Aware?**\n",
    "Representa un momento específico en el tiempo que no está abierto a interpretación, contiene información de la zona horaria.\n",
    "\n",
    "- https://stackoverflow.com/questions/24281525/what-is-the-point-of-a-naive-datetime\n",
    "- https://hexdocs.pm/elixir/NaiveDateTime.html\n",
    "- https://docs.python.org/3/library/datetime.html\n",
    "\n",
    "**offset (desfase):** https://vinta.ws/code/timezone-in-python-offset-naive-and-offset-aware-datetimes.html"
   ]
  },
  {
   "cell_type": "markdown",
   "metadata": {},
   "source": [
    "### `tzinfo`: determinar o no la zona horaria\n",
    "(el próximo error es presentado con intención de ejemplificar)"
   ]
  },
  {
   "cell_type": "code",
   "execution_count": 16,
   "metadata": {},
   "outputs": [
    {
     "ename": "TypeError",
     "evalue": "can't subtract offset-naive and offset-aware datetimes",
     "output_type": "error",
     "traceback": [
      "\u001b[1;31m---------------------------------------------------------------------------\u001b[0m",
      "\u001b[1;31mTypeError\u001b[0m                                 Traceback (most recent call last)",
      "\u001b[1;32m<ipython-input-16-f854eb92bb15>\u001b[0m in \u001b[0;36m<module>\u001b[1;34m\u001b[0m\n\u001b[0;32m      4\u001b[0m     \u001b[1;32mreturn\u001b[0m \u001b[0mdiff\u001b[0m\u001b[1;33m\u001b[0m\u001b[1;33m\u001b[0m\u001b[0m\n\u001b[0;32m      5\u001b[0m \u001b[1;33m\u001b[0m\u001b[0m\n\u001b[1;32m----> 6\u001b[1;33m \u001b[0mprint\u001b[0m\u001b[1;33m(\u001b[0m\u001b[0mfunction\u001b[0m\u001b[1;33m(\u001b[0m\u001b[0mnow_Tokyo\u001b[0m\u001b[1;33m)\u001b[0m\u001b[1;33m)\u001b[0m\u001b[1;33m\u001b[0m\u001b[1;33m\u001b[0m\u001b[0m\n\u001b[0m",
      "\u001b[1;32m<ipython-input-16-f854eb92bb15>\u001b[0m in \u001b[0;36mfunction\u001b[1;34m(past_time)\u001b[0m\n\u001b[0;32m      1\u001b[0m \u001b[1;32mdef\u001b[0m \u001b[0mfunction\u001b[0m\u001b[1;33m(\u001b[0m\u001b[0mpast_time\u001b[0m\u001b[1;33m)\u001b[0m\u001b[1;33m:\u001b[0m\u001b[1;33m\u001b[0m\u001b[1;33m\u001b[0m\u001b[0m\n\u001b[0;32m      2\u001b[0m     \u001b[0mnow\u001b[0m \u001b[1;33m=\u001b[0m \u001b[0mdatetime\u001b[0m\u001b[1;33m.\u001b[0m\u001b[0mnow\u001b[0m\u001b[1;33m(\u001b[0m\u001b[1;33m)\u001b[0m\u001b[1;33m\u001b[0m\u001b[1;33m\u001b[0m\u001b[0m\n\u001b[1;32m----> 3\u001b[1;33m     \u001b[0mdiff\u001b[0m \u001b[1;33m=\u001b[0m \u001b[0mnow\u001b[0m \u001b[1;33m-\u001b[0m \u001b[0mpast_time\u001b[0m\u001b[1;33m\u001b[0m\u001b[1;33m\u001b[0m\u001b[0m\n\u001b[0m\u001b[0;32m      4\u001b[0m     \u001b[1;32mreturn\u001b[0m \u001b[0mdiff\u001b[0m\u001b[1;33m\u001b[0m\u001b[1;33m\u001b[0m\u001b[0m\n\u001b[0;32m      5\u001b[0m \u001b[1;33m\u001b[0m\u001b[0m\n",
      "\u001b[1;31mTypeError\u001b[0m: can't subtract offset-naive and offset-aware datetimes"
     ]
    }
   ],
   "source": [
    "def function(past_time):\n",
    "    now = datetime.now()\n",
    "    diff = now - past_time\n",
    "    return diff\n",
    "\n",
    "print(function(now_Tokyo))"
   ]
  },
  {
   "cell_type": "markdown",
   "metadata": {},
   "source": [
    "Con **datetime** no se realiza ningún cálculo de zona horaria cruzada. Ambos objetos \"datetime\" deben tener el mismo tzinfo (bien sea aware o naive).\n",
    "\n",
    "**Nota:** La decisión de trabajar con determinada zona horaria o no, debe estar relacionada con el tipon de problema que se este abordando. Se debe tener en cuenta que este decisión puede alterar los resultados que se obtengan."
   ]
  },
  {
   "cell_type": "code",
   "execution_count": 17,
   "metadata": {},
   "outputs": [
    {
     "name": "stdout",
     "output_type": "stream",
     "text": [
      "Ahora (local): 2020-02-28 15:07:25.026428+09:00 \n",
      "y en Tokyo: 2020-02-29 03:07:14.172486+09:00, \n",
      "y su diferencia:-1 day, 12:00:10.853942 respecto al local\n"
     ]
    }
   ],
   "source": [
    "def function(past_time):\n",
    "    now = datetime.now()\n",
    "    now = now.replace(tzinfo=past_time.tzinfo) # igualando zona horaria\n",
    "    diff = now - past_time\n",
    "    return now, diff\n",
    "now, diff = function(now_Tokyo)\n",
    "print('Ahora (local): {} \\ny en Tokyo: {}, \\ny su diferencia:{} respecto al local'.format(now, now_Tokyo, diff))"
   ]
  },
  {
   "cell_type": "markdown",
   "metadata": {},
   "source": [
    "- Llamada de `timedelta.days` para obtener los días. \n",
    "- Llamada de `timedelta.seconds` para obtener las horas y minutos, a partir de los segundos."
   ]
  },
  {
   "cell_type": "code",
   "execution_count": 18,
   "metadata": {},
   "outputs": [
    {
     "name": "stdout",
     "output_type": "stream",
     "text": [
      "Diferencia en horas y minutos: 12° 0.17'\n",
      "Diferencia en minutos: 720\n",
      "Diferencia en horas: 43210\n"
     ]
    }
   ],
   "source": [
    "print(f'Diferencia en horas y minutos: {diff.seconds//3600}° {(diff.seconds/3600 - diff.seconds//3600)*60:.2f}\\'')\n",
    "print(f'Diferencia en minutos: {diff.seconds//60}')\n",
    "print(f'Diferencia en horas: {diff.seconds}')"
   ]
  },
  {
   "cell_type": "markdown",
   "metadata": {},
   "source": [
    "## Conversiones\n",
    "### Convertir objeto datetime a string\n",
    "\n",
    "Tenemos 2 maneras de realizar esta conversión:\n",
    "#### Función `isoformat`: Formato automático ISO (Organización Internacional de Normalización)"
   ]
  },
  {
   "cell_type": "code",
   "execution_count": 19,
   "metadata": {},
   "outputs": [
    {
     "name": "stdout",
     "output_type": "stream",
     "text": [
      "CONVERTIR Ahora: 2020-02-28 15:07:25.026428+09:00 , de tipo: <class 'datetime.datetime'>\n",
      "A Ahora: 2020-02-28T15:07:25.026428+09:00 , de tipo: <class 'str'>\n"
     ]
    }
   ],
   "source": [
    "print('CONVERTIR Ahora:', now, ', de tipo:', type(now))\n",
    "print('A Ahora:', now.isoformat(), ', de tipo:', type(now.isoformat()))"
   ]
  },
  {
   "cell_type": "markdown",
   "metadata": {},
   "source": [
    "#### `strftime`: Formato manual (inglés por defecto)"
   ]
  },
  {
   "cell_type": "code",
   "execution_count": 20,
   "metadata": {},
   "outputs": [
    {
     "name": "stdout",
     "output_type": "stream",
     "text": [
      "Friday 28 February 2020 03:07 , de tipo: <class 'str'>\n",
      "February 28 Friday 2020 03:07 , de tipo: <class 'str'>\n"
     ]
    }
   ],
   "source": [
    "hoy = now.strftime(\"%A %d %B %Y %I:%M\")\n",
    "print(hoy, ', de tipo:', type(hoy))\n",
    "hoy = now.strftime(\"%B %d %A %Y %I:%M\")\n",
    "print(hoy, ', de tipo:', type(hoy))"
   ]
  },
  {
   "cell_type": "markdown",
   "metadata": {},
   "source": [
    "### Convertir string a objeto datetime\n",
    "#### `strptime`:"
   ]
  },
  {
   "cell_type": "code",
   "execution_count": 21,
   "metadata": {},
   "outputs": [
    {
     "name": "stdout",
     "output_type": "stream",
     "text": [
      "2005-06-01 13:33:00 (de tipo: <class 'datetime.datetime'>)\n"
     ]
    }
   ],
   "source": [
    "# El objeto datetime resultante es timezone-naive - strptime(string, formato)\n",
    "datetime_object = datetime.strptime('Jun 1 2005 1:33PM', '%b %d %Y %I:%M%p')\n",
    "print(datetime_object, '(de tipo: {})'.format(type(datetime_object)))"
   ]
  },
  {
   "cell_type": "code",
   "execution_count": 22,
   "metadata": {},
   "outputs": [
    {
     "name": "stdout",
     "output_type": "stream",
     "text": [
      "Fecha 1: 2013-10-01 00:00:00\n",
      "Fecha 2: 2013-12-25 00:00:00\n"
     ]
    }
   ],
   "source": [
    "# definiendo el formato de la fecha\n",
    "formato_fecha = \"%d-%m-%Y\"\n",
    "fecha_inicial = datetime.strptime(\"01-10-2013\", formato_fecha)\n",
    "fecha_final = datetime.strptime(\"25-12-2013\", formato_fecha)\n",
    "print('Fecha 1:', fecha_inicial)\n",
    "print('Fecha 2:', fecha_final)"
   ]
  },
  {
   "cell_type": "markdown",
   "metadata": {},
   "source": [
    "## Manipulación de datos de series de tiempo con *Pandas*\n",
    "https://pandas.pydata.org/pandas-docs/stable/user_guide/timeseries.html"
   ]
  },
  {
   "cell_type": "markdown",
   "metadata": {},
   "source": [
    "### `Timestamp`: equivalente al `Datetime` de Python \n",
    "Es el equivalente de pandas de `Datetime` de Python y es intercambiable con este en la mayoría de los casos. Es el tipo utilizado para las entradas que componen un índice de fecha y hora y otras estructuras de datos orientadas a series temporales en pandas.\n",
    "\n",
    "https://pandas.pydata.org/pandas-docs/stable/reference/api/pandas.Timestamp.html\n",
    "\n",
    "- **Días desde el epoch, correspondientes al entero suministrado, da como resultado la fecha/hora:**"
   ]
  },
  {
   "cell_type": "code",
   "execution_count": 23,
   "metadata": {},
   "outputs": [
    {
     "name": "stdout",
     "output_type": "stream",
     "text": [
      "2056-01-06 00:00:00\n"
     ]
    }
   ],
   "source": [
    "print(pd.Timestamp(31416, unit='d'))"
   ]
  },
  {
   "cell_type": "markdown",
   "metadata": {},
   "source": [
    "- **Segundos desde el epoch, correspondientes al entero suministrado, dan como resultado la fecha/hora**"
   ]
  },
  {
   "cell_type": "code",
   "execution_count": 24,
   "metadata": {},
   "outputs": [
    {
     "name": "stdout",
     "output_type": "stream",
     "text": [
      "1979-12-16 02:27:45\n"
     ]
    }
   ],
   "source": [
    "print(pd.Timestamp(314159265, unit='s'))"
   ]
  },
  {
   "cell_type": "code",
   "execution_count": 25,
   "metadata": {},
   "outputs": [
    {
     "name": "stdout",
     "output_type": "stream",
     "text": [
      "2016-03-14 00:00:00\n",
      "2016-03-14 00:00:00\n",
      "2016-03-14 00:00:00\n",
      "2016-03-14 01:59:09\n",
      "2016-03-14 15:09:26\n"
     ]
    }
   ],
   "source": [
    "print(pd.Timestamp('2016-03-14'))\n",
    "print(pd.Timestamp('2016/03/14'))\n",
    "print(pd.Timestamp('2016 03 14'))\n",
    "print(pd.Timestamp('2016, 03, 14 01:59:09'))\n",
    "print(pd.Timestamp('2016, 03, 14 03:09:26 pm'))"
   ]
  },
  {
   "cell_type": "markdown",
   "metadata": {},
   "source": [
    "### `date_range`: \n",
    "\n",
    "La frecuencia predeterminada para date_range es un día calendario (freq='D').\n",
    "\n",
    "https://pandas.pydata.org/pandas-docs/stable/user_guide/timeseries.html#timeseries-offset-aliases\n",
    "\n",
    "**Creando un rango de fechas del año 2018**"
   ]
  },
  {
   "cell_type": "code",
   "execution_count": 26,
   "metadata": {},
   "outputs": [
    {
     "data": {
      "text/plain": [
       "DatetimeIndex(['2020-01-01', '2020-01-02', '2020-01-03', '2020-01-04',\n",
       "               '2020-01-05', '2020-01-06', '2020-01-07', '2020-01-08',\n",
       "               '2020-01-09', '2020-01-10',\n",
       "               ...\n",
       "               '2020-12-22', '2020-12-23', '2020-12-24', '2020-12-25',\n",
       "               '2020-12-26', '2020-12-27', '2020-12-28', '2020-12-29',\n",
       "               '2020-12-30', '2020-12-31'],\n",
       "              dtype='datetime64[ns]', length=366, freq='D')"
      ]
     },
     "execution_count": 26,
     "metadata": {},
     "output_type": "execute_result"
    }
   ],
   "source": [
    "anho_2020 = pd.date_range(start='2020-01-01', end='2020-12-31')   # inicio, fin, períodos, frecuencia\n",
    "anho_2020"
   ]
  },
  {
   "cell_type": "markdown",
   "metadata": {},
   "source": [
    "El rango resultante es de un año con un total de 366 días (es un año bisiesto)"
   ]
  },
  {
   "cell_type": "markdown",
   "metadata": {},
   "source": [
    "**Creando un rango de fecha/hora de frecuencia de 1 hora**"
   ]
  },
  {
   "cell_type": "code",
   "execution_count": 27,
   "metadata": {},
   "outputs": [
    {
     "data": {
      "text/plain": [
       "DatetimeIndex(['2020-01-01 00:00:00', '2020-01-01 01:00:00',\n",
       "               '2020-01-01 02:00:00', '2020-01-01 03:00:00',\n",
       "               '2020-01-01 04:00:00', '2020-01-01 05:00:00',\n",
       "               '2020-01-01 06:00:00'],\n",
       "              dtype='datetime64[ns]', freq='H')"
      ]
     },
     "execution_count": 27,
     "metadata": {},
     "output_type": "execute_result"
    }
   ],
   "source": [
    "rango_de_fechas_1H = pd.date_range('2020-01-01', periods=7, freq='H')   # inicio, fin, períodos, frecuencia\n",
    "rango_de_fechas_1H"
   ]
  },
  {
   "cell_type": "markdown",
   "metadata": {},
   "source": [
    "**Creando un rango de fecha/hora de frecuencia de 2 horas**"
   ]
  },
  {
   "cell_type": "code",
   "execution_count": 28,
   "metadata": {},
   "outputs": [
    {
     "data": {
      "text/plain": [
       "DatetimeIndex(['2020-01-01 00:00:00', '2020-01-01 02:00:00',\n",
       "               '2020-01-01 04:00:00', '2020-01-01 06:00:00',\n",
       "               '2020-01-01 08:00:00', '2020-01-01 10:00:00',\n",
       "               '2020-01-01 12:00:00'],\n",
       "              dtype='datetime64[ns]', freq='2H')"
      ]
     },
     "execution_count": 28,
     "metadata": {},
     "output_type": "execute_result"
    }
   ],
   "source": [
    "rango_de_fechas_2H = pd.date_range('2020-01-01', periods=7, freq='2H')   # parámetros: inicio, fin, períodos, frecuencia\n",
    "rango_de_fechas_2H"
   ]
  },
  {
   "cell_type": "markdown",
   "metadata": {},
   "source": [
    "### `bdate_range`:\n",
    "La frecuencia predeterminada para bdate_range es un día hábil (freq='B')."
   ]
  },
  {
   "cell_type": "code",
   "execution_count": 29,
   "metadata": {},
   "outputs": [
    {
     "data": {
      "text/plain": [
       "DatetimeIndex(['2020-01-01', '2020-01-02', '2020-01-03', '2020-01-06',\n",
       "               '2020-01-07', '2020-01-08', '2020-01-09', '2020-01-10',\n",
       "               '2020-01-13', '2020-01-14',\n",
       "               ...\n",
       "               '2020-12-18', '2020-12-21', '2020-12-22', '2020-12-23',\n",
       "               '2020-12-24', '2020-12-25', '2020-12-28', '2020-12-29',\n",
       "               '2020-12-30', '2020-12-31'],\n",
       "              dtype='datetime64[ns]', length=262, freq='B')"
      ]
     },
     "execution_count": 29,
     "metadata": {},
     "output_type": "execute_result"
    }
   ],
   "source": [
    "anho_laboral_2020 = pd.bdate_range(start='2020-01-01', end='2020-12-31')   # parámetros: inicio, fin, períodos, frecuencia\n",
    "anho_laboral_2020"
   ]
  },
  {
   "cell_type": "markdown",
   "metadata": {},
   "source": [
    "El rango resultante es de un año con un total de 262 días hábiles; a diferencia del anterior que retornaba los días continuos del año 2020, este retorna sólo los días háblies.\n",
    "\n",
    "**Nota:** Estas salidas de `bdate_range` y `date_range` en algunas ocasiones es útil para comparar con nuestras fechas y poder detectar algún registro faltante; cuando estos tienen una frecuencia fija."
   ]
  },
  {
   "cell_type": "markdown",
   "metadata": {},
   "source": [
    "### `to_timedelta`:"
   ]
  },
  {
   "cell_type": "code",
   "execution_count": 30,
   "metadata": {},
   "outputs": [
    {
     "data": {
      "text/plain": [
       "TimedeltaIndex(['00:00:00', '01:00:00', '02:00:00', '03:00:00', '04:00:00',\n",
       "                '05:00:00', '06:00:00'],\n",
       "               dtype='timedelta64[ns]', freq=None)"
      ]
     },
     "execution_count": 30,
     "metadata": {},
     "output_type": "execute_result"
    }
   ],
   "source": [
    "pd.to_timedelta(rango_de_fechas_2H-rango_de_fechas_1H)"
   ]
  },
  {
   "cell_type": "markdown",
   "metadata": {},
   "source": [
    "### Manejo de las frecuencias\n",
    "- Consultar el siguiente enlace: https://pandas.pydata.org/pandas-docs/stable/user_guide/timeseries.html#offset-aliases"
   ]
  },
  {
   "cell_type": "markdown",
   "metadata": {},
   "source": [
    "<font color='blue' size=4>**Veamos la manipulación de fecha/hora con un dataframe...**</font>\n",
    "\n",
    "Descargar dataset desde el siguiente link:\n",
    "\n",
    "Referencia: https://www.kaggle.com/mchirico/montcoalert/data"
   ]
  },
  {
   "cell_type": "code",
   "execution_count": 31,
   "metadata": {},
   "outputs": [],
   "source": [
    "data = pd.read_csv('Data/911.csv')"
   ]
  },
  {
   "cell_type": "code",
   "execution_count": 32,
   "metadata": {},
   "outputs": [
    {
     "data": {
      "text/html": [
       "<div>\n",
       "<style scoped>\n",
       "    .dataframe tbody tr th:only-of-type {\n",
       "        vertical-align: middle;\n",
       "    }\n",
       "\n",
       "    .dataframe tbody tr th {\n",
       "        vertical-align: top;\n",
       "    }\n",
       "\n",
       "    .dataframe thead th {\n",
       "        text-align: right;\n",
       "    }\n",
       "</style>\n",
       "<table border=\"1\" class=\"dataframe\">\n",
       "  <thead>\n",
       "    <tr style=\"text-align: right;\">\n",
       "      <th></th>\n",
       "      <th>lat</th>\n",
       "      <th>lng</th>\n",
       "      <th>desc</th>\n",
       "      <th>zip</th>\n",
       "      <th>title</th>\n",
       "      <th>timeStamp</th>\n",
       "      <th>twp</th>\n",
       "      <th>addr</th>\n",
       "      <th>e</th>\n",
       "    </tr>\n",
       "  </thead>\n",
       "  <tbody>\n",
       "    <tr>\n",
       "      <td>0</td>\n",
       "      <td>40.297876</td>\n",
       "      <td>-75.581294</td>\n",
       "      <td>REINDEER CT &amp; DEAD END;  NEW HANOVER; Station ...</td>\n",
       "      <td>19525.0</td>\n",
       "      <td>EMS: BACK PAINS/INJURY</td>\n",
       "      <td>2015-12-10 17:10:52</td>\n",
       "      <td>NEW HANOVER</td>\n",
       "      <td>REINDEER CT &amp; DEAD END</td>\n",
       "      <td>1</td>\n",
       "    </tr>\n",
       "    <tr>\n",
       "      <td>1</td>\n",
       "      <td>40.258061</td>\n",
       "      <td>-75.264680</td>\n",
       "      <td>BRIAR PATH &amp; WHITEMARSH LN;  HATFIELD TOWNSHIP...</td>\n",
       "      <td>19446.0</td>\n",
       "      <td>EMS: DIABETIC EMERGENCY</td>\n",
       "      <td>2015-12-10 17:29:21</td>\n",
       "      <td>HATFIELD TOWNSHIP</td>\n",
       "      <td>BRIAR PATH &amp; WHITEMARSH LN</td>\n",
       "      <td>1</td>\n",
       "    </tr>\n",
       "    <tr>\n",
       "      <td>2</td>\n",
       "      <td>40.121182</td>\n",
       "      <td>-75.351975</td>\n",
       "      <td>HAWS AVE; NORRISTOWN; 2015-12-10 @ 14:39:21-St...</td>\n",
       "      <td>19401.0</td>\n",
       "      <td>Fire: GAS-ODOR/LEAK</td>\n",
       "      <td>2015-12-10 14:39:21</td>\n",
       "      <td>NORRISTOWN</td>\n",
       "      <td>HAWS AVE</td>\n",
       "      <td>1</td>\n",
       "    </tr>\n",
       "    <tr>\n",
       "      <td>3</td>\n",
       "      <td>40.116153</td>\n",
       "      <td>-75.343513</td>\n",
       "      <td>AIRY ST &amp; SWEDE ST;  NORRISTOWN; Station 308A;...</td>\n",
       "      <td>19401.0</td>\n",
       "      <td>EMS: CARDIAC EMERGENCY</td>\n",
       "      <td>2015-12-10 16:47:36</td>\n",
       "      <td>NORRISTOWN</td>\n",
       "      <td>AIRY ST &amp; SWEDE ST</td>\n",
       "      <td>1</td>\n",
       "    </tr>\n",
       "    <tr>\n",
       "      <td>4</td>\n",
       "      <td>40.251492</td>\n",
       "      <td>-75.603350</td>\n",
       "      <td>CHERRYWOOD CT &amp; DEAD END;  LOWER POTTSGROVE; S...</td>\n",
       "      <td>NaN</td>\n",
       "      <td>EMS: DIZZINESS</td>\n",
       "      <td>2015-12-10 16:56:52</td>\n",
       "      <td>LOWER POTTSGROVE</td>\n",
       "      <td>CHERRYWOOD CT &amp; DEAD END</td>\n",
       "      <td>1</td>\n",
       "    </tr>\n",
       "  </tbody>\n",
       "</table>\n",
       "</div>"
      ],
      "text/plain": [
       "         lat        lng                                               desc  \\\n",
       "0  40.297876 -75.581294  REINDEER CT & DEAD END;  NEW HANOVER; Station ...   \n",
       "1  40.258061 -75.264680  BRIAR PATH & WHITEMARSH LN;  HATFIELD TOWNSHIP...   \n",
       "2  40.121182 -75.351975  HAWS AVE; NORRISTOWN; 2015-12-10 @ 14:39:21-St...   \n",
       "3  40.116153 -75.343513  AIRY ST & SWEDE ST;  NORRISTOWN; Station 308A;...   \n",
       "4  40.251492 -75.603350  CHERRYWOOD CT & DEAD END;  LOWER POTTSGROVE; S...   \n",
       "\n",
       "       zip                    title            timeStamp                twp  \\\n",
       "0  19525.0   EMS: BACK PAINS/INJURY  2015-12-10 17:10:52        NEW HANOVER   \n",
       "1  19446.0  EMS: DIABETIC EMERGENCY  2015-12-10 17:29:21  HATFIELD TOWNSHIP   \n",
       "2  19401.0      Fire: GAS-ODOR/LEAK  2015-12-10 14:39:21         NORRISTOWN   \n",
       "3  19401.0   EMS: CARDIAC EMERGENCY  2015-12-10 16:47:36         NORRISTOWN   \n",
       "4      NaN           EMS: DIZZINESS  2015-12-10 16:56:52   LOWER POTTSGROVE   \n",
       "\n",
       "                         addr  e  \n",
       "0      REINDEER CT & DEAD END  1  \n",
       "1  BRIAR PATH & WHITEMARSH LN  1  \n",
       "2                    HAWS AVE  1  \n",
       "3          AIRY ST & SWEDE ST  1  \n",
       "4    CHERRYWOOD CT & DEAD END  1  "
      ]
     },
     "execution_count": 32,
     "metadata": {},
     "output_type": "execute_result"
    }
   ],
   "source": [
    "emergency = data.copy()\n",
    "emergency.head()"
   ]
  },
  {
   "cell_type": "markdown",
   "metadata": {},
   "source": [
    "**Descripción de columnas del dataframe:**\n",
    "- lat: Latitude\n",
    "- lng: Longitude\n",
    "- desc: Description of Emergency\n",
    "- zip: ZIP Code\n",
    "- title: Title of Emergency\n",
    "- time: StampDate and time of the call\n",
    "- twp: Town\n",
    "- addr: Adress\n",
    "- e: "
   ]
  },
  {
   "cell_type": "markdown",
   "metadata": {},
   "source": [
    "**Verificando el tipo de dato de la columna timeStamp**"
   ]
  },
  {
   "cell_type": "code",
   "execution_count": 33,
   "metadata": {},
   "outputs": [
    {
     "data": {
      "text/plain": [
       "dtype('O')"
      ]
     },
     "execution_count": 33,
     "metadata": {},
     "output_type": "execute_result"
    }
   ],
   "source": [
    "emergency.timeStamp.dtype"
   ]
  },
  {
   "cell_type": "markdown",
   "metadata": {},
   "source": [
    "**Convirtiendo el tipo de dato de la columna \"timeStamp\" a objeto \"datetime.datetime\"**"
   ]
  },
  {
   "cell_type": "code",
   "execution_count": 34,
   "metadata": {},
   "outputs": [
    {
     "name": "stdout",
     "output_type": "stream",
     "text": [
      "2015-12-10 17:10:52 (DE tipo object  A  tipo datetime64[ns])\n"
     ]
    }
   ],
   "source": [
    "# Convertir columna en datetime\n",
    "print('{} (DE tipo {}  A '.format(emergency.loc[0, 'timeStamp'], emergency['timeStamp'].dtype), end=' ')\n",
    "emergency['timeStamp'] = pd.to_datetime(emergency['timeStamp'])\n",
    "print('tipo {})'.format(emergency.timeStamp.dtype))"
   ]
  },
  {
   "cell_type": "markdown",
   "metadata": {},
   "source": [
    "### `strptime` \n",
    "Solo se puede usar con dato string y no sirve para trabajar directamente con Series o Dataframe.\n",
    "Para ello debemos valernos de la función map(), que se verá abajo."
   ]
  },
  {
   "cell_type": "code",
   "execution_count": 35,
   "metadata": {},
   "outputs": [
    {
     "name": "stdout",
     "output_type": "stream",
     "text": [
      "2015-12-10 17:10:52\n"
     ]
    }
   ],
   "source": [
    "print(datetime.strptime(str(emergency.loc[0, 'timeStamp']), '%Y-%m-%d %H:%M:%S'))"
   ]
  },
  {
   "cell_type": "markdown",
   "metadata": {},
   "source": [
    "<font size=5 color='blue'>**Probemos a extraer la fecha de la columna \"timeStamp\"**</font>\n",
    "\n",
    "En ocasiones tendemos a emplear maneras de convertir los datos en base a lo que estamos acostumbrados a utilizar, pero no necesariamente resulta ser lo más eficiente.\n",
    "Veamos distintas maneras de extraer la fecha:\n",
    "\n",
    "### `strptime`: para la conversión empleando apply\n",
    "Para realizar la conversión con `strptime`, debe aplicarse a cada valor de la columna a tratar; para esto usaremos la función *apply* ...\n",
    "\n",
    "- ***Nota***: es algo lento"
   ]
  },
  {
   "cell_type": "code",
   "execution_count": 36,
   "metadata": {},
   "outputs": [],
   "source": [
    "df_emergency = data.copy()"
   ]
  },
  {
   "cell_type": "code",
   "execution_count": 37,
   "metadata": {},
   "outputs": [
    {
     "name": "stdout",
     "output_type": "stream",
     "text": [
      "Wall time: 5.43 s\n"
     ]
    },
    {
     "data": {
      "text/plain": [
       "Timestamp('2015-12-10 17:10:52')"
      ]
     },
     "execution_count": 37,
     "metadata": {},
     "output_type": "execute_result"
    }
   ],
   "source": [
    "%%time\n",
    "df_emergency['timeStamp'] = df_emergency['timeStamp'].apply(lambda x: datetime.strptime(x,'%Y-%m-%d %H:%M:%S'))\n",
    "df_emergency['timeStamp'][0]"
   ]
  },
  {
   "cell_type": "markdown",
   "metadata": {},
   "source": [
    "<font color='green'>... y utilizamos `ciclo for` para extraer las fechas</font>"
   ]
  },
  {
   "cell_type": "code",
   "execution_count": 38,
   "metadata": {},
   "outputs": [
    {
     "name": "stdout",
     "output_type": "stream",
     "text": [
      "Wall time: 4.57 s\n"
     ]
    },
    {
     "data": {
      "text/plain": [
       "[datetime.date(2015, 12, 10),\n",
       " datetime.date(2015, 12, 10),\n",
       " datetime.date(2015, 12, 10),\n",
       " datetime.date(2015, 12, 10),\n",
       " datetime.date(2015, 12, 10)]"
      ]
     },
     "execution_count": 38,
     "metadata": {},
     "output_type": "execute_result"
    }
   ],
   "source": [
    "%%time\n",
    "fechas=[]\n",
    "for i in range(0, len(df_emergency)):\n",
    "    fechas.append(df_emergency.loc[i, 'timeStamp'].date())\n",
    "fechas[0:5]"
   ]
  },
  {
   "cell_type": "markdown",
   "metadata": {},
   "source": [
    "<font color='green'>... y utilizamos la función `apply` para extraer las fechas</font>\n",
    "\n",
    "- ***Nota***: es menos lento que el ciclo for"
   ]
  },
  {
   "cell_type": "code",
   "execution_count": 39,
   "metadata": {},
   "outputs": [
    {
     "name": "stdout",
     "output_type": "stream",
     "text": [
      "Wall time: 1.39 s\n"
     ]
    },
    {
     "data": {
      "text/plain": [
       "datetime.date(2015, 12, 10)"
      ]
     },
     "execution_count": 39,
     "metadata": {},
     "output_type": "execute_result"
    }
   ],
   "source": [
    "%%time\n",
    "(df_emergency['timeStamp'].apply(lambda x: datetime.date(x))[0])"
   ]
  },
  {
   "cell_type": "markdown",
   "metadata": {},
   "source": [
    "<font color='green'>... y utilizamos la función `map` para extraer las fechas</font>\n",
    "\n",
    "- ***Nota***: más rapida que el ciclo for y la función `apply`"
   ]
  },
  {
   "cell_type": "code",
   "execution_count": 40,
   "metadata": {},
   "outputs": [
    {
     "name": "stdout",
     "output_type": "stream",
     "text": [
      "Wall time: 838 ms\n"
     ]
    }
   ],
   "source": [
    "%%time\n",
    "def fechas(x):\n",
    "    return x.date()\n",
    "solo_fechas = list(map(fechas, df_emergency['timeStamp']))"
   ]
  },
  {
   "cell_type": "code",
   "execution_count": 41,
   "metadata": {},
   "outputs": [
    {
     "data": {
      "text/plain": [
       "[datetime.date(2015, 12, 10),\n",
       " datetime.date(2015, 12, 10),\n",
       " datetime.date(2015, 12, 10),\n",
       " datetime.date(2015, 12, 10)]"
      ]
     },
     "execution_count": 41,
     "metadata": {},
     "output_type": "execute_result"
    }
   ],
   "source": [
    "solo_fechas[0:4]"
   ]
  },
  {
   "cell_type": "markdown",
   "metadata": {},
   "source": [
    "<font color='green'>**Otra manera de extraer la fecha**, pero debemos tener esta indexada (es más eficiente que los modos anteriores)</font>"
   ]
  },
  {
   "cell_type": "code",
   "execution_count": 42,
   "metadata": {},
   "outputs": [
    {
     "name": "stdout",
     "output_type": "stream",
     "text": [
      "Wall time: 164 ms\n"
     ]
    },
    {
     "data": {
      "text/plain": [
       "array([datetime.date(2015, 12, 10), datetime.date(2015, 12, 10),\n",
       "       datetime.date(2015, 12, 10), datetime.date(2015, 12, 10),\n",
       "       datetime.date(2015, 12, 10)], dtype=object)"
      ]
     },
     "execution_count": 42,
     "metadata": {},
     "output_type": "execute_result"
    }
   ],
   "source": [
    "%%time\n",
    "df_emergency.set_index('timeStamp').index.date[0:5]"
   ]
  },
  {
   "cell_type": "markdown",
   "metadata": {},
   "source": [
    "### `to_datetime`: para la conversión de los datos de fecha/hora\n",
    "\n",
    "Es una manera mucho más óptima de conversión"
   ]
  },
  {
   "cell_type": "code",
   "execution_count": 43,
   "metadata": {},
   "outputs": [
    {
     "name": "stdout",
     "output_type": "stream",
     "text": [
      "Wall time: 5.98 ms\n"
     ]
    },
    {
     "data": {
      "text/plain": [
       "0   2015-12-10 17:10:52\n",
       "1   2015-12-10 17:29:21\n",
       "2   2015-12-10 14:39:21\n",
       "3   2015-12-10 16:47:36\n",
       "4   2015-12-10 16:56:52\n",
       "Name: timeStamp, dtype: datetime64[ns]"
      ]
     },
     "execution_count": 43,
     "metadata": {},
     "output_type": "execute_result"
    }
   ],
   "source": [
    "%%time\n",
    "df_emergency['timeStamp'] = pd.to_datetime(df_emergency['timeStamp'])\n",
    "df_emergency['timeStamp'][0:5]"
   ]
  },
  {
   "cell_type": "markdown",
   "metadata": {},
   "source": [
    "### `DatetimeIndex`:\n",
    "Este objeto posee muchos atributos para almacenar información específica del tiempo."
   ]
  },
  {
   "cell_type": "code",
   "execution_count": 44,
   "metadata": {},
   "outputs": [],
   "source": [
    "df_emergency = data.copy()"
   ]
  },
  {
   "cell_type": "code",
   "execution_count": 45,
   "metadata": {},
   "outputs": [
    {
     "name": "stdout",
     "output_type": "stream",
     "text": [
      "Wall time: 998 µs\n"
     ]
    },
    {
     "data": {
      "text/plain": [
       "DatetimeIndex(['2015-12-10 17:10:52', '2015-12-10 17:29:21',\n",
       "               '2015-12-10 14:39:21', '2015-12-10 16:47:36',\n",
       "               '2015-12-10 16:56:52'],\n",
       "              dtype='datetime64[ns]', name='timeStamp', freq=None)"
      ]
     },
     "execution_count": 45,
     "metadata": {},
     "output_type": "execute_result"
    }
   ],
   "source": [
    "%%time\n",
    "pd.DatetimeIndex(emergency['timeStamp'])[0:5]"
   ]
  },
  {
   "cell_type": "markdown",
   "metadata": {},
   "source": [
    "<font color='magenta'>**Otra manera adicional de extraer la fecha**, es mucho más eficiente que los modos anteriores</font>"
   ]
  },
  {
   "cell_type": "code",
   "execution_count": 46,
   "metadata": {},
   "outputs": [
    {
     "name": "stdout",
     "output_type": "stream",
     "text": [
      "Wall time: 122 ms\n"
     ]
    },
    {
     "data": {
      "text/plain": [
       "array([datetime.date(2015, 12, 10), datetime.date(2015, 12, 10),\n",
       "       datetime.date(2015, 12, 10), datetime.date(2015, 12, 10),\n",
       "       datetime.date(2015, 12, 10)], dtype=object)"
      ]
     },
     "execution_count": 46,
     "metadata": {},
     "output_type": "execute_result"
    }
   ],
   "source": [
    "%%time\n",
    "pd.DatetimeIndex(emergency['timeStamp']).date[0:5]"
   ]
  },
  {
   "cell_type": "markdown",
   "metadata": {},
   "source": [
    "**Extrayendo la hora...**"
   ]
  },
  {
   "cell_type": "code",
   "execution_count": 47,
   "metadata": {},
   "outputs": [
    {
     "data": {
      "text/plain": [
       "array([datetime.time(17, 10, 52), datetime.time(17, 29, 21),\n",
       "       datetime.time(14, 39, 21), datetime.time(16, 47, 36),\n",
       "       datetime.time(16, 56, 52)], dtype=object)"
      ]
     },
     "execution_count": 47,
     "metadata": {},
     "output_type": "execute_result"
    }
   ],
   "source": [
    "pd.DatetimeIndex(emergency['timeStamp'] ).time[0:5]"
   ]
  },
  {
   "cell_type": "markdown",
   "metadata": {},
   "source": [
    "**Extrayendo año, mes y día...**"
   ]
  },
  {
   "cell_type": "code",
   "execution_count": 48,
   "metadata": {},
   "outputs": [
    {
     "name": "stdout",
     "output_type": "stream",
     "text": [
      "Wall time: 34.9 ms\n"
     ]
    },
    {
     "data": {
      "text/plain": [
       "Int64Index([2015, 2015, 2015, 2015, 2015], dtype='int64', name='timeStamp')"
      ]
     },
     "execution_count": 48,
     "metadata": {},
     "output_type": "execute_result"
    }
   ],
   "source": [
    "%%time\n",
    "pd.DatetimeIndex(emergency['timeStamp']).year[0:5]"
   ]
  },
  {
   "cell_type": "code",
   "execution_count": 49,
   "metadata": {},
   "outputs": [
    {
     "name": "stdout",
     "output_type": "stream",
     "text": [
      "Wall time: 31.9 ms\n"
     ]
    },
    {
     "data": {
      "text/plain": [
       "Int64Index([12, 12, 12, 12, 12], dtype='int64', name='timeStamp')"
      ]
     },
     "execution_count": 49,
     "metadata": {},
     "output_type": "execute_result"
    }
   ],
   "source": [
    "%%time\n",
    "pd.DatetimeIndex(emergency['timeStamp']).month[0:5]"
   ]
  },
  {
   "cell_type": "code",
   "execution_count": 50,
   "metadata": {},
   "outputs": [
    {
     "data": {
      "text/plain": [
       "Int64Index([10, 10, 10, 10, 10], dtype='int64', name='timeStamp')"
      ]
     },
     "execution_count": 50,
     "metadata": {},
     "output_type": "execute_result"
    }
   ],
   "source": [
    "pd.DatetimeIndex(emergency['timeStamp']).day[0:5]"
   ]
  },
  {
   "cell_type": "markdown",
   "metadata": {},
   "source": [
    "**Extrayendo horas, minutos y segundos...**"
   ]
  },
  {
   "cell_type": "code",
   "execution_count": 51,
   "metadata": {},
   "outputs": [
    {
     "data": {
      "text/plain": [
       "Int64Index([17, 17, 14, 16, 16], dtype='int64', name='timeStamp')"
      ]
     },
     "execution_count": 51,
     "metadata": {},
     "output_type": "execute_result"
    }
   ],
   "source": [
    "pd.DatetimeIndex(emergency['timeStamp'] ).hour[0:5]"
   ]
  },
  {
   "cell_type": "code",
   "execution_count": 52,
   "metadata": {},
   "outputs": [
    {
     "data": {
      "text/plain": [
       "Int64Index([10, 29, 39, 47, 56], dtype='int64', name='timeStamp')"
      ]
     },
     "execution_count": 52,
     "metadata": {},
     "output_type": "execute_result"
    }
   ],
   "source": [
    "pd.DatetimeIndex(emergency['timeStamp'] ).minute[0:5]"
   ]
  },
  {
   "cell_type": "code",
   "execution_count": 53,
   "metadata": {},
   "outputs": [
    {
     "data": {
      "text/plain": [
       "Int64Index([52, 21, 21, 36, 52], dtype='int64', name='timeStamp')"
      ]
     },
     "execution_count": 53,
     "metadata": {},
     "output_type": "execute_result"
    }
   ],
   "source": [
    "pd.DatetimeIndex(emergency['timeStamp'] ).second[0:5]"
   ]
  },
  {
   "cell_type": "markdown",
   "metadata": {},
   "source": [
    "**Días de la semana...**"
   ]
  },
  {
   "cell_type": "code",
   "execution_count": 54,
   "metadata": {},
   "outputs": [
    {
     "data": {
      "text/plain": [
       "Int64Index([3, 3, 3, 3, 3], dtype='int64', name='timeStamp')"
      ]
     },
     "execution_count": 54,
     "metadata": {},
     "output_type": "execute_result"
    }
   ],
   "source": [
    "pd.DatetimeIndex(emergency['timeStamp']).weekday[0:5]"
   ]
  },
  {
   "cell_type": "code",
   "execution_count": 55,
   "metadata": {},
   "outputs": [
    {
     "data": {
      "text/plain": [
       "Index(['Thursday', 'Thursday', 'Thursday', 'Thursday', 'Thursday'], dtype='object', name='timeStamp')"
      ]
     },
     "execution_count": 55,
     "metadata": {},
     "output_type": "execute_result"
    }
   ],
   "source": [
    "pd.DatetimeIndex(emergency['timeStamp']).weekday_name[0:5]"
   ]
  },
  {
   "cell_type": "markdown",
   "metadata": {},
   "source": [
    "### `astype`:\n",
    "También podemos hacer la conversión de esta manera:"
   ]
  },
  {
   "cell_type": "code",
   "execution_count": 56,
   "metadata": {},
   "outputs": [
    {
     "name": "stdout",
     "output_type": "stream",
     "text": [
      "Wall time: 277 ms\n"
     ]
    },
    {
     "data": {
      "text/html": [
       "<div>\n",
       "<style scoped>\n",
       "    .dataframe tbody tr th:only-of-type {\n",
       "        vertical-align: middle;\n",
       "    }\n",
       "\n",
       "    .dataframe tbody tr th {\n",
       "        vertical-align: top;\n",
       "    }\n",
       "\n",
       "    .dataframe thead th {\n",
       "        text-align: right;\n",
       "    }\n",
       "</style>\n",
       "<table border=\"1\" class=\"dataframe\">\n",
       "  <thead>\n",
       "    <tr style=\"text-align: right;\">\n",
       "      <th></th>\n",
       "      <th>timeStamp</th>\n",
       "    </tr>\n",
       "  </thead>\n",
       "  <tbody>\n",
       "    <tr>\n",
       "      <td>0</td>\n",
       "      <td>2015-12-10 17:10:52</td>\n",
       "    </tr>\n",
       "    <tr>\n",
       "      <td>1</td>\n",
       "      <td>2015-12-10 17:29:21</td>\n",
       "    </tr>\n",
       "    <tr>\n",
       "      <td>2</td>\n",
       "      <td>2015-12-10 14:39:21</td>\n",
       "    </tr>\n",
       "    <tr>\n",
       "      <td>3</td>\n",
       "      <td>2015-12-10 16:47:36</td>\n",
       "    </tr>\n",
       "    <tr>\n",
       "      <td>4</td>\n",
       "      <td>2015-12-10 16:56:52</td>\n",
       "    </tr>\n",
       "  </tbody>\n",
       "</table>\n",
       "</div>"
      ],
      "text/plain": [
       "            timeStamp\n",
       "0 2015-12-10 17:10:52\n",
       "1 2015-12-10 17:29:21\n",
       "2 2015-12-10 14:39:21\n",
       "3 2015-12-10 16:47:36\n",
       "4 2015-12-10 16:56:52"
      ]
     },
     "execution_count": 56,
     "metadata": {},
     "output_type": "execute_result"
    }
   ],
   "source": [
    "%%time\n",
    "data[['timeStamp']].astype('datetime64[ns]')[0:5]"
   ]
  },
  {
   "cell_type": "markdown",
   "metadata": {},
   "source": [
    "### Atributos de DatetimeIndex:\n",
    "year - month - day - hour - minute - second - microsecond - nanosecond - date - time - timetz - dayofyear - weekofyear - week - dayofweek - weekday - quarter - tz - freq - freqstr - is_month_start - is_month_end - is_quarter_start - is_quarter_end - is_year_start - is_year_end ...\n",
    "\n",
    "Para más info: \n",
    "https://pandas.pydata.org/pandas-docs/version/0.21.1/api.html#datetimeindex\n",
    "\n",
    "https://pandas.pydata.org/pandas-docs/stable/reference/api/pandas.DatetimeIndex.html#pandas.DatetimeIndex"
   ]
  },
  {
   "cell_type": "markdown",
   "metadata": {},
   "source": [
    "### `set_index`:\n",
    "Al indexar la columna \"timeStamp\" se podrá realizar cierto manejo de estos datos:"
   ]
  },
  {
   "cell_type": "code",
   "execution_count": 57,
   "metadata": {},
   "outputs": [
    {
     "data": {
      "text/html": [
       "<div>\n",
       "<style scoped>\n",
       "    .dataframe tbody tr th:only-of-type {\n",
       "        vertical-align: middle;\n",
       "    }\n",
       "\n",
       "    .dataframe tbody tr th {\n",
       "        vertical-align: top;\n",
       "    }\n",
       "\n",
       "    .dataframe thead th {\n",
       "        text-align: right;\n",
       "    }\n",
       "</style>\n",
       "<table border=\"1\" class=\"dataframe\">\n",
       "  <thead>\n",
       "    <tr style=\"text-align: right;\">\n",
       "      <th></th>\n",
       "      <th>lat</th>\n",
       "      <th>lng</th>\n",
       "      <th>desc</th>\n",
       "      <th>zip</th>\n",
       "      <th>title</th>\n",
       "      <th>twp</th>\n",
       "      <th>addr</th>\n",
       "      <th>e</th>\n",
       "    </tr>\n",
       "    <tr>\n",
       "      <th>timeStamp</th>\n",
       "      <th></th>\n",
       "      <th></th>\n",
       "      <th></th>\n",
       "      <th></th>\n",
       "      <th></th>\n",
       "      <th></th>\n",
       "      <th></th>\n",
       "      <th></th>\n",
       "    </tr>\n",
       "  </thead>\n",
       "  <tbody>\n",
       "    <tr>\n",
       "      <td>2015-12-10 17:10:52</td>\n",
       "      <td>40.297876</td>\n",
       "      <td>-75.581294</td>\n",
       "      <td>REINDEER CT &amp; DEAD END;  NEW HANOVER; Station ...</td>\n",
       "      <td>19525.0</td>\n",
       "      <td>EMS: BACK PAINS/INJURY</td>\n",
       "      <td>NEW HANOVER</td>\n",
       "      <td>REINDEER CT &amp; DEAD END</td>\n",
       "      <td>1</td>\n",
       "    </tr>\n",
       "    <tr>\n",
       "      <td>2015-12-10 17:29:21</td>\n",
       "      <td>40.258061</td>\n",
       "      <td>-75.264680</td>\n",
       "      <td>BRIAR PATH &amp; WHITEMARSH LN;  HATFIELD TOWNSHIP...</td>\n",
       "      <td>19446.0</td>\n",
       "      <td>EMS: DIABETIC EMERGENCY</td>\n",
       "      <td>HATFIELD TOWNSHIP</td>\n",
       "      <td>BRIAR PATH &amp; WHITEMARSH LN</td>\n",
       "      <td>1</td>\n",
       "    </tr>\n",
       "    <tr>\n",
       "      <td>2015-12-10 14:39:21</td>\n",
       "      <td>40.121182</td>\n",
       "      <td>-75.351975</td>\n",
       "      <td>HAWS AVE; NORRISTOWN; 2015-12-10 @ 14:39:21-St...</td>\n",
       "      <td>19401.0</td>\n",
       "      <td>Fire: GAS-ODOR/LEAK</td>\n",
       "      <td>NORRISTOWN</td>\n",
       "      <td>HAWS AVE</td>\n",
       "      <td>1</td>\n",
       "    </tr>\n",
       "  </tbody>\n",
       "</table>\n",
       "</div>"
      ],
      "text/plain": [
       "                           lat        lng  \\\n",
       "timeStamp                                   \n",
       "2015-12-10 17:10:52  40.297876 -75.581294   \n",
       "2015-12-10 17:29:21  40.258061 -75.264680   \n",
       "2015-12-10 14:39:21  40.121182 -75.351975   \n",
       "\n",
       "                                                                  desc  \\\n",
       "timeStamp                                                                \n",
       "2015-12-10 17:10:52  REINDEER CT & DEAD END;  NEW HANOVER; Station ...   \n",
       "2015-12-10 17:29:21  BRIAR PATH & WHITEMARSH LN;  HATFIELD TOWNSHIP...   \n",
       "2015-12-10 14:39:21  HAWS AVE; NORRISTOWN; 2015-12-10 @ 14:39:21-St...   \n",
       "\n",
       "                         zip                    title                twp  \\\n",
       "timeStamp                                                                  \n",
       "2015-12-10 17:10:52  19525.0   EMS: BACK PAINS/INJURY        NEW HANOVER   \n",
       "2015-12-10 17:29:21  19446.0  EMS: DIABETIC EMERGENCY  HATFIELD TOWNSHIP   \n",
       "2015-12-10 14:39:21  19401.0      Fire: GAS-ODOR/LEAK         NORRISTOWN   \n",
       "\n",
       "                                           addr  e  \n",
       "timeStamp                                           \n",
       "2015-12-10 17:10:52      REINDEER CT & DEAD END  1  \n",
       "2015-12-10 17:29:21  BRIAR PATH & WHITEMARSH LN  1  \n",
       "2015-12-10 14:39:21                    HAWS AVE  1  "
      ]
     },
     "execution_count": 57,
     "metadata": {},
     "output_type": "execute_result"
    }
   ],
   "source": [
    "emergency = emergency.set_index('timeStamp')\n",
    "emergency.head(3)"
   ]
  },
  {
   "cell_type": "markdown",
   "metadata": {},
   "source": [
    "- **Determinar la fecha/hora mínima y máxima:**"
   ]
  },
  {
   "cell_type": "code",
   "execution_count": 58,
   "metadata": {},
   "outputs": [
    {
     "data": {
      "text/plain": [
       "(Timestamp('2015-12-10 14:39:21'), Timestamp('2018-11-16 08:55:36'))"
      ]
     },
     "execution_count": 58,
     "metadata": {},
     "output_type": "execute_result"
    }
   ],
   "source": [
    "emergency.index.min(), emergency.index.max()"
   ]
  },
  {
   "cell_type": "markdown",
   "metadata": {},
   "source": [
    "- **Seleccionar valores a una hora particular del día:**\n",
    "\n",
    "https://pandas.pydata.org/pandas-docs/stable/reference/api/pandas.DataFrame.at_time.html#pandas.DataFrame.at_time"
   ]
  },
  {
   "cell_type": "code",
   "execution_count": 59,
   "metadata": {},
   "outputs": [
    {
     "data": {
      "text/html": [
       "<div>\n",
       "<style scoped>\n",
       "    .dataframe tbody tr th:only-of-type {\n",
       "        vertical-align: middle;\n",
       "    }\n",
       "\n",
       "    .dataframe tbody tr th {\n",
       "        vertical-align: top;\n",
       "    }\n",
       "\n",
       "    .dataframe thead th {\n",
       "        text-align: right;\n",
       "    }\n",
       "</style>\n",
       "<table border=\"1\" class=\"dataframe\">\n",
       "  <thead>\n",
       "    <tr style=\"text-align: right;\">\n",
       "      <th></th>\n",
       "      <th>lat</th>\n",
       "      <th>lng</th>\n",
       "      <th>desc</th>\n",
       "      <th>zip</th>\n",
       "      <th>title</th>\n",
       "      <th>twp</th>\n",
       "      <th>addr</th>\n",
       "      <th>e</th>\n",
       "    </tr>\n",
       "    <tr>\n",
       "      <th>timeStamp</th>\n",
       "      <th></th>\n",
       "      <th></th>\n",
       "      <th></th>\n",
       "      <th></th>\n",
       "      <th></th>\n",
       "      <th></th>\n",
       "      <th></th>\n",
       "      <th></th>\n",
       "    </tr>\n",
       "  </thead>\n",
       "  <tbody>\n",
       "    <tr>\n",
       "      <td>2016-03-21 16:30:00</td>\n",
       "      <td>40.268556</td>\n",
       "      <td>-75.333218</td>\n",
       "      <td>ALLENTOWN RD &amp; DERSTINE RD; TOWAMENCIN; 2016-0...</td>\n",
       "      <td>19440.0</td>\n",
       "      <td>Traffic: VEHICLE ACCIDENT -</td>\n",
       "      <td>TOWAMENCIN</td>\n",
       "      <td>ALLENTOWN RD &amp; DERSTINE RD</td>\n",
       "      <td>1</td>\n",
       "    </tr>\n",
       "    <tr>\n",
       "      <td>2016-09-30 16:30:00</td>\n",
       "      <td>40.083880</td>\n",
       "      <td>-75.157185</td>\n",
       "      <td>SALISBURY RD &amp; GREENWOOD AVE;  CHELTENHAM; Sta...</td>\n",
       "      <td>19095.0</td>\n",
       "      <td>EMS: CVA/STROKE</td>\n",
       "      <td>CHELTENHAM</td>\n",
       "      <td>SALISBURY RD &amp; GREENWOOD AVE</td>\n",
       "      <td>1</td>\n",
       "    </tr>\n",
       "    <tr>\n",
       "      <td>2017-01-29 16:30:00</td>\n",
       "      <td>40.375426</td>\n",
       "      <td>-75.516024</td>\n",
       "      <td>RT663 &amp; NORTHGATE BLVD; UPPER HANOVER; 2017-01...</td>\n",
       "      <td>NaN</td>\n",
       "      <td>Traffic: VEHICLE ACCIDENT -</td>\n",
       "      <td>UPPER HANOVER</td>\n",
       "      <td>RT663 &amp; NORTHGATE BLVD</td>\n",
       "      <td>1</td>\n",
       "    </tr>\n",
       "    <tr>\n",
       "      <td>2017-09-20 16:30:00</td>\n",
       "      <td>40.024967</td>\n",
       "      <td>-75.282905</td>\n",
       "      <td>PRESIDENTIAL BLVD &amp; GLEN RD;  LOWER MERION; St...</td>\n",
       "      <td>NaN</td>\n",
       "      <td>EMS: CARDIAC EMERGENCY</td>\n",
       "      <td>LOWER MERION</td>\n",
       "      <td>PRESIDENTIAL BLVD &amp; GLEN RD</td>\n",
       "      <td>1</td>\n",
       "    </tr>\n",
       "    <tr>\n",
       "      <td>2017-12-09 16:30:00</td>\n",
       "      <td>40.206081</td>\n",
       "      <td>-75.224618</td>\n",
       "      <td>BETHLEHEM PIKE &amp; WELSH RD; HORSHAM; 2017-12-09...</td>\n",
       "      <td>19454.0</td>\n",
       "      <td>Traffic: VEHICLE ACCIDENT -</td>\n",
       "      <td>HORSHAM</td>\n",
       "      <td>BETHLEHEM PIKE &amp; WELSH RD</td>\n",
       "      <td>1</td>\n",
       "    </tr>\n",
       "  </tbody>\n",
       "</table>\n",
       "</div>"
      ],
      "text/plain": [
       "                           lat        lng  \\\n",
       "timeStamp                                   \n",
       "2016-03-21 16:30:00  40.268556 -75.333218   \n",
       "2016-09-30 16:30:00  40.083880 -75.157185   \n",
       "2017-01-29 16:30:00  40.375426 -75.516024   \n",
       "2017-09-20 16:30:00  40.024967 -75.282905   \n",
       "2017-12-09 16:30:00  40.206081 -75.224618   \n",
       "\n",
       "                                                                  desc  \\\n",
       "timeStamp                                                                \n",
       "2016-03-21 16:30:00  ALLENTOWN RD & DERSTINE RD; TOWAMENCIN; 2016-0...   \n",
       "2016-09-30 16:30:00  SALISBURY RD & GREENWOOD AVE;  CHELTENHAM; Sta...   \n",
       "2017-01-29 16:30:00  RT663 & NORTHGATE BLVD; UPPER HANOVER; 2017-01...   \n",
       "2017-09-20 16:30:00  PRESIDENTIAL BLVD & GLEN RD;  LOWER MERION; St...   \n",
       "2017-12-09 16:30:00  BETHLEHEM PIKE & WELSH RD; HORSHAM; 2017-12-09...   \n",
       "\n",
       "                         zip                        title            twp  \\\n",
       "timeStamp                                                                  \n",
       "2016-03-21 16:30:00  19440.0  Traffic: VEHICLE ACCIDENT -     TOWAMENCIN   \n",
       "2016-09-30 16:30:00  19095.0              EMS: CVA/STROKE     CHELTENHAM   \n",
       "2017-01-29 16:30:00      NaN  Traffic: VEHICLE ACCIDENT -  UPPER HANOVER   \n",
       "2017-09-20 16:30:00      NaN       EMS: CARDIAC EMERGENCY   LOWER MERION   \n",
       "2017-12-09 16:30:00  19454.0  Traffic: VEHICLE ACCIDENT -        HORSHAM   \n",
       "\n",
       "                                             addr  e  \n",
       "timeStamp                                             \n",
       "2016-03-21 16:30:00    ALLENTOWN RD & DERSTINE RD  1  \n",
       "2016-09-30 16:30:00  SALISBURY RD & GREENWOOD AVE  1  \n",
       "2017-01-29 16:30:00        RT663 & NORTHGATE BLVD  1  \n",
       "2017-09-20 16:30:00   PRESIDENTIAL BLVD & GLEN RD  1  \n",
       "2017-12-09 16:30:00     BETHLEHEM PIKE & WELSH RD  1  "
      ]
     },
     "execution_count": 59,
     "metadata": {},
     "output_type": "execute_result"
    }
   ],
   "source": [
    "emergency.at_time('16:30')"
   ]
  },
  {
   "cell_type": "markdown",
   "metadata": {},
   "source": [
    "- **Seleccionar valores entre horas particulares del día:**\n",
    "\n",
    "https://pandas.pydata.org/pandas-docs/stable/reference/api/pandas.DataFrame.between_time.html#pandas.DataFrame.between_time"
   ]
  },
  {
   "cell_type": "code",
   "execution_count": 60,
   "metadata": {},
   "outputs": [
    {
     "data": {
      "text/html": [
       "<div>\n",
       "<style scoped>\n",
       "    .dataframe tbody tr th:only-of-type {\n",
       "        vertical-align: middle;\n",
       "    }\n",
       "\n",
       "    .dataframe tbody tr th {\n",
       "        vertical-align: top;\n",
       "    }\n",
       "\n",
       "    .dataframe thead th {\n",
       "        text-align: right;\n",
       "    }\n",
       "</style>\n",
       "<table border=\"1\" class=\"dataframe\">\n",
       "  <thead>\n",
       "    <tr style=\"text-align: right;\">\n",
       "      <th></th>\n",
       "      <th>lat</th>\n",
       "      <th>lng</th>\n",
       "      <th>desc</th>\n",
       "      <th>zip</th>\n",
       "      <th>title</th>\n",
       "      <th>twp</th>\n",
       "      <th>addr</th>\n",
       "      <th>e</th>\n",
       "    </tr>\n",
       "    <tr>\n",
       "      <th>timeStamp</th>\n",
       "      <th></th>\n",
       "      <th></th>\n",
       "      <th></th>\n",
       "      <th></th>\n",
       "      <th></th>\n",
       "      <th></th>\n",
       "      <th></th>\n",
       "      <th></th>\n",
       "    </tr>\n",
       "  </thead>\n",
       "  <tbody>\n",
       "    <tr>\n",
       "      <td>2015-12-11 08:01:43</td>\n",
       "      <td>40.156448</td>\n",
       "      <td>-75.122080</td>\n",
       "      <td>EASTON RD &amp; ANDREA DR;  UPPER MORELAND; Statio...</td>\n",
       "      <td>19090.0</td>\n",
       "      <td>EMS: UNRESPONSIVE SUBJECT</td>\n",
       "      <td>UPPER MORELAND</td>\n",
       "      <td>EASTON RD &amp; ANDREA DR</td>\n",
       "      <td>1</td>\n",
       "    </tr>\n",
       "    <tr>\n",
       "      <td>2015-12-11 08:04:24</td>\n",
       "      <td>40.121176</td>\n",
       "      <td>-75.133361</td>\n",
       "      <td>SUSQUEHANNA RD &amp; EASTON RD; ABINGTON; 2015-12-...</td>\n",
       "      <td>19001.0</td>\n",
       "      <td>Traffic: VEHICLE ACCIDENT -</td>\n",
       "      <td>ABINGTON</td>\n",
       "      <td>SUSQUEHANNA RD &amp; EASTON RD</td>\n",
       "      <td>1</td>\n",
       "    </tr>\n",
       "    <tr>\n",
       "      <td>2015-12-11 08:04:24</td>\n",
       "      <td>40.119833</td>\n",
       "      <td>-75.125349</td>\n",
       "      <td>SUSQUEHANNA RD &amp; TYSON AVE OVERPASS; ABINGTON;...</td>\n",
       "      <td>NaN</td>\n",
       "      <td>Traffic: VEHICLE ACCIDENT -</td>\n",
       "      <td>ABINGTON</td>\n",
       "      <td>SUSQUEHANNA RD &amp; TYSON AVE OVERPASS</td>\n",
       "      <td>1</td>\n",
       "    </tr>\n",
       "    <tr>\n",
       "      <td>2015-12-13 08:03:40</td>\n",
       "      <td>40.113061</td>\n",
       "      <td>-75.119229</td>\n",
       "      <td>SUSQUEHANNA RD &amp; HUNTINGDON RD;  ABINGTON; Sta...</td>\n",
       "      <td>19046.0</td>\n",
       "      <td>EMS: HEAD INJURY</td>\n",
       "      <td>ABINGTON</td>\n",
       "      <td>SUSQUEHANNA RD &amp; HUNTINGDON RD</td>\n",
       "      <td>1</td>\n",
       "    </tr>\n",
       "    <tr>\n",
       "      <td>2015-12-14 08:02:46</td>\n",
       "      <td>40.294817</td>\n",
       "      <td>-75.537972</td>\n",
       "      <td>BIG RD &amp; COLONIAL RD;  UPPER FREDERICK; Statio...</td>\n",
       "      <td>18074.0</td>\n",
       "      <td>EMS: RESPIRATORY EMERGENCY</td>\n",
       "      <td>UPPER FREDERICK</td>\n",
       "      <td>BIG RD &amp; COLONIAL RD</td>\n",
       "      <td>1</td>\n",
       "    </tr>\n",
       "    <tr>\n",
       "      <td>...</td>\n",
       "      <td>...</td>\n",
       "      <td>...</td>\n",
       "      <td>...</td>\n",
       "      <td>...</td>\n",
       "      <td>...</td>\n",
       "      <td>...</td>\n",
       "      <td>...</td>\n",
       "      <td>...</td>\n",
       "    </tr>\n",
       "    <tr>\n",
       "      <td>2018-11-16 08:01:18</td>\n",
       "      <td>40.380820</td>\n",
       "      <td>-75.577332</td>\n",
       "      <td>NIANTIC RD &amp; MILLER RD;  DOUGLASS; Station 7A5...</td>\n",
       "      <td>19504.0</td>\n",
       "      <td>EMS: FALL VICTIM</td>\n",
       "      <td>DOUGLASS</td>\n",
       "      <td>NIANTIC RD &amp; MILLER RD</td>\n",
       "      <td>1</td>\n",
       "    </tr>\n",
       "    <tr>\n",
       "      <td>2018-11-16 08:02:05</td>\n",
       "      <td>40.143183</td>\n",
       "      <td>-75.119150</td>\n",
       "      <td>PARK AVE &amp; MORELAND RD; UPPER MORELAND; 2018-1...</td>\n",
       "      <td>19090.0</td>\n",
       "      <td>Fire: FIRE INVESTIGATION</td>\n",
       "      <td>UPPER MORELAND</td>\n",
       "      <td>PARK AVE &amp; MORELAND RD</td>\n",
       "      <td>1</td>\n",
       "    </tr>\n",
       "    <tr>\n",
       "      <td>2018-11-16 08:01:18</td>\n",
       "      <td>40.229906</td>\n",
       "      <td>-75.484790</td>\n",
       "      <td>RT422 EB &amp; RAMP RT422 EB TO TOWNSHIP LINE RD; ...</td>\n",
       "      <td>NaN</td>\n",
       "      <td>Traffic: DISABLED VEHICLE -</td>\n",
       "      <td>LIMERICK</td>\n",
       "      <td>RT422 EB &amp; RAMP RT422 EB TO TOWNSHIP LINE RD</td>\n",
       "      <td>1</td>\n",
       "    </tr>\n",
       "    <tr>\n",
       "      <td>2018-11-16 08:04:17</td>\n",
       "      <td>40.229906</td>\n",
       "      <td>-75.484790</td>\n",
       "      <td>RT422 EB &amp; RAMP RT422 EB TO TOWNSHIP LINE RD; ...</td>\n",
       "      <td>NaN</td>\n",
       "      <td>Traffic: DISABLED VEHICLE -</td>\n",
       "      <td>LIMERICK</td>\n",
       "      <td>RT422 EB &amp; RAMP RT422 EB TO TOWNSHIP LINE RD</td>\n",
       "      <td>1</td>\n",
       "    </tr>\n",
       "    <tr>\n",
       "      <td>2018-11-16 08:03:27</td>\n",
       "      <td>40.141119</td>\n",
       "      <td>-75.242182</td>\n",
       "      <td>W BUTLER PIKE &amp; WHITPAIN DR; WHITPAIN; 2018-11...</td>\n",
       "      <td>19002.0</td>\n",
       "      <td>Traffic: VEHICLE ACCIDENT -</td>\n",
       "      <td>WHITPAIN</td>\n",
       "      <td>W BUTLER PIKE &amp; WHITPAIN DR</td>\n",
       "      <td>1</td>\n",
       "    </tr>\n",
       "  </tbody>\n",
       "</table>\n",
       "<p>1705 rows × 8 columns</p>\n",
       "</div>"
      ],
      "text/plain": [
       "                           lat        lng  \\\n",
       "timeStamp                                   \n",
       "2015-12-11 08:01:43  40.156448 -75.122080   \n",
       "2015-12-11 08:04:24  40.121176 -75.133361   \n",
       "2015-12-11 08:04:24  40.119833 -75.125349   \n",
       "2015-12-13 08:03:40  40.113061 -75.119229   \n",
       "2015-12-14 08:02:46  40.294817 -75.537972   \n",
       "...                        ...        ...   \n",
       "2018-11-16 08:01:18  40.380820 -75.577332   \n",
       "2018-11-16 08:02:05  40.143183 -75.119150   \n",
       "2018-11-16 08:01:18  40.229906 -75.484790   \n",
       "2018-11-16 08:04:17  40.229906 -75.484790   \n",
       "2018-11-16 08:03:27  40.141119 -75.242182   \n",
       "\n",
       "                                                                  desc  \\\n",
       "timeStamp                                                                \n",
       "2015-12-11 08:01:43  EASTON RD & ANDREA DR;  UPPER MORELAND; Statio...   \n",
       "2015-12-11 08:04:24  SUSQUEHANNA RD & EASTON RD; ABINGTON; 2015-12-...   \n",
       "2015-12-11 08:04:24  SUSQUEHANNA RD & TYSON AVE OVERPASS; ABINGTON;...   \n",
       "2015-12-13 08:03:40  SUSQUEHANNA RD & HUNTINGDON RD;  ABINGTON; Sta...   \n",
       "2015-12-14 08:02:46  BIG RD & COLONIAL RD;  UPPER FREDERICK; Statio...   \n",
       "...                                                                ...   \n",
       "2018-11-16 08:01:18  NIANTIC RD & MILLER RD;  DOUGLASS; Station 7A5...   \n",
       "2018-11-16 08:02:05  PARK AVE & MORELAND RD; UPPER MORELAND; 2018-1...   \n",
       "2018-11-16 08:01:18  RT422 EB & RAMP RT422 EB TO TOWNSHIP LINE RD; ...   \n",
       "2018-11-16 08:04:17  RT422 EB & RAMP RT422 EB TO TOWNSHIP LINE RD; ...   \n",
       "2018-11-16 08:03:27  W BUTLER PIKE & WHITPAIN DR; WHITPAIN; 2018-11...   \n",
       "\n",
       "                         zip                        title              twp  \\\n",
       "timeStamp                                                                    \n",
       "2015-12-11 08:01:43  19090.0    EMS: UNRESPONSIVE SUBJECT   UPPER MORELAND   \n",
       "2015-12-11 08:04:24  19001.0  Traffic: VEHICLE ACCIDENT -         ABINGTON   \n",
       "2015-12-11 08:04:24      NaN  Traffic: VEHICLE ACCIDENT -         ABINGTON   \n",
       "2015-12-13 08:03:40  19046.0             EMS: HEAD INJURY         ABINGTON   \n",
       "2015-12-14 08:02:46  18074.0   EMS: RESPIRATORY EMERGENCY  UPPER FREDERICK   \n",
       "...                      ...                          ...              ...   \n",
       "2018-11-16 08:01:18  19504.0             EMS: FALL VICTIM         DOUGLASS   \n",
       "2018-11-16 08:02:05  19090.0     Fire: FIRE INVESTIGATION   UPPER MORELAND   \n",
       "2018-11-16 08:01:18      NaN  Traffic: DISABLED VEHICLE -         LIMERICK   \n",
       "2018-11-16 08:04:17      NaN  Traffic: DISABLED VEHICLE -         LIMERICK   \n",
       "2018-11-16 08:03:27  19002.0  Traffic: VEHICLE ACCIDENT -         WHITPAIN   \n",
       "\n",
       "                                                             addr  e  \n",
       "timeStamp                                                             \n",
       "2015-12-11 08:01:43                         EASTON RD & ANDREA DR  1  \n",
       "2015-12-11 08:04:24                    SUSQUEHANNA RD & EASTON RD  1  \n",
       "2015-12-11 08:04:24           SUSQUEHANNA RD & TYSON AVE OVERPASS  1  \n",
       "2015-12-13 08:03:40                SUSQUEHANNA RD & HUNTINGDON RD  1  \n",
       "2015-12-14 08:02:46                          BIG RD & COLONIAL RD  1  \n",
       "...                                                           ... ..  \n",
       "2018-11-16 08:01:18                        NIANTIC RD & MILLER RD  1  \n",
       "2018-11-16 08:02:05                        PARK AVE & MORELAND RD  1  \n",
       "2018-11-16 08:01:18  RT422 EB & RAMP RT422 EB TO TOWNSHIP LINE RD  1  \n",
       "2018-11-16 08:04:17  RT422 EB & RAMP RT422 EB TO TOWNSHIP LINE RD  1  \n",
       "2018-11-16 08:03:27                   W BUTLER PIKE & WHITPAIN DR  1  \n",
       "\n",
       "[1705 rows x 8 columns]"
      ]
     },
     "execution_count": 60,
     "metadata": {},
     "output_type": "execute_result"
    }
   ],
   "source": [
    "emergency.between_time('8:00', '8:05')"
   ]
  },
  {
   "cell_type": "markdown",
   "metadata": {},
   "source": [
    "- **Seleccionar las fechas del último mes:**"
   ]
  },
  {
   "cell_type": "code",
   "execution_count": 61,
   "metadata": {},
   "outputs": [
    {
     "data": {
      "text/html": [
       "<div>\n",
       "<style scoped>\n",
       "    .dataframe tbody tr th:only-of-type {\n",
       "        vertical-align: middle;\n",
       "    }\n",
       "\n",
       "    .dataframe tbody tr th {\n",
       "        vertical-align: top;\n",
       "    }\n",
       "\n",
       "    .dataframe thead th {\n",
       "        text-align: right;\n",
       "    }\n",
       "</style>\n",
       "<table border=\"1\" class=\"dataframe\">\n",
       "  <thead>\n",
       "    <tr style=\"text-align: right;\">\n",
       "      <th></th>\n",
       "      <th>lat</th>\n",
       "      <th>lng</th>\n",
       "      <th>desc</th>\n",
       "      <th>zip</th>\n",
       "      <th>title</th>\n",
       "      <th>twp</th>\n",
       "      <th>addr</th>\n",
       "      <th>e</th>\n",
       "    </tr>\n",
       "    <tr>\n",
       "      <th>timeStamp</th>\n",
       "      <th></th>\n",
       "      <th></th>\n",
       "      <th></th>\n",
       "      <th></th>\n",
       "      <th></th>\n",
       "      <th></th>\n",
       "      <th></th>\n",
       "      <th></th>\n",
       "    </tr>\n",
       "  </thead>\n",
       "  <tbody>\n",
       "    <tr>\n",
       "      <td>2018-10-31 08:49:29</td>\n",
       "      <td>40.173685</td>\n",
       "      <td>-75.184829</td>\n",
       "      <td>SUMTER PL &amp; MANCHESTER DR;  UPPER DUBLIN; Stat...</td>\n",
       "      <td>19002.0</td>\n",
       "      <td>EMS: SUBJECT IN PAIN</td>\n",
       "      <td>UPPER DUBLIN</td>\n",
       "      <td>SUMTER PL &amp; MANCHESTER DR</td>\n",
       "      <td>1</td>\n",
       "    </tr>\n",
       "    <tr>\n",
       "      <td>2018-10-31 08:52:06</td>\n",
       "      <td>40.187678</td>\n",
       "      <td>-75.454049</td>\n",
       "      <td>4TH AVE &amp; WALNUT ST; COLLEGEVILLE; 2018-10-31 ...</td>\n",
       "      <td>19426.0</td>\n",
       "      <td>Fire: FIRE ALARM</td>\n",
       "      <td>COLLEGEVILLE</td>\n",
       "      <td>4TH AVE &amp; WALNUT ST</td>\n",
       "      <td>1</td>\n",
       "    </tr>\n",
       "    <tr>\n",
       "      <td>2018-10-31 08:51:27</td>\n",
       "      <td>40.156964</td>\n",
       "      <td>-75.143117</td>\n",
       "      <td>WELSH RD &amp; BLAIR MILL RD; HORSHAM; 2018-10-31 ...</td>\n",
       "      <td>19044.0</td>\n",
       "      <td>Fire: FIRE ALARM</td>\n",
       "      <td>HORSHAM</td>\n",
       "      <td>WELSH RD &amp; BLAIR MILL RD</td>\n",
       "      <td>1</td>\n",
       "    </tr>\n",
       "    <tr>\n",
       "      <td>2018-10-31 08:58:54</td>\n",
       "      <td>40.085338</td>\n",
       "      <td>-75.396135</td>\n",
       "      <td>GULPH RD &amp; MALL BLVD; UPPER MERION; 2018-10-31...</td>\n",
       "      <td>19406.0</td>\n",
       "      <td>Traffic: DISABLED VEHICLE -</td>\n",
       "      <td>UPPER MERION</td>\n",
       "      <td>GULPH RD &amp; MALL BLVD</td>\n",
       "      <td>1</td>\n",
       "    </tr>\n",
       "    <tr>\n",
       "      <td>2018-10-31 09:05:23</td>\n",
       "      <td>40.221227</td>\n",
       "      <td>-75.288737</td>\n",
       "      <td>SUMNEYTOWN PIKE &amp; RR OVERPASS;  UPPER GWYNEDD;...</td>\n",
       "      <td>NaN</td>\n",
       "      <td>EMS: CARDIAC EMERGENCY</td>\n",
       "      <td>UPPER GWYNEDD</td>\n",
       "      <td>SUMNEYTOWN PIKE &amp; RR OVERPASS</td>\n",
       "      <td>1</td>\n",
       "    </tr>\n",
       "    <tr>\n",
       "      <td>...</td>\n",
       "      <td>...</td>\n",
       "      <td>...</td>\n",
       "      <td>...</td>\n",
       "      <td>...</td>\n",
       "      <td>...</td>\n",
       "      <td>...</td>\n",
       "      <td>...</td>\n",
       "      <td>...</td>\n",
       "    </tr>\n",
       "    <tr>\n",
       "      <td>2018-11-16 08:54:08</td>\n",
       "      <td>40.139993</td>\n",
       "      <td>-75.049864</td>\n",
       "      <td>BUCK RD &amp; WOODWARD DR; LOWER MORELAND; 2018-11...</td>\n",
       "      <td>19006.0</td>\n",
       "      <td>Traffic: VEHICLE ACCIDENT -</td>\n",
       "      <td>LOWER MORELAND</td>\n",
       "      <td>BUCK RD &amp; WOODWARD DR</td>\n",
       "      <td>1</td>\n",
       "    </tr>\n",
       "    <tr>\n",
       "      <td>2018-11-16 08:53:32</td>\n",
       "      <td>40.270121</td>\n",
       "      <td>-75.382825</td>\n",
       "      <td>OAK DR &amp; MOYER RD; LOWER SALFORD; 2018-11-16 @...</td>\n",
       "      <td>19438.0</td>\n",
       "      <td>Traffic: VEHICLE ACCIDENT -</td>\n",
       "      <td>LOWER SALFORD</td>\n",
       "      <td>OAK DR &amp; MOYER RD</td>\n",
       "      <td>1</td>\n",
       "    </tr>\n",
       "    <tr>\n",
       "      <td>2018-11-16 08:54:19</td>\n",
       "      <td>40.270121</td>\n",
       "      <td>-75.382825</td>\n",
       "      <td>OAK DR &amp; MOYER RD; LOWER SALFORD; 2018-11-16 @...</td>\n",
       "      <td>19438.0</td>\n",
       "      <td>Traffic: VEHICLE ACCIDENT -</td>\n",
       "      <td>LOWER SALFORD</td>\n",
       "      <td>OAK DR &amp; MOYER RD</td>\n",
       "      <td>1</td>\n",
       "    </tr>\n",
       "    <tr>\n",
       "      <td>2018-11-16 08:51:48</td>\n",
       "      <td>40.190946</td>\n",
       "      <td>-75.237285</td>\n",
       "      <td>SUMNEYTOWN PIKE &amp; WELLINGTON DR; LOWER GWYNEDD...</td>\n",
       "      <td>19002.0</td>\n",
       "      <td>Traffic: VEHICLE ACCIDENT -</td>\n",
       "      <td>LOWER GWYNEDD</td>\n",
       "      <td>SUMNEYTOWN PIKE &amp; WELLINGTON DR</td>\n",
       "      <td>1</td>\n",
       "    </tr>\n",
       "    <tr>\n",
       "      <td>2018-11-16 08:46:25</td>\n",
       "      <td>40.155164</td>\n",
       "      <td>-75.264665</td>\n",
       "      <td>HOFFMAN  ; LOWER GWYNEDD; 2018-11-16 @ 08:46:25;</td>\n",
       "      <td>19422.0</td>\n",
       "      <td>Traffic: DISABLED VEHICLE -</td>\n",
       "      <td>LOWER GWYNEDD</td>\n",
       "      <td>HOFFMAN</td>\n",
       "      <td>1</td>\n",
       "    </tr>\n",
       "  </tbody>\n",
       "</table>\n",
       "<p>8386 rows × 8 columns</p>\n",
       "</div>"
      ],
      "text/plain": [
       "                           lat        lng  \\\n",
       "timeStamp                                   \n",
       "2018-10-31 08:49:29  40.173685 -75.184829   \n",
       "2018-10-31 08:52:06  40.187678 -75.454049   \n",
       "2018-10-31 08:51:27  40.156964 -75.143117   \n",
       "2018-10-31 08:58:54  40.085338 -75.396135   \n",
       "2018-10-31 09:05:23  40.221227 -75.288737   \n",
       "...                        ...        ...   \n",
       "2018-11-16 08:54:08  40.139993 -75.049864   \n",
       "2018-11-16 08:53:32  40.270121 -75.382825   \n",
       "2018-11-16 08:54:19  40.270121 -75.382825   \n",
       "2018-11-16 08:51:48  40.190946 -75.237285   \n",
       "2018-11-16 08:46:25  40.155164 -75.264665   \n",
       "\n",
       "                                                                  desc  \\\n",
       "timeStamp                                                                \n",
       "2018-10-31 08:49:29  SUMTER PL & MANCHESTER DR;  UPPER DUBLIN; Stat...   \n",
       "2018-10-31 08:52:06  4TH AVE & WALNUT ST; COLLEGEVILLE; 2018-10-31 ...   \n",
       "2018-10-31 08:51:27  WELSH RD & BLAIR MILL RD; HORSHAM; 2018-10-31 ...   \n",
       "2018-10-31 08:58:54  GULPH RD & MALL BLVD; UPPER MERION; 2018-10-31...   \n",
       "2018-10-31 09:05:23  SUMNEYTOWN PIKE & RR OVERPASS;  UPPER GWYNEDD;...   \n",
       "...                                                                ...   \n",
       "2018-11-16 08:54:08  BUCK RD & WOODWARD DR; LOWER MORELAND; 2018-11...   \n",
       "2018-11-16 08:53:32  OAK DR & MOYER RD; LOWER SALFORD; 2018-11-16 @...   \n",
       "2018-11-16 08:54:19  OAK DR & MOYER RD; LOWER SALFORD; 2018-11-16 @...   \n",
       "2018-11-16 08:51:48  SUMNEYTOWN PIKE & WELLINGTON DR; LOWER GWYNEDD...   \n",
       "2018-11-16 08:46:25   HOFFMAN  ; LOWER GWYNEDD; 2018-11-16 @ 08:46:25;   \n",
       "\n",
       "                         zip                        title             twp  \\\n",
       "timeStamp                                                                   \n",
       "2018-10-31 08:49:29  19002.0         EMS: SUBJECT IN PAIN    UPPER DUBLIN   \n",
       "2018-10-31 08:52:06  19426.0             Fire: FIRE ALARM    COLLEGEVILLE   \n",
       "2018-10-31 08:51:27  19044.0             Fire: FIRE ALARM         HORSHAM   \n",
       "2018-10-31 08:58:54  19406.0  Traffic: DISABLED VEHICLE -    UPPER MERION   \n",
       "2018-10-31 09:05:23      NaN       EMS: CARDIAC EMERGENCY   UPPER GWYNEDD   \n",
       "...                      ...                          ...             ...   \n",
       "2018-11-16 08:54:08  19006.0  Traffic: VEHICLE ACCIDENT -  LOWER MORELAND   \n",
       "2018-11-16 08:53:32  19438.0  Traffic: VEHICLE ACCIDENT -   LOWER SALFORD   \n",
       "2018-11-16 08:54:19  19438.0  Traffic: VEHICLE ACCIDENT -   LOWER SALFORD   \n",
       "2018-11-16 08:51:48  19002.0  Traffic: VEHICLE ACCIDENT -   LOWER GWYNEDD   \n",
       "2018-11-16 08:46:25  19422.0  Traffic: DISABLED VEHICLE -   LOWER GWYNEDD   \n",
       "\n",
       "                                                addr  e  \n",
       "timeStamp                                                \n",
       "2018-10-31 08:49:29        SUMTER PL & MANCHESTER DR  1  \n",
       "2018-10-31 08:52:06              4TH AVE & WALNUT ST  1  \n",
       "2018-10-31 08:51:27         WELSH RD & BLAIR MILL RD  1  \n",
       "2018-10-31 08:58:54             GULPH RD & MALL BLVD  1  \n",
       "2018-10-31 09:05:23    SUMNEYTOWN PIKE & RR OVERPASS  1  \n",
       "...                                              ... ..  \n",
       "2018-11-16 08:54:08            BUCK RD & WOODWARD DR  1  \n",
       "2018-11-16 08:53:32                OAK DR & MOYER RD  1  \n",
       "2018-11-16 08:54:19                OAK DR & MOYER RD  1  \n",
       "2018-11-16 08:51:48  SUMNEYTOWN PIKE & WELLINGTON DR  1  \n",
       "2018-11-16 08:46:25                          HOFFMAN  1  \n",
       "\n",
       "[8386 rows x 8 columns]"
      ]
     },
     "execution_count": 61,
     "metadata": {},
     "output_type": "execute_result"
    }
   ],
   "source": [
    "emergency.last('1M') "
   ]
  },
  {
   "cell_type": "markdown",
   "metadata": {},
   "source": [
    "- **Para graficar una serie de tiempo:**\n",
    "\n",
    "Por ejemplo, para poder graficar esta serie, la fecha debe estar indexada, así esta aparecerá en el eje horizontal"
   ]
  },
  {
   "cell_type": "code",
   "execution_count": 62,
   "metadata": {},
   "outputs": [
    {
     "data": {
      "text/plain": [
       "<matplotlib.axes._subplots.AxesSubplot at 0x215887e7048>"
      ]
     },
     "execution_count": 62,
     "metadata": {},
     "output_type": "execute_result"
    }
   ],
   "source": [
    "import matplotlib as plt\n",
    "emergency['lat'].sort_values().plot(title='Latitudes', figsize=(20,4), )"
   ]
  },
  {
   "cell_type": "markdown",
   "metadata": {},
   "source": [
    "### `resample`:\n",
    "\n",
    "Para muestrear los datos de series de tiempo, siguiendo alguna frecuencia especifica, permitiendo obtener algunas de las operaciones que enseguida se detallan.\n",
    "\n",
    "Incluye las operaciones sum, mean, std, sem, max, min, median, first, last, ohlc\n",
    "\n",
    "Frecuencias a utilizar:\n",
    "- D: Día (continuo)\n",
    "- B: Día hábil\n",
    "- W: semanal \n",
    "- M: mensual \n",
    "- SM: bimensual (día 15 y último del mes)\n",
    "- Q: trimestral\n",
    "\n",
    "https://pandas.pydata.org/pandas-docs/stable/reference/api/pandas.DataFrame.resample.html\n",
    "\n",
    "https://pandas.pydata.org/pandas-docs/stable/user_guide/timeseries.html#resampling\n",
    "\n",
    "**Calculo de la latitud más alta de cada semestre:**"
   ]
  },
  {
   "cell_type": "code",
   "execution_count": 63,
   "metadata": {},
   "outputs": [
    {
     "data": {
      "text/plain": [
       "timeStamp\n",
       "2015-12-31    40.479853\n",
       "2016-06-30    41.167156\n",
       "2016-12-31    40.464122\n",
       "2017-06-30    40.479853\n",
       "2017-12-31    41.167156\n",
       "2018-06-30    40.969431\n",
       "2018-12-31    51.335390\n",
       "Freq: 6M, Name: lat, dtype: float64"
      ]
     },
     "execution_count": 63,
     "metadata": {},
     "output_type": "execute_result"
    }
   ],
   "source": [
    "emergency['lat'].resample('6M').max()  "
   ]
  },
  {
   "cell_type": "markdown",
   "metadata": {},
   "source": [
    "### Usando un dataframe más amplio: \"Fire_Department_Calls_for_Service\"\n",
    "\n",
    "Descargar dataset desde el siguiente link:\n",
    "\n",
    "Referencia: https://data.sfgov.org/Public-Safety/Fire-Department-Calls-for-Service/nuek-vuh3"
   ]
  },
  {
   "cell_type": "code",
   "execution_count": 64,
   "metadata": {},
   "outputs": [],
   "source": [
    "# Especificando los tipos de datos de cada columna para hacer la lectura del dataframe más rapida\n",
    "dataframe = pd.read_csv('Data/Fire_Department_Calls_for_Service.csv', \n",
    "                             dtype={'Call Number': object, 'Station Area': object, 'Box': object, \n",
    "                                    'ALS Unit': object, 'Call Type Group': object\n",
    "})"
   ]
  },
  {
   "cell_type": "markdown",
   "metadata": {},
   "source": [
    "https://stackoverflow.com/questions/24251219/pandas-read-csv-low-memory-and-dtype-options\n",
    "C:\\ProgramData\\Anaconda3\\lib\\site-packages\\IPython\\core\\interactiveshell.py:3058: DtypeWarning: Columns (0,19,20,24,25) have mixed types. Specify dtype option on import or set low_memory=False.\n",
    "  interactivity=interactivity, compiler=compiler, result=result)"
   ]
  },
  {
   "cell_type": "code",
   "execution_count": 65,
   "metadata": {},
   "outputs": [
    {
     "data": {
      "text/html": [
       "<div>\n",
       "<style scoped>\n",
       "    .dataframe tbody tr th:only-of-type {\n",
       "        vertical-align: middle;\n",
       "    }\n",
       "\n",
       "    .dataframe tbody tr th {\n",
       "        vertical-align: top;\n",
       "    }\n",
       "\n",
       "    .dataframe thead th {\n",
       "        text-align: right;\n",
       "    }\n",
       "</style>\n",
       "<table border=\"1\" class=\"dataframe\">\n",
       "  <thead>\n",
       "    <tr style=\"text-align: right;\">\n",
       "      <th></th>\n",
       "      <th>Call Number</th>\n",
       "      <th>Unit ID</th>\n",
       "      <th>Incident Number</th>\n",
       "      <th>Call Type</th>\n",
       "      <th>Call Date</th>\n",
       "      <th>Watch Date</th>\n",
       "      <th>Received DtTm</th>\n",
       "      <th>Entry DtTm</th>\n",
       "      <th>Dispatch DtTm</th>\n",
       "      <th>Response DtTm</th>\n",
       "      <th>On Scene DtTm</th>\n",
       "      <th>Transport DtTm</th>\n",
       "      <th>Hospital DtTm</th>\n",
       "      <th>Call Final Disposition</th>\n",
       "      <th>Available DtTm</th>\n",
       "      <th>Address</th>\n",
       "      <th>City</th>\n",
       "      <th>Zipcode of Incident</th>\n",
       "      <th>Battalion</th>\n",
       "      <th>Station Area</th>\n",
       "      <th>Box</th>\n",
       "      <th>Original Priority</th>\n",
       "      <th>Priority</th>\n",
       "      <th>Final Priority</th>\n",
       "      <th>ALS Unit</th>\n",
       "      <th>Call Type Group</th>\n",
       "      <th>Number of Alarms</th>\n",
       "      <th>Unit Type</th>\n",
       "      <th>Unit sequence in call dispatch</th>\n",
       "      <th>Fire Prevention District</th>\n",
       "      <th>Supervisor District</th>\n",
       "      <th>Neighborhooods - Analysis Boundaries</th>\n",
       "      <th>Location</th>\n",
       "      <th>RowID</th>\n",
       "    </tr>\n",
       "  </thead>\n",
       "  <tbody>\n",
       "    <tr>\n",
       "      <td>0</td>\n",
       "      <td>192910017</td>\n",
       "      <td>E11</td>\n",
       "      <td>19125164.0</td>\n",
       "      <td>Alarms</td>\n",
       "      <td>10/18/2019</td>\n",
       "      <td>10/17/2019</td>\n",
       "      <td>10/18/2019 12:03:52 AM</td>\n",
       "      <td>10/18/2019 12:06:59 AM</td>\n",
       "      <td>10/18/2019 12:07:05 AM</td>\n",
       "      <td>10/18/2019 12:08:28 AM</td>\n",
       "      <td>10/18/2019 12:11:10 AM</td>\n",
       "      <td>NaN</td>\n",
       "      <td>NaN</td>\n",
       "      <td>Fire</td>\n",
       "      <td>10/18/2019 12:33:57 AM</td>\n",
       "      <td>24TH ST/VALENCIA ST</td>\n",
       "      <td>San Francisco</td>\n",
       "      <td>94110.0</td>\n",
       "      <td>B06</td>\n",
       "      <td>11</td>\n",
       "      <td>5525</td>\n",
       "      <td>3</td>\n",
       "      <td>3</td>\n",
       "      <td>3.0</td>\n",
       "      <td>true</td>\n",
       "      <td>Alarm</td>\n",
       "      <td>1.0</td>\n",
       "      <td>ENGINE</td>\n",
       "      <td>1.0</td>\n",
       "      <td>6</td>\n",
       "      <td>9</td>\n",
       "      <td>Mission</td>\n",
       "      <td>(37.75210364574824, -122.42066480228367)</td>\n",
       "      <td>192910017-E11</td>\n",
       "    </tr>\n",
       "    <tr>\n",
       "      <td>1</td>\n",
       "      <td>192910018</td>\n",
       "      <td>B10</td>\n",
       "      <td>19125165.0</td>\n",
       "      <td>Alarms</td>\n",
       "      <td>10/18/2019</td>\n",
       "      <td>10/17/2019</td>\n",
       "      <td>10/18/2019 12:05:56 AM</td>\n",
       "      <td>10/18/2019 12:07:27 AM</td>\n",
       "      <td>10/18/2019 12:09:49 AM</td>\n",
       "      <td>NaN</td>\n",
       "      <td>NaN</td>\n",
       "      <td>NaN</td>\n",
       "      <td>NaN</td>\n",
       "      <td>Other</td>\n",
       "      <td>10/18/2019 12:10:14 AM</td>\n",
       "      <td>3300 Block of 23RD ST</td>\n",
       "      <td>San Francisco</td>\n",
       "      <td>94110.0</td>\n",
       "      <td>B06</td>\n",
       "      <td>11</td>\n",
       "      <td>0552</td>\n",
       "      <td>3</td>\n",
       "      <td>3</td>\n",
       "      <td>3.0</td>\n",
       "      <td>false</td>\n",
       "      <td>Alarm</td>\n",
       "      <td>1.0</td>\n",
       "      <td>CHIEF</td>\n",
       "      <td>1.0</td>\n",
       "      <td>6</td>\n",
       "      <td>9</td>\n",
       "      <td>Mission</td>\n",
       "      <td>(37.75368162954947, -122.4202535645237)</td>\n",
       "      <td>192910018-B10</td>\n",
       "    </tr>\n",
       "  </tbody>\n",
       "</table>\n",
       "</div>"
      ],
      "text/plain": [
       "  Call Number Unit ID  Incident Number Call Type   Call Date  Watch Date  \\\n",
       "0   192910017     E11       19125164.0    Alarms  10/18/2019  10/17/2019   \n",
       "1   192910018     B10       19125165.0    Alarms  10/18/2019  10/17/2019   \n",
       "\n",
       "            Received DtTm              Entry DtTm           Dispatch DtTm  \\\n",
       "0  10/18/2019 12:03:52 AM  10/18/2019 12:06:59 AM  10/18/2019 12:07:05 AM   \n",
       "1  10/18/2019 12:05:56 AM  10/18/2019 12:07:27 AM  10/18/2019 12:09:49 AM   \n",
       "\n",
       "            Response DtTm           On Scene DtTm Transport DtTm  \\\n",
       "0  10/18/2019 12:08:28 AM  10/18/2019 12:11:10 AM            NaN   \n",
       "1                     NaN                     NaN            NaN   \n",
       "\n",
       "  Hospital DtTm Call Final Disposition          Available DtTm  \\\n",
       "0           NaN                   Fire  10/18/2019 12:33:57 AM   \n",
       "1           NaN                  Other  10/18/2019 12:10:14 AM   \n",
       "\n",
       "                 Address           City  Zipcode of Incident Battalion  \\\n",
       "0    24TH ST/VALENCIA ST  San Francisco              94110.0       B06   \n",
       "1  3300 Block of 23RD ST  San Francisco              94110.0       B06   \n",
       "\n",
       "  Station Area   Box Original Priority Priority  Final Priority ALS Unit  \\\n",
       "0           11  5525                 3        3             3.0     true   \n",
       "1           11  0552                 3        3             3.0    false   \n",
       "\n",
       "  Call Type Group  Number of Alarms Unit Type  Unit sequence in call dispatch  \\\n",
       "0           Alarm               1.0    ENGINE                             1.0   \n",
       "1           Alarm               1.0     CHIEF                             1.0   \n",
       "\n",
       "  Fire Prevention District Supervisor District  \\\n",
       "0                        6                   9   \n",
       "1                        6                   9   \n",
       "\n",
       "  Neighborhooods - Analysis Boundaries  \\\n",
       "0                              Mission   \n",
       "1                              Mission   \n",
       "\n",
       "                                   Location          RowID  \n",
       "0  (37.75210364574824, -122.42066480228367)  192910017-E11  \n",
       "1   (37.75368162954947, -122.4202535645237)  192910018-B10  "
      ]
     },
     "execution_count": 65,
     "metadata": {},
     "output_type": "execute_result"
    }
   ],
   "source": [
    "data_fire_dept = dataframe.copy()\n",
    "data_fire_dept.head(2)"
   ]
  },
  {
   "cell_type": "code",
   "execution_count": 66,
   "metadata": {},
   "outputs": [
    {
     "name": "stdout",
     "output_type": "stream",
     "text": [
      "Shape: (4071035, 34) \n",
      "\n",
      "Colummas: ['Call Number', 'Unit ID', 'Incident Number', 'Call Type', 'Call Date', 'Watch Date', 'Received DtTm', 'Entry DtTm', 'Dispatch DtTm', 'Response DtTm', 'On Scene DtTm', 'Transport DtTm', 'Hospital DtTm', 'Call Final Disposition', 'Available DtTm', 'Address', 'City', 'Zipcode of Incident', 'Battalion', 'Station Area', 'Box', 'Original Priority', 'Priority', 'Final Priority', 'ALS Unit', 'Call Type Group', 'Number of Alarms', 'Unit Type', 'Unit sequence in call dispatch', 'Fire Prevention District', 'Supervisor District', 'Neighborhooods - Analysis Boundaries', 'Location', 'RowID']\n"
     ]
    }
   ],
   "source": [
    "print('Shape:', data_fire_dept.shape, '\\n')\n",
    "print('Colummas:', list(data_fire_dept.columns))"
   ]
  },
  {
   "cell_type": "markdown",
   "metadata": {},
   "source": [
    "**Selección columnas con datos de fecha y fecha/hora y revisión del tipo de dato**"
   ]
  },
  {
   "cell_type": "code",
   "execution_count": 67,
   "metadata": {},
   "outputs": [],
   "source": [
    "# Selección de las columnas que contienen fecha y fecha/hora\n",
    "datetime_columns = ['Call Date', 'Watch Date', 'Received DtTm', 'Entry DtTm', 'Dispatch DtTm', 'Response DtTm', 'On Scene DtTm', 'Available DtTm']\n",
    "# Verificación del tipo de dato que contienen estas columnas\n"
   ]
  },
  {
   "cell_type": "markdown",
   "metadata": {},
   "source": [
    "**Conversión de las fechas y fecha/hora en \"datetime\"**"
   ]
  },
  {
   "cell_type": "code",
   "execution_count": 68,
   "metadata": {},
   "outputs": [
    {
     "name": "stdout",
     "output_type": "stream",
     "text": [
      "Wall time: 3.22 s\n"
     ]
    },
    {
     "data": {
      "text/html": [
       "<div>\n",
       "<style scoped>\n",
       "    .dataframe tbody tr th:only-of-type {\n",
       "        vertical-align: middle;\n",
       "    }\n",
       "\n",
       "    .dataframe tbody tr th {\n",
       "        vertical-align: top;\n",
       "    }\n",
       "\n",
       "    .dataframe thead th {\n",
       "        text-align: right;\n",
       "    }\n",
       "</style>\n",
       "<table border=\"1\" class=\"dataframe\">\n",
       "  <thead>\n",
       "    <tr style=\"text-align: right;\">\n",
       "      <th></th>\n",
       "      <th>Call Date</th>\n",
       "      <th>Watch Date</th>\n",
       "    </tr>\n",
       "  </thead>\n",
       "  <tbody>\n",
       "    <tr>\n",
       "      <td>0</td>\n",
       "      <td>2019-10-18</td>\n",
       "      <td>2019-10-17</td>\n",
       "    </tr>\n",
       "    <tr>\n",
       "      <td>1</td>\n",
       "      <td>2019-10-18</td>\n",
       "      <td>2019-10-17</td>\n",
       "    </tr>\n",
       "    <tr>\n",
       "      <td>2</td>\n",
       "      <td>2019-10-18</td>\n",
       "      <td>2019-10-17</td>\n",
       "    </tr>\n",
       "    <tr>\n",
       "      <td>3</td>\n",
       "      <td>2019-10-18</td>\n",
       "      <td>2019-10-17</td>\n",
       "    </tr>\n",
       "    <tr>\n",
       "      <td>4</td>\n",
       "      <td>2019-10-18</td>\n",
       "      <td>2019-10-17</td>\n",
       "    </tr>\n",
       "  </tbody>\n",
       "</table>\n",
       "</div>"
      ],
      "text/plain": [
       "   Call Date Watch Date\n",
       "0 2019-10-18 2019-10-17\n",
       "1 2019-10-18 2019-10-17\n",
       "2 2019-10-18 2019-10-17\n",
       "3 2019-10-18 2019-10-17\n",
       "4 2019-10-18 2019-10-17"
      ]
     },
     "execution_count": 68,
     "metadata": {},
     "output_type": "execute_result"
    }
   ],
   "source": [
    "%%time\n",
    "data_fire_dept['Call Date'] = pd.to_datetime(data_fire_dept['Call Date'])\n",
    "data_fire_dept['Watch Date'] = pd.to_datetime(data_fire_dept['Watch Date'])\n",
    "data_fire_dept[['Call Date', 'Watch Date']].head()"
   ]
  },
  {
   "cell_type": "markdown",
   "metadata": {},
   "source": [
    "#### Convertir las columnas de fecha/hora:\n",
    "**Nota:** al momento de realizar la conversión es conveniente especificar el formato de la estructura que tienen los datos"
   ]
  },
  {
   "cell_type": "code",
   "execution_count": 69,
   "metadata": {},
   "outputs": [
    {
     "name": "stdout",
     "output_type": "stream",
     "text": [
      "Wall time: 1min 9s\n"
     ]
    }
   ],
   "source": [
    "%%time\n",
    "data_fire_dept['Received DtTm'] = pd.to_datetime(data_fire_dept['Received DtTm'], format='%m/%d/%Y %H:%M:%S %p')\n",
    "data_fire_dept['Entry DtTm'] = pd.to_datetime(data_fire_dept['Entry DtTm'], format='%m/%d/%Y %H:%M:%S %p')\n",
    "data_fire_dept['Dispatch DtTm'] = pd.to_datetime(data_fire_dept['Dispatch DtTm'], format='%m/%d/%Y %H:%M:%S %p')\n",
    "data_fire_dept['Response DtTm'] = pd.to_datetime(data_fire_dept['Response DtTm'], format='%m/%d/%Y %H:%M:%S %p')\n",
    "data_fire_dept['On Scene DtTm'] = pd.to_datetime(data_fire_dept['On Scene DtTm'], format='%m/%d/%Y %H:%M:%S %p')\n",
    "data_fire_dept['Available DtTm'] = pd.to_datetime(data_fire_dept['Available DtTm'], format='%m/%d/%Y %H:%M:%S %p')"
   ]
  },
  {
   "cell_type": "code",
   "execution_count": 70,
   "metadata": {},
   "outputs": [
    {
     "data": {
      "text/plain": [
       "Call Date         datetime64[ns]\n",
       "Watch Date        datetime64[ns]\n",
       "Received DtTm     datetime64[ns]\n",
       "Entry DtTm        datetime64[ns]\n",
       "Dispatch DtTm     datetime64[ns]\n",
       "Response DtTm     datetime64[ns]\n",
       "On Scene DtTm     datetime64[ns]\n",
       "Available DtTm    datetime64[ns]\n",
       "dtype: object"
      ]
     },
     "execution_count": 70,
     "metadata": {},
     "output_type": "execute_result"
    }
   ],
   "source": [
    "data_fire_dept[datetime_columns].dtypes"
   ]
  },
  {
   "cell_type": "code",
   "execution_count": 71,
   "metadata": {},
   "outputs": [
    {
     "data": {
      "text/html": [
       "<div>\n",
       "<style scoped>\n",
       "    .dataframe tbody tr th:only-of-type {\n",
       "        vertical-align: middle;\n",
       "    }\n",
       "\n",
       "    .dataframe tbody tr th {\n",
       "        vertical-align: top;\n",
       "    }\n",
       "\n",
       "    .dataframe thead th {\n",
       "        text-align: right;\n",
       "    }\n",
       "</style>\n",
       "<table border=\"1\" class=\"dataframe\">\n",
       "  <thead>\n",
       "    <tr style=\"text-align: right;\">\n",
       "      <th></th>\n",
       "      <th>Call Date</th>\n",
       "      <th>Watch Date</th>\n",
       "      <th>Received DtTm</th>\n",
       "      <th>Entry DtTm</th>\n",
       "      <th>Dispatch DtTm</th>\n",
       "      <th>Response DtTm</th>\n",
       "      <th>On Scene DtTm</th>\n",
       "      <th>Available DtTm</th>\n",
       "    </tr>\n",
       "  </thead>\n",
       "  <tbody>\n",
       "    <tr>\n",
       "      <td>0</td>\n",
       "      <td>2019-10-18</td>\n",
       "      <td>2019-10-17</td>\n",
       "      <td>2019-10-18 12:03:52</td>\n",
       "      <td>2019-10-18 12:06:59</td>\n",
       "      <td>2019-10-18 12:07:05</td>\n",
       "      <td>2019-10-18 12:08:28</td>\n",
       "      <td>2019-10-18 12:11:10</td>\n",
       "      <td>2019-10-18 12:33:57</td>\n",
       "    </tr>\n",
       "    <tr>\n",
       "      <td>1</td>\n",
       "      <td>2019-10-18</td>\n",
       "      <td>2019-10-17</td>\n",
       "      <td>2019-10-18 12:05:56</td>\n",
       "      <td>2019-10-18 12:07:27</td>\n",
       "      <td>2019-10-18 12:09:49</td>\n",
       "      <td>NaT</td>\n",
       "      <td>NaT</td>\n",
       "      <td>2019-10-18 12:10:14</td>\n",
       "    </tr>\n",
       "    <tr>\n",
       "      <td>2</td>\n",
       "      <td>2019-10-18</td>\n",
       "      <td>2019-10-17</td>\n",
       "      <td>2019-10-18 12:05:56</td>\n",
       "      <td>2019-10-18 12:07:27</td>\n",
       "      <td>2019-10-18 12:09:49</td>\n",
       "      <td>NaT</td>\n",
       "      <td>NaT</td>\n",
       "      <td>2019-10-18 12:10:14</td>\n",
       "    </tr>\n",
       "    <tr>\n",
       "      <td>3</td>\n",
       "      <td>2019-10-18</td>\n",
       "      <td>2019-10-17</td>\n",
       "      <td>2019-10-18 12:09:02</td>\n",
       "      <td>2019-10-18 12:09:02</td>\n",
       "      <td>2019-10-18 12:09:02</td>\n",
       "      <td>2019-10-18 12:09:02</td>\n",
       "      <td>2019-10-18 12:09:02</td>\n",
       "      <td>2019-10-18 12:21:52</td>\n",
       "    </tr>\n",
       "    <tr>\n",
       "      <td>4</td>\n",
       "      <td>2019-10-18</td>\n",
       "      <td>2019-10-17</td>\n",
       "      <td>2019-10-18 12:12:39</td>\n",
       "      <td>2019-10-18 12:12:39</td>\n",
       "      <td>2019-10-18 12:12:48</td>\n",
       "      <td>2019-10-18 12:13:52</td>\n",
       "      <td>2019-10-18 12:16:16</td>\n",
       "      <td>2019-10-18 12:16:25</td>\n",
       "    </tr>\n",
       "  </tbody>\n",
       "</table>\n",
       "</div>"
      ],
      "text/plain": [
       "   Call Date Watch Date       Received DtTm          Entry DtTm  \\\n",
       "0 2019-10-18 2019-10-17 2019-10-18 12:03:52 2019-10-18 12:06:59   \n",
       "1 2019-10-18 2019-10-17 2019-10-18 12:05:56 2019-10-18 12:07:27   \n",
       "2 2019-10-18 2019-10-17 2019-10-18 12:05:56 2019-10-18 12:07:27   \n",
       "3 2019-10-18 2019-10-17 2019-10-18 12:09:02 2019-10-18 12:09:02   \n",
       "4 2019-10-18 2019-10-17 2019-10-18 12:12:39 2019-10-18 12:12:39   \n",
       "\n",
       "        Dispatch DtTm       Response DtTm       On Scene DtTm  \\\n",
       "0 2019-10-18 12:07:05 2019-10-18 12:08:28 2019-10-18 12:11:10   \n",
       "1 2019-10-18 12:09:49                 NaT                 NaT   \n",
       "2 2019-10-18 12:09:49                 NaT                 NaT   \n",
       "3 2019-10-18 12:09:02 2019-10-18 12:09:02 2019-10-18 12:09:02   \n",
       "4 2019-10-18 12:12:48 2019-10-18 12:13:52 2019-10-18 12:16:16   \n",
       "\n",
       "       Available DtTm  \n",
       "0 2019-10-18 12:33:57  \n",
       "1 2019-10-18 12:10:14  \n",
       "2 2019-10-18 12:10:14  \n",
       "3 2019-10-18 12:21:52  \n",
       "4 2019-10-18 12:16:25  "
      ]
     },
     "execution_count": 71,
     "metadata": {},
     "output_type": "execute_result"
    }
   ],
   "source": [
    "data_fire_dept[datetime_columns].head()"
   ]
  },
  {
   "cell_type": "markdown",
   "metadata": {},
   "source": [
    "## Uso de parser de dateutil\n",
    "- Biblioteca de terceros con zona horaria ampliada y soporte de análisis\n",
    "\n",
    "Para más detalle: https://dateutil.readthedocs.io/en/stable/\n",
    "\n",
    "`dateutil` de Labix extiende el módulo de fecha y hora con características adicionales.\n",
    "\n",
    "Se puede manejar la mayoría de los formatos de fecha, incluido el que necesita analizar. \n",
    "Es más conveniente que strptime, ya que puede adivinar el formato correcto la mayor parte del tiempo.\n",
    "Es muy útil para realizar pruebas, donde la legibilidad es más importante que el rendimiento."
   ]
  },
  {
   "cell_type": "code",
   "execution_count": 72,
   "metadata": {},
   "outputs": [
    {
     "data": {
      "text/plain": [
       "datetime.datetime(1999, 8, 28, 0, 0)"
      ]
     },
     "execution_count": 72,
     "metadata": {},
     "output_type": "execute_result"
    }
   ],
   "source": [
    "from dateutil import parser \n",
    "fecha_hora = parser.parse(\"Aug 28 1999 12:00AM\")  # recibe como entrada un string\n",
    "fecha_hora"
   ]
  },
  {
   "cell_type": "code",
   "execution_count": 73,
   "metadata": {},
   "outputs": [
    {
     "name": "stdout",
     "output_type": "stream",
     "text": [
      "1999-08-28 00:00:00\n"
     ]
    }
   ],
   "source": [
    "print(fecha_hora)"
   ]
  },
  {
   "cell_type": "markdown",
   "metadata": {},
   "source": [
    "## Módulo time (de la librería estándar de Python)\n",
    "Este módulo expone funciones relacionadas al tiempo de la librería C subyacente. Incluye funciones para recuperar el tiempo y el tiempo de ejecución del procesador, así como el análisis básico y herramientas de formateo de cadenas.\n",
    "\n",
    "Para ampliar: https://rico-schmidt.name/pymotw-3/time/index.html\n",
    "\n",
    "A continuación se muestran algunos usos:"
   ]
  },
  {
   "cell_type": "code",
   "execution_count": 74,
   "metadata": {},
   "outputs": [
    {
     "data": {
      "text/plain": [
       "946729800"
      ]
     },
     "execution_count": 74,
     "metadata": {},
     "output_type": "execute_result"
    }
   ],
   "source": [
    "import time\n",
    "calendar.timegm(time.strptime('2000-01-01 12:30:00', '%Y-%m-%d %H:%M:%S'))"
   ]
  },
  {
   "cell_type": "markdown",
   "metadata": {},
   "source": [
    "### `time`:\n",
    "Para obtener los segundos desde epoch, llamamos al método **time()**."
   ]
  },
  {
   "cell_type": "code",
   "execution_count": 75,
   "metadata": {},
   "outputs": [
    {
     "name": "stdout",
     "output_type": "stream",
     "text": [
      "Epoch: 1582913365.260479 segundos\n"
     ]
    }
   ],
   "source": [
    "print('Epoch:', time.time(), 'segundos')"
   ]
  },
  {
   "cell_type": "markdown",
   "metadata": {},
   "source": [
    "### `fromtimestamp`: Convertir el epoch a fecha"
   ]
  },
  {
   "cell_type": "code",
   "execution_count": 76,
   "metadata": {},
   "outputs": [
    {
     "data": {
      "text/plain": [
       "datetime.date(2020, 2, 28)"
      ]
     },
     "execution_count": 76,
     "metadata": {},
     "output_type": "execute_result"
    }
   ],
   "source": [
    "date.fromtimestamp(time.time())"
   ]
  },
  {
   "cell_type": "markdown",
   "metadata": {},
   "source": [
    "### `gmtime`:\n",
    "La función **gmtime()** devuelve la hora actual en UTC. "
   ]
  },
  {
   "cell_type": "code",
   "execution_count": 77,
   "metadata": {},
   "outputs": [
    {
     "data": {
      "text/plain": [
       "time.struct_time(tm_year=1970, tm_mon=1, tm_mday=1, tm_hour=0, tm_min=0, tm_sec=0, tm_wday=3, tm_yday=1, tm_isdst=0)"
      ]
     },
     "execution_count": 77,
     "metadata": {},
     "output_type": "execute_result"
    }
   ],
   "source": [
    "time.gmtime(0)"
   ]
  },
  {
   "cell_type": "code",
   "execution_count": 78,
   "metadata": {},
   "outputs": [
    {
     "name": "stdout",
     "output_type": "stream",
     "text": [
      "time.struct_time(tm_year=2020, tm_mon=2, tm_mday=28, tm_hour=18, tm_min=9, tm_sec=25, tm_wday=4, tm_yday=59, tm_isdst=0)\n",
      "Año: 2020\n",
      "Mes: 2\n",
      "Día: 28\n",
      "Hora: 18\n",
      "Minutos: 9\n",
      "Segundos: 25\n"
     ]
    }
   ],
   "source": [
    "print(time.gmtime())\n",
    "print('Año:', time.gmtime().tm_year)\n",
    "print('Mes:', time.gmtime().tm_mon)\n",
    "print('Día:', time.gmtime().tm_mday)\n",
    "print('Hora:', time.gmtime().tm_hour)\n",
    "print('Minutos:', time.gmtime().tm_min)\n",
    "print('Segundos:', time.gmtime().tm_sec)"
   ]
  },
  {
   "cell_type": "markdown",
   "metadata": {},
   "source": [
    "### `localtime`:\n",
    "La función **localtime()** devuelve la hora actual local (con zona horaria). "
   ]
  },
  {
   "cell_type": "code",
   "execution_count": 79,
   "metadata": {},
   "outputs": [
    {
     "name": "stdout",
     "output_type": "stream",
     "text": [
      "time.struct_time(tm_year=2020, tm_mon=2, tm_mday=28, tm_hour=15, tm_min=9, tm_sec=25, tm_wday=4, tm_yday=59, tm_isdst=0)\n",
      "Año: 2020\n",
      "Mes: 2\n",
      "Día: 28\n",
      "Hora: 15\n",
      "Minutos: 9\n",
      "Segundos: 25\n"
     ]
    }
   ],
   "source": [
    "print(time.localtime())\n",
    "print('Año:', time.localtime().tm_year)\n",
    "print('Mes:', time.localtime().tm_mon)\n",
    "print('Día:', time.localtime().tm_mday)\n",
    "print('Hora:', time.localtime().tm_hour)\n",
    "print('Minutos:', time.localtime().tm_min)\n",
    "print('Segundos:', time.localtime().tm_sec)"
   ]
  },
  {
   "cell_type": "markdown",
   "metadata": {},
   "source": [
    "## Cambio de idioma\n",
    "Por defecto los nombres de los días y meses se encuentran en inglés, pero podemos cambiar el idioma de configuración de Python, de la siguiente manera:\n",
    "\n",
    "https://docs.python.org/3/library/locale.html"
   ]
  },
  {
   "cell_type": "code",
   "execution_count": 81,
   "metadata": {},
   "outputs": [
    {
     "name": "stdout",
     "output_type": "stream",
     "text": [
      "viernes 28 febrero 2020 03:13\n",
      "viernes 28 de febrero de 2020 - 15:13\n"
     ]
    }
   ],
   "source": [
    "import locale\n",
    "\n",
    "# Idioma \"es-ES\" (código para el español de España)\n",
    "locale.setlocale(locale.LC_ALL, 'es-ES') \n",
    "\n",
    "print(datetime.now().strftime(\"%A %d %B %Y %I:%M\"))\n",
    "print(datetime.now().strftime(\"%A %d de %B de %Y - %H:%M\"))  # %I 12h - %H 24h"
   ]
  },
  {
   "cell_type": "markdown",
   "metadata": {},
   "source": [
    "Para terminar se acota que existen mucho más funcionalidades, sin embargo, acá solo se hizo foco en las comúnmente utilizadas."
   ]
  }
 ],
 "metadata": {
  "kernelspec": {
   "display_name": "Python 3",
   "language": "python",
   "name": "python3"
  },
  "language_info": {
   "codemirror_mode": {
    "name": "ipython",
    "version": 3
   },
   "file_extension": ".py",
   "mimetype": "text/x-python",
   "name": "python",
   "nbconvert_exporter": "python",
   "pygments_lexer": "ipython3",
   "version": "3.7.4"
  },
  "toc": {
   "base_numbering": 1,
   "nav_menu": {},
   "number_sections": true,
   "sideBar": true,
   "skip_h1_title": true,
   "title_cell": "Table of Contents",
   "title_sidebar": "Contents",
   "toc_cell": true,
   "toc_position": {
    "height": "calc(100% - 180px)",
    "left": "10px",
    "top": "150px",
    "width": "212px"
   },
   "toc_section_display": true,
   "toc_window_display": true
  }
 },
 "nbformat": 4,
 "nbformat_minor": 4
}
